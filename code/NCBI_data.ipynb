{
 "cells": [
  {
   "cell_type": "markdown",
   "metadata": {},
   "source": [
    "# Data pre-processing"
   ]
  },
  {
   "cell_type": "markdown",
   "metadata": {},
   "source": [
    "Import packages"
   ]
  },
  {
   "cell_type": "code",
   "execution_count": 1,
   "metadata": {},
   "outputs": [],
   "source": [
    "import os\n",
    "import numpy as np\n",
    "import pandas as pd\n",
    "pd.set_option('display.max_colwidth', None) \n",
    "pd.set_option('display.max_columns', None)\n",
    "pd.set_option('display.max_rows', None)\n",
    "import matplotlib.pyplot as plt\n",
    "\n",
    "from pathlib import Path\n",
    "from collections import Counter\n",
    "from itertools import chain\n",
    "from copy import deepcopy\n",
    "%matplotlib inline"
   ]
  },
  {
   "cell_type": "code",
   "execution_count": 2,
   "metadata": {},
   "outputs": [
    {
     "name": "stdout",
     "output_type": "stream",
     "text": [
      "base directory: c:\\Users\\jespe\\Documents\\GitHub_local\\ARFusion\n"
     ]
    }
   ],
   "source": [
    "# set the base directory\n",
    "base_dir = Path(os.path.abspath('')).parent\n",
    "os.chdir(base_dir)\n",
    "print(\"base directory:\", base_dir)"
   ]
  },
  {
   "cell_type": "markdown",
   "metadata": {},
   "source": [
    "## NCBI"
   ]
  },
  {
   "cell_type": "code",
   "execution_count": 3,
   "metadata": {},
   "outputs": [
    {
     "name": "stdout",
     "output_type": "stream",
     "text": [
      "NCBI data shape: (348317, 66)\n",
      "NCBI number of samples: 348,317\n"
     ]
    }
   ],
   "source": [
    "NCBI_data = pd.read_csv('data/raw/NCBI.tsv', sep='\\t', low_memory=False)\n",
    "print(\"NCBI data shape:\", NCBI_data.shape)\n",
    "print(f\"NCBI number of samples: {NCBI_data.shape[0]:,}\")"
   ]
  },
  {
   "cell_type": "code",
   "execution_count": 4,
   "metadata": {},
   "outputs": [
    {
     "name": "stdout",
     "output_type": "stream",
     "text": [
      "NCBI data columns: Index(['#label', 'FDA_lab_id', 'HHS_region', 'IFSAC_category', 'LibraryLayout',\n",
      "       'PFGE_PrimaryEnzyme_pattern', 'PFGE_SecondaryEnzyme_pattern',\n",
      "       'Platform', 'Run', 'asm_acc', 'asm_level', 'asm_stats_contig_n50',\n",
      "       'asm_stats_length_bp', 'asm_stats_n_contig', 'assembly_method',\n",
      "       'attribute_package', 'bioproject_acc', 'bioproject_center',\n",
      "       'biosample_acc', 'isolate_identifiers', 'collected_by',\n",
      "       'collection_date', 'epi_type', 'fullasm_id', 'geo_loc_name', 'host',\n",
      "       'host_disease', 'isolation_source', 'lat_lon', 'ontological_term',\n",
      "       'outbreak', 'sample_name', 'scientific_name', 'serovar', 'source_type',\n",
      "       'species_taxid', 'sra_center', 'sra_release_date', 'strain',\n",
      "       'sequenced_by', 'project_name', 'target_acc', 'target_creation_date',\n",
      "       'taxid', 'wgs_acc_prefix', 'wgs_master_acc', 'minsame', 'mindiff',\n",
      "       'computed_types', 'number_drugs_resistant', 'number_drugs_intermediate',\n",
      "       'number_drugs_susceptible', 'number_drugs_tested', 'number_amr_genes',\n",
      "       'number_core_amr_genes', 'AST_phenotypes', 'AMR_genotypes',\n",
      "       'AMR_genotypes_core', 'number_stress_genes', 'stress_genotypes',\n",
      "       'number_virulence_genes', 'virulence_genotypes', 'amrfinder_version',\n",
      "       'refgene_db_version', 'amrfinder_analysis_type', 'amrfinder_applied'],\n",
      "      dtype='object')\n"
     ]
    }
   ],
   "source": [
    "print(\"NCBI data columns:\", NCBI_data.columns)"
   ]
  },
  {
   "cell_type": "code",
   "execution_count": 5,
   "metadata": {},
   "outputs": [
    {
     "data": {
      "text/html": [
       "<div>\n",
       "<style scoped>\n",
       "    .dataframe tbody tr th:only-of-type {\n",
       "        vertical-align: middle;\n",
       "    }\n",
       "\n",
       "    .dataframe tbody tr th {\n",
       "        vertical-align: top;\n",
       "    }\n",
       "\n",
       "    .dataframe thead th {\n",
       "        text-align: right;\n",
       "    }\n",
       "</style>\n",
       "<table border=\"1\" class=\"dataframe\">\n",
       "  <thead>\n",
       "    <tr style=\"text-align: right;\">\n",
       "      <th></th>\n",
       "      <th>#label</th>\n",
       "      <th>FDA_lab_id</th>\n",
       "      <th>HHS_region</th>\n",
       "      <th>IFSAC_category</th>\n",
       "      <th>LibraryLayout</th>\n",
       "      <th>PFGE_PrimaryEnzyme_pattern</th>\n",
       "      <th>PFGE_SecondaryEnzyme_pattern</th>\n",
       "      <th>Platform</th>\n",
       "      <th>Run</th>\n",
       "      <th>asm_acc</th>\n",
       "      <th>asm_level</th>\n",
       "      <th>asm_stats_contig_n50</th>\n",
       "      <th>asm_stats_length_bp</th>\n",
       "      <th>asm_stats_n_contig</th>\n",
       "      <th>assembly_method</th>\n",
       "      <th>attribute_package</th>\n",
       "      <th>bioproject_acc</th>\n",
       "      <th>bioproject_center</th>\n",
       "      <th>biosample_acc</th>\n",
       "      <th>isolate_identifiers</th>\n",
       "      <th>collected_by</th>\n",
       "      <th>collection_date</th>\n",
       "      <th>epi_type</th>\n",
       "      <th>fullasm_id</th>\n",
       "      <th>geo_loc_name</th>\n",
       "      <th>host</th>\n",
       "      <th>host_disease</th>\n",
       "      <th>isolation_source</th>\n",
       "      <th>lat_lon</th>\n",
       "      <th>ontological_term</th>\n",
       "      <th>outbreak</th>\n",
       "      <th>sample_name</th>\n",
       "      <th>scientific_name</th>\n",
       "      <th>serovar</th>\n",
       "      <th>source_type</th>\n",
       "      <th>species_taxid</th>\n",
       "      <th>sra_center</th>\n",
       "      <th>sra_release_date</th>\n",
       "      <th>strain</th>\n",
       "      <th>sequenced_by</th>\n",
       "      <th>project_name</th>\n",
       "      <th>target_acc</th>\n",
       "      <th>target_creation_date</th>\n",
       "      <th>taxid</th>\n",
       "      <th>wgs_acc_prefix</th>\n",
       "      <th>wgs_master_acc</th>\n",
       "      <th>minsame</th>\n",
       "      <th>mindiff</th>\n",
       "      <th>computed_types</th>\n",
       "      <th>number_drugs_resistant</th>\n",
       "      <th>number_drugs_intermediate</th>\n",
       "      <th>number_drugs_susceptible</th>\n",
       "      <th>number_drugs_tested</th>\n",
       "      <th>number_amr_genes</th>\n",
       "      <th>number_core_amr_genes</th>\n",
       "      <th>AST_phenotypes</th>\n",
       "      <th>AMR_genotypes</th>\n",
       "      <th>AMR_genotypes_core</th>\n",
       "      <th>number_stress_genes</th>\n",
       "      <th>stress_genotypes</th>\n",
       "      <th>number_virulence_genes</th>\n",
       "      <th>virulence_genotypes</th>\n",
       "      <th>amrfinder_version</th>\n",
       "      <th>refgene_db_version</th>\n",
       "      <th>amrfinder_analysis_type</th>\n",
       "      <th>amrfinder_applied</th>\n",
       "    </tr>\n",
       "  </thead>\n",
       "  <tbody>\n",
       "    <tr>\n",
       "      <th>0</th>\n",
       "      <td>PDT000002365.3|SAMN02368173|GCA_012802165.1|Escherichia coli||ESC0165|Pathogen: clinical or host-associated</td>\n",
       "      <td>NaN</td>\n",
       "      <td>NaN</td>\n",
       "      <td>NaN</td>\n",
       "      <td>PAIRED</td>\n",
       "      <td>NaN</td>\n",
       "      <td>NaN</td>\n",
       "      <td>ILLUMINA</td>\n",
       "      <td>SRR1060511</td>\n",
       "      <td>GCA_012802165.1</td>\n",
       "      <td>Contig</td>\n",
       "      <td>134039</td>\n",
       "      <td>4718827</td>\n",
       "      <td>88</td>\n",
       "      <td>SKESA v. 2.2</td>\n",
       "      <td>Pathogen: clinical or host-associated</td>\n",
       "      <td>PRJNA203445</td>\n",
       "      <td>University of California at Davis</td>\n",
       "      <td>SAMN02368173</td>\n",
       "      <td>BCW_2912,\"CFSAN005754\",\"ESC0165\",\"SRS519863\"</td>\n",
       "      <td>FDA</td>\n",
       "      <td>NaN</td>\n",
       "      <td>clinical</td>\n",
       "      <td>19221148.0</td>\n",
       "      <td>USA</td>\n",
       "      <td>Homo sapiens</td>\n",
       "      <td>NaN</td>\n",
       "      <td>human</td>\n",
       "      <td>NaN</td>\n",
       "      <td>NaN</td>\n",
       "      <td>NaN</td>\n",
       "      <td>BCW_2912</td>\n",
       "      <td>Escherichia coli</td>\n",
       "      <td>NaN</td>\n",
       "      <td>NaN</td>\n",
       "      <td>562</td>\n",
       "      <td>UCD-100K</td>\n",
       "      <td>2015-07-22</td>\n",
       "      <td>ESC0165</td>\n",
       "      <td>NaN</td>\n",
       "      <td>NaN</td>\n",
       "      <td>PDT000002365.3</td>\n",
       "      <td>2015-09-14</td>\n",
       "      <td>562</td>\n",
       "      <td>DABDQO</td>\n",
       "      <td>DABDQO000000000.1</td>\n",
       "      <td>NaN</td>\n",
       "      <td>NaN</td>\n",
       "      <td>NaN</td>\n",
       "      <td>0</td>\n",
       "      <td>0</td>\n",
       "      <td>0</td>\n",
       "      <td>0</td>\n",
       "      <td>3</td>\n",
       "      <td>0</td>\n",
       "      <td>NaN</td>\n",
       "      <td>acrF,blaEC,mdtM</td>\n",
       "      <td>NaN</td>\n",
       "      <td>2</td>\n",
       "      <td>ariR,emrE</td>\n",
       "      <td>3</td>\n",
       "      <td>astA,espX1=PARTIAL,fdeC</td>\n",
       "      <td>3.11.26</td>\n",
       "      <td>2023-08-08.2</td>\n",
       "      <td>COMBINED</td>\n",
       "      <td>1</td>\n",
       "    </tr>\n",
       "    <tr>\n",
       "      <th>1</th>\n",
       "      <td>PDT000002366.3|SAMN02368174|GCA_012802195.1|Escherichia coli||ESC0167|Pathogen: environmental/food/other</td>\n",
       "      <td>NaN</td>\n",
       "      <td>NaN</td>\n",
       "      <td>NaN</td>\n",
       "      <td>PAIRED</td>\n",
       "      <td>NaN</td>\n",
       "      <td>NaN</td>\n",
       "      <td>ILLUMINA</td>\n",
       "      <td>SRR1060510</td>\n",
       "      <td>GCA_012802195.1</td>\n",
       "      <td>Contig</td>\n",
       "      <td>73843</td>\n",
       "      <td>4931067</td>\n",
       "      <td>157</td>\n",
       "      <td>SKESA v. 2.2</td>\n",
       "      <td>Pathogen: environmental/food/other</td>\n",
       "      <td>PRJNA203445</td>\n",
       "      <td>University of California at Davis</td>\n",
       "      <td>SAMN02368174</td>\n",
       "      <td>BCW_2914,\"CFSAN005756\",\"ESC0167\",\"SRS519864\"</td>\n",
       "      <td>FDA</td>\n",
       "      <td>NaN</td>\n",
       "      <td>environmental/other</td>\n",
       "      <td>19221188.0</td>\n",
       "      <td>USA</td>\n",
       "      <td>NaN</td>\n",
       "      <td>NaN</td>\n",
       "      <td>dog</td>\n",
       "      <td>NaN</td>\n",
       "      <td>NaN</td>\n",
       "      <td>NaN</td>\n",
       "      <td>BCW_2914</td>\n",
       "      <td>Escherichia coli</td>\n",
       "      <td>NaN</td>\n",
       "      <td>NaN</td>\n",
       "      <td>562</td>\n",
       "      <td>UCD-100K</td>\n",
       "      <td>2015-07-22</td>\n",
       "      <td>ESC0167</td>\n",
       "      <td>NaN</td>\n",
       "      <td>NaN</td>\n",
       "      <td>PDT000002366.3</td>\n",
       "      <td>2015-09-14</td>\n",
       "      <td>562</td>\n",
       "      <td>DABDQN</td>\n",
       "      <td>DABDQN000000000.1</td>\n",
       "      <td>NaN</td>\n",
       "      <td>NaN</td>\n",
       "      <td>NaN</td>\n",
       "      <td>0</td>\n",
       "      <td>0</td>\n",
       "      <td>0</td>\n",
       "      <td>0</td>\n",
       "      <td>6</td>\n",
       "      <td>3</td>\n",
       "      <td>NaN</td>\n",
       "      <td>aadA1,acrF,blaEC,mdtM,sul1,tet(A)</td>\n",
       "      <td>aadA1,sul1,tet(A)</td>\n",
       "      <td>9</td>\n",
       "      <td>ariR,merA=HMM,merC,merD=HMM,merE=HMM,merP,merR,merT,qacEdelta1</td>\n",
       "      <td>1</td>\n",
       "      <td>espX1=PARTIAL</td>\n",
       "      <td>3.11.26</td>\n",
       "      <td>2023-08-08.2</td>\n",
       "      <td>COMBINED</td>\n",
       "      <td>1</td>\n",
       "    </tr>\n",
       "    <tr>\n",
       "      <th>2</th>\n",
       "      <td>PDT000002367.3|SAMN02368180|GCA_012802235.1|Escherichia coli||ESC0176|Pathogen: clinical or host-associated</td>\n",
       "      <td>NaN</td>\n",
       "      <td>NaN</td>\n",
       "      <td>NaN</td>\n",
       "      <td>PAIRED</td>\n",
       "      <td>NaN</td>\n",
       "      <td>NaN</td>\n",
       "      <td>ILLUMINA</td>\n",
       "      <td>SRR1060509</td>\n",
       "      <td>GCA_012802235.1</td>\n",
       "      <td>Contig</td>\n",
       "      <td>81293</td>\n",
       "      <td>5045269</td>\n",
       "      <td>220</td>\n",
       "      <td>SKESA v. 2.2</td>\n",
       "      <td>Pathogen: clinical or host-associated</td>\n",
       "      <td>PRJNA203445</td>\n",
       "      <td>University of California at Davis</td>\n",
       "      <td>SAMN02368180</td>\n",
       "      <td>BCW_2923,\"CFSAN005765\",\"ESC0176\",\"SRS519865\"</td>\n",
       "      <td>FDA</td>\n",
       "      <td>NaN</td>\n",
       "      <td>clinical</td>\n",
       "      <td>19221208.0</td>\n",
       "      <td>Sweden</td>\n",
       "      <td>Homo sapiens</td>\n",
       "      <td>NaN</td>\n",
       "      <td>human</td>\n",
       "      <td>NaN</td>\n",
       "      <td>NaN</td>\n",
       "      <td>NaN</td>\n",
       "      <td>BCW_2923</td>\n",
       "      <td>Escherichia coli</td>\n",
       "      <td>NaN</td>\n",
       "      <td>NaN</td>\n",
       "      <td>562</td>\n",
       "      <td>UCD-100K</td>\n",
       "      <td>2015-07-22</td>\n",
       "      <td>ESC0176</td>\n",
       "      <td>NaN</td>\n",
       "      <td>NaN</td>\n",
       "      <td>PDT000002367.3</td>\n",
       "      <td>2015-09-14</td>\n",
       "      <td>562</td>\n",
       "      <td>DABDQR</td>\n",
       "      <td>DABDQR000000000.1</td>\n",
       "      <td>NaN</td>\n",
       "      <td>NaN</td>\n",
       "      <td>NaN</td>\n",
       "      <td>0</td>\n",
       "      <td>0</td>\n",
       "      <td>0</td>\n",
       "      <td>0</td>\n",
       "      <td>3</td>\n",
       "      <td>0</td>\n",
       "      <td>NaN</td>\n",
       "      <td>acrF,blaEC,mdtM</td>\n",
       "      <td>NaN</td>\n",
       "      <td>2</td>\n",
       "      <td>ariR,emrE</td>\n",
       "      <td>5</td>\n",
       "      <td>espX1=PARTIAL,fdeC,iha,mchB,mchF</td>\n",
       "      <td>3.11.26</td>\n",
       "      <td>2023-08-08.2</td>\n",
       "      <td>COMBINED</td>\n",
       "      <td>1</td>\n",
       "    </tr>\n",
       "    <tr>\n",
       "      <th>3</th>\n",
       "      <td>PDT000002368.3|SAMN02368181|GCA_012802275.1|Escherichia coli||ESC0178|Pathogen: clinical or host-associated</td>\n",
       "      <td>NaN</td>\n",
       "      <td>NaN</td>\n",
       "      <td>NaN</td>\n",
       "      <td>PAIRED</td>\n",
       "      <td>NaN</td>\n",
       "      <td>NaN</td>\n",
       "      <td>ILLUMINA</td>\n",
       "      <td>SRR1060508</td>\n",
       "      <td>GCA_012802275.1</td>\n",
       "      <td>Contig</td>\n",
       "      <td>85880</td>\n",
       "      <td>4922402</td>\n",
       "      <td>145</td>\n",
       "      <td>SKESA v. 2.2</td>\n",
       "      <td>Pathogen: clinical or host-associated</td>\n",
       "      <td>PRJNA203445</td>\n",
       "      <td>University of California at Davis</td>\n",
       "      <td>SAMN02368181</td>\n",
       "      <td>BCW_2925,\"CFSAN005767\",\"ESC0178\",\"SRS519866\"</td>\n",
       "      <td>FDA</td>\n",
       "      <td>NaN</td>\n",
       "      <td>clinical</td>\n",
       "      <td>19221248.0</td>\n",
       "      <td>Sweden</td>\n",
       "      <td>Homo sapiens</td>\n",
       "      <td>NaN</td>\n",
       "      <td>human</td>\n",
       "      <td>NaN</td>\n",
       "      <td>NaN</td>\n",
       "      <td>NaN</td>\n",
       "      <td>BCW_2925</td>\n",
       "      <td>Escherichia coli</td>\n",
       "      <td>NaN</td>\n",
       "      <td>NaN</td>\n",
       "      <td>562</td>\n",
       "      <td>UCD-100K</td>\n",
       "      <td>2015-07-22</td>\n",
       "      <td>ESC0178</td>\n",
       "      <td>NaN</td>\n",
       "      <td>NaN</td>\n",
       "      <td>PDT000002368.3</td>\n",
       "      <td>2015-09-14</td>\n",
       "      <td>562</td>\n",
       "      <td>DABDQQ</td>\n",
       "      <td>DABDQQ000000000.1</td>\n",
       "      <td>NaN</td>\n",
       "      <td>NaN</td>\n",
       "      <td>NaN</td>\n",
       "      <td>0</td>\n",
       "      <td>0</td>\n",
       "      <td>0</td>\n",
       "      <td>0</td>\n",
       "      <td>3</td>\n",
       "      <td>0</td>\n",
       "      <td>NaN</td>\n",
       "      <td>acrF,blaEC,mdtM</td>\n",
       "      <td>NaN</td>\n",
       "      <td>26</td>\n",
       "      <td>ariR,clpK,emrE,hdeD-GI,hsp20,kefB-GI,pcoA,pcoB,pcoC,pcoD,pcoE,pcoR,pcoS,psi-GI,shsP,silA,silB,silC,silE,silF,silP,silR,silS,trxLHR,yfdX1,yfdX2</td>\n",
       "      <td>2</td>\n",
       "      <td>fdeC,sslE=HMM</td>\n",
       "      <td>3.11.26</td>\n",
       "      <td>2023-08-08.2</td>\n",
       "      <td>COMBINED</td>\n",
       "      <td>1</td>\n",
       "    </tr>\n",
       "    <tr>\n",
       "      <th>4</th>\n",
       "      <td>PDT000002369.3|SAMN02368184|GCA_012802315.1|Escherichia coli||ESC0182|Pathogen: environmental/food/other</td>\n",
       "      <td>NaN</td>\n",
       "      <td>NaN</td>\n",
       "      <td>NaN</td>\n",
       "      <td>PAIRED</td>\n",
       "      <td>NaN</td>\n",
       "      <td>NaN</td>\n",
       "      <td>ILLUMINA</td>\n",
       "      <td>SRR1060507</td>\n",
       "      <td>GCA_012802315.1</td>\n",
       "      <td>Contig</td>\n",
       "      <td>83886</td>\n",
       "      <td>4647912</td>\n",
       "      <td>126</td>\n",
       "      <td>SKESA v. 2.2</td>\n",
       "      <td>Pathogen: environmental/food/other</td>\n",
       "      <td>PRJNA203445</td>\n",
       "      <td>University of California at Davis</td>\n",
       "      <td>SAMN02368184</td>\n",
       "      <td>BCW_2929,\"CFSAN005771\",\"ESC0182\",\"SRS519867\"</td>\n",
       "      <td>FDA</td>\n",
       "      <td>NaN</td>\n",
       "      <td>environmental/other</td>\n",
       "      <td>19221308.0</td>\n",
       "      <td>USA:WA</td>\n",
       "      <td>NaN</td>\n",
       "      <td>NaN</td>\n",
       "      <td>Celebese ape</td>\n",
       "      <td>NaN</td>\n",
       "      <td>NaN</td>\n",
       "      <td>NaN</td>\n",
       "      <td>BCW_2929</td>\n",
       "      <td>Escherichia coli</td>\n",
       "      <td>NaN</td>\n",
       "      <td>NaN</td>\n",
       "      <td>562</td>\n",
       "      <td>UCD-100K</td>\n",
       "      <td>2015-07-22</td>\n",
       "      <td>ESC0182</td>\n",
       "      <td>NaN</td>\n",
       "      <td>NaN</td>\n",
       "      <td>PDT000002369.3</td>\n",
       "      <td>2015-09-14</td>\n",
       "      <td>562</td>\n",
       "      <td>DABDQS</td>\n",
       "      <td>DABDQS000000000.1</td>\n",
       "      <td>NaN</td>\n",
       "      <td>NaN</td>\n",
       "      <td>NaN</td>\n",
       "      <td>0</td>\n",
       "      <td>0</td>\n",
       "      <td>0</td>\n",
       "      <td>0</td>\n",
       "      <td>7</td>\n",
       "      <td>4</td>\n",
       "      <td>NaN</td>\n",
       "      <td>acrF,aph(3'')-Ib,aph(6)-Id,blaEC,mdtM,sul2,tet(A)</td>\n",
       "      <td>aph(3'')-Ib,aph(6)-Id,sul2,tet(A)</td>\n",
       "      <td>10</td>\n",
       "      <td>ariR,clpK,hdeD-GI,hsp20,kefB-GI,psi-GI,shsP,trxLHR,yfdX1,yfdX2</td>\n",
       "      <td>3</td>\n",
       "      <td>espX1=PARTIAL,fdeC,iss</td>\n",
       "      <td>3.11.26</td>\n",
       "      <td>2023-08-08.2</td>\n",
       "      <td>COMBINED</td>\n",
       "      <td>1</td>\n",
       "    </tr>\n",
       "  </tbody>\n",
       "</table>\n",
       "</div>"
      ],
      "text/plain": [
       "                                                                                                        #label  \\\n",
       "0  PDT000002365.3|SAMN02368173|GCA_012802165.1|Escherichia coli||ESC0165|Pathogen: clinical or host-associated   \n",
       "1     PDT000002366.3|SAMN02368174|GCA_012802195.1|Escherichia coli||ESC0167|Pathogen: environmental/food/other   \n",
       "2  PDT000002367.3|SAMN02368180|GCA_012802235.1|Escherichia coli||ESC0176|Pathogen: clinical or host-associated   \n",
       "3  PDT000002368.3|SAMN02368181|GCA_012802275.1|Escherichia coli||ESC0178|Pathogen: clinical or host-associated   \n",
       "4     PDT000002369.3|SAMN02368184|GCA_012802315.1|Escherichia coli||ESC0182|Pathogen: environmental/food/other   \n",
       "\n",
       "  FDA_lab_id  HHS_region IFSAC_category LibraryLayout  \\\n",
       "0        NaN         NaN            NaN        PAIRED   \n",
       "1        NaN         NaN            NaN        PAIRED   \n",
       "2        NaN         NaN            NaN        PAIRED   \n",
       "3        NaN         NaN            NaN        PAIRED   \n",
       "4        NaN         NaN            NaN        PAIRED   \n",
       "\n",
       "  PFGE_PrimaryEnzyme_pattern PFGE_SecondaryEnzyme_pattern  Platform  \\\n",
       "0                        NaN                          NaN  ILLUMINA   \n",
       "1                        NaN                          NaN  ILLUMINA   \n",
       "2                        NaN                          NaN  ILLUMINA   \n",
       "3                        NaN                          NaN  ILLUMINA   \n",
       "4                        NaN                          NaN  ILLUMINA   \n",
       "\n",
       "          Run          asm_acc asm_level  asm_stats_contig_n50  \\\n",
       "0  SRR1060511  GCA_012802165.1    Contig                134039   \n",
       "1  SRR1060510  GCA_012802195.1    Contig                 73843   \n",
       "2  SRR1060509  GCA_012802235.1    Contig                 81293   \n",
       "3  SRR1060508  GCA_012802275.1    Contig                 85880   \n",
       "4  SRR1060507  GCA_012802315.1    Contig                 83886   \n",
       "\n",
       "   asm_stats_length_bp  asm_stats_n_contig assembly_method  \\\n",
       "0              4718827                  88    SKESA v. 2.2   \n",
       "1              4931067                 157    SKESA v. 2.2   \n",
       "2              5045269                 220    SKESA v. 2.2   \n",
       "3              4922402                 145    SKESA v. 2.2   \n",
       "4              4647912                 126    SKESA v. 2.2   \n",
       "\n",
       "                       attribute_package bioproject_acc  \\\n",
       "0  Pathogen: clinical or host-associated    PRJNA203445   \n",
       "1     Pathogen: environmental/food/other    PRJNA203445   \n",
       "2  Pathogen: clinical or host-associated    PRJNA203445   \n",
       "3  Pathogen: clinical or host-associated    PRJNA203445   \n",
       "4     Pathogen: environmental/food/other    PRJNA203445   \n",
       "\n",
       "                   bioproject_center biosample_acc  \\\n",
       "0  University of California at Davis  SAMN02368173   \n",
       "1  University of California at Davis  SAMN02368174   \n",
       "2  University of California at Davis  SAMN02368180   \n",
       "3  University of California at Davis  SAMN02368181   \n",
       "4  University of California at Davis  SAMN02368184   \n",
       "\n",
       "                            isolate_identifiers collected_by collection_date  \\\n",
       "0  BCW_2912,\"CFSAN005754\",\"ESC0165\",\"SRS519863\"          FDA             NaN   \n",
       "1  BCW_2914,\"CFSAN005756\",\"ESC0167\",\"SRS519864\"          FDA             NaN   \n",
       "2  BCW_2923,\"CFSAN005765\",\"ESC0176\",\"SRS519865\"          FDA             NaN   \n",
       "3  BCW_2925,\"CFSAN005767\",\"ESC0178\",\"SRS519866\"          FDA             NaN   \n",
       "4  BCW_2929,\"CFSAN005771\",\"ESC0182\",\"SRS519867\"          FDA             NaN   \n",
       "\n",
       "              epi_type  fullasm_id geo_loc_name          host host_disease  \\\n",
       "0             clinical  19221148.0          USA  Homo sapiens          NaN   \n",
       "1  environmental/other  19221188.0          USA           NaN          NaN   \n",
       "2             clinical  19221208.0       Sweden  Homo sapiens          NaN   \n",
       "3             clinical  19221248.0       Sweden  Homo sapiens          NaN   \n",
       "4  environmental/other  19221308.0       USA:WA           NaN          NaN   \n",
       "\n",
       "  isolation_source lat_lon ontological_term outbreak sample_name  \\\n",
       "0            human     NaN              NaN      NaN    BCW_2912   \n",
       "1              dog     NaN              NaN      NaN    BCW_2914   \n",
       "2            human     NaN              NaN      NaN    BCW_2923   \n",
       "3            human     NaN              NaN      NaN    BCW_2925   \n",
       "4     Celebese ape     NaN              NaN      NaN    BCW_2929   \n",
       "\n",
       "    scientific_name serovar source_type  species_taxid sra_center  \\\n",
       "0  Escherichia coli     NaN         NaN            562   UCD-100K   \n",
       "1  Escherichia coli     NaN         NaN            562   UCD-100K   \n",
       "2  Escherichia coli     NaN         NaN            562   UCD-100K   \n",
       "3  Escherichia coli     NaN         NaN            562   UCD-100K   \n",
       "4  Escherichia coli     NaN         NaN            562   UCD-100K   \n",
       "\n",
       "  sra_release_date   strain sequenced_by project_name      target_acc  \\\n",
       "0       2015-07-22  ESC0165          NaN          NaN  PDT000002365.3   \n",
       "1       2015-07-22  ESC0167          NaN          NaN  PDT000002366.3   \n",
       "2       2015-07-22  ESC0176          NaN          NaN  PDT000002367.3   \n",
       "3       2015-07-22  ESC0178          NaN          NaN  PDT000002368.3   \n",
       "4       2015-07-22  ESC0182          NaN          NaN  PDT000002369.3   \n",
       "\n",
       "  target_creation_date  taxid wgs_acc_prefix     wgs_master_acc  minsame  \\\n",
       "0           2015-09-14    562         DABDQO  DABDQO000000000.1      NaN   \n",
       "1           2015-09-14    562         DABDQN  DABDQN000000000.1      NaN   \n",
       "2           2015-09-14    562         DABDQR  DABDQR000000000.1      NaN   \n",
       "3           2015-09-14    562         DABDQQ  DABDQQ000000000.1      NaN   \n",
       "4           2015-09-14    562         DABDQS  DABDQS000000000.1      NaN   \n",
       "\n",
       "   mindiff  computed_types  number_drugs_resistant  number_drugs_intermediate  \\\n",
       "0      NaN             NaN                       0                          0   \n",
       "1      NaN             NaN                       0                          0   \n",
       "2      NaN             NaN                       0                          0   \n",
       "3      NaN             NaN                       0                          0   \n",
       "4      NaN             NaN                       0                          0   \n",
       "\n",
       "   number_drugs_susceptible  number_drugs_tested  number_amr_genes  \\\n",
       "0                         0                    0                 3   \n",
       "1                         0                    0                 6   \n",
       "2                         0                    0                 3   \n",
       "3                         0                    0                 3   \n",
       "4                         0                    0                 7   \n",
       "\n",
       "   number_core_amr_genes AST_phenotypes  \\\n",
       "0                      0            NaN   \n",
       "1                      3            NaN   \n",
       "2                      0            NaN   \n",
       "3                      0            NaN   \n",
       "4                      4            NaN   \n",
       "\n",
       "                                       AMR_genotypes  \\\n",
       "0                                    acrF,blaEC,mdtM   \n",
       "1                  aadA1,acrF,blaEC,mdtM,sul1,tet(A)   \n",
       "2                                    acrF,blaEC,mdtM   \n",
       "3                                    acrF,blaEC,mdtM   \n",
       "4  acrF,aph(3'')-Ib,aph(6)-Id,blaEC,mdtM,sul2,tet(A)   \n",
       "\n",
       "                  AMR_genotypes_core  number_stress_genes  \\\n",
       "0                                NaN                    2   \n",
       "1                  aadA1,sul1,tet(A)                    9   \n",
       "2                                NaN                    2   \n",
       "3                                NaN                   26   \n",
       "4  aph(3'')-Ib,aph(6)-Id,sul2,tet(A)                   10   \n",
       "\n",
       "                                                                                                                                 stress_genotypes  \\\n",
       "0                                                                                                                                       ariR,emrE   \n",
       "1                                                                                  ariR,merA=HMM,merC,merD=HMM,merE=HMM,merP,merR,merT,qacEdelta1   \n",
       "2                                                                                                                                       ariR,emrE   \n",
       "3  ariR,clpK,emrE,hdeD-GI,hsp20,kefB-GI,pcoA,pcoB,pcoC,pcoD,pcoE,pcoR,pcoS,psi-GI,shsP,silA,silB,silC,silE,silF,silP,silR,silS,trxLHR,yfdX1,yfdX2   \n",
       "4                                                                                  ariR,clpK,hdeD-GI,hsp20,kefB-GI,psi-GI,shsP,trxLHR,yfdX1,yfdX2   \n",
       "\n",
       "   number_virulence_genes               virulence_genotypes amrfinder_version  \\\n",
       "0                       3           astA,espX1=PARTIAL,fdeC           3.11.26   \n",
       "1                       1                     espX1=PARTIAL           3.11.26   \n",
       "2                       5  espX1=PARTIAL,fdeC,iha,mchB,mchF           3.11.26   \n",
       "3                       2                     fdeC,sslE=HMM           3.11.26   \n",
       "4                       3            espX1=PARTIAL,fdeC,iss           3.11.26   \n",
       "\n",
       "  refgene_db_version amrfinder_analysis_type  amrfinder_applied  \n",
       "0       2023-08-08.2                COMBINED                  1  \n",
       "1       2023-08-08.2                COMBINED                  1  \n",
       "2       2023-08-08.2                COMBINED                  1  \n",
       "3       2023-08-08.2                COMBINED                  1  \n",
       "4       2023-08-08.2                COMBINED                  1  "
      ]
     },
     "execution_count": 5,
     "metadata": {},
     "output_type": "execute_result"
    }
   ],
   "source": [
    "pd.set_option('display.max_rows', None)\n",
    "pd.set_option('display.max_columns', None)\n",
    "NCBI_data.head()"
   ]
  },
  {
   "cell_type": "markdown",
   "metadata": {},
   "source": [
    "## Parsing and Data Exploration"
   ]
  },
  {
   "cell_type": "code",
   "execution_count": 6,
   "metadata": {},
   "outputs": [
    {
     "data": {
      "text/html": [
       "<div>\n",
       "<style scoped>\n",
       "    .dataframe tbody tr th:only-of-type {\n",
       "        vertical-align: middle;\n",
       "    }\n",
       "\n",
       "    .dataframe tbody tr th {\n",
       "        vertical-align: top;\n",
       "    }\n",
       "\n",
       "    .dataframe thead th {\n",
       "        text-align: right;\n",
       "    }\n",
       "</style>\n",
       "<table border=\"1\" class=\"dataframe\">\n",
       "  <thead>\n",
       "    <tr style=\"text-align: right;\">\n",
       "      <th></th>\n",
       "      <th>collection_date</th>\n",
       "      <th>geo_loc_name</th>\n",
       "      <th>host</th>\n",
       "      <th>scientific_name</th>\n",
       "      <th>AST_phenotypes</th>\n",
       "      <th>AMR_genotypes_core</th>\n",
       "      <th>AMR_genotypes</th>\n",
       "    </tr>\n",
       "  </thead>\n",
       "  <tbody>\n",
       "    <tr>\n",
       "      <th>0</th>\n",
       "      <td>NaN</td>\n",
       "      <td>USA</td>\n",
       "      <td>Homo sapiens</td>\n",
       "      <td>Escherichia coli</td>\n",
       "      <td>NaN</td>\n",
       "      <td>NaN</td>\n",
       "      <td>acrF,blaEC,mdtM</td>\n",
       "    </tr>\n",
       "    <tr>\n",
       "      <th>1</th>\n",
       "      <td>NaN</td>\n",
       "      <td>USA</td>\n",
       "      <td>NaN</td>\n",
       "      <td>Escherichia coli</td>\n",
       "      <td>NaN</td>\n",
       "      <td>aadA1,sul1,tet(A)</td>\n",
       "      <td>aadA1,acrF,blaEC,mdtM,sul1,tet(A)</td>\n",
       "    </tr>\n",
       "    <tr>\n",
       "      <th>2</th>\n",
       "      <td>NaN</td>\n",
       "      <td>Sweden</td>\n",
       "      <td>Homo sapiens</td>\n",
       "      <td>Escherichia coli</td>\n",
       "      <td>NaN</td>\n",
       "      <td>NaN</td>\n",
       "      <td>acrF,blaEC,mdtM</td>\n",
       "    </tr>\n",
       "    <tr>\n",
       "      <th>3</th>\n",
       "      <td>NaN</td>\n",
       "      <td>Sweden</td>\n",
       "      <td>Homo sapiens</td>\n",
       "      <td>Escherichia coli</td>\n",
       "      <td>NaN</td>\n",
       "      <td>NaN</td>\n",
       "      <td>acrF,blaEC,mdtM</td>\n",
       "    </tr>\n",
       "    <tr>\n",
       "      <th>4</th>\n",
       "      <td>NaN</td>\n",
       "      <td>USA:WA</td>\n",
       "      <td>NaN</td>\n",
       "      <td>Escherichia coli</td>\n",
       "      <td>NaN</td>\n",
       "      <td>aph(3'')-Ib,aph(6)-Id,sul2,tet(A)</td>\n",
       "      <td>acrF,aph(3'')-Ib,aph(6)-Id,blaEC,mdtM,sul2,tet(A)</td>\n",
       "    </tr>\n",
       "  </tbody>\n",
       "</table>\n",
       "</div>"
      ],
      "text/plain": [
       "  collection_date geo_loc_name          host   scientific_name AST_phenotypes  \\\n",
       "0             NaN          USA  Homo sapiens  Escherichia coli            NaN   \n",
       "1             NaN          USA           NaN  Escherichia coli            NaN   \n",
       "2             NaN       Sweden  Homo sapiens  Escherichia coli            NaN   \n",
       "3             NaN       Sweden  Homo sapiens  Escherichia coli            NaN   \n",
       "4             NaN       USA:WA           NaN  Escherichia coli            NaN   \n",
       "\n",
       "                  AMR_genotypes_core  \\\n",
       "0                                NaN   \n",
       "1                  aadA1,sul1,tet(A)   \n",
       "2                                NaN   \n",
       "3                                NaN   \n",
       "4  aph(3'')-Ib,aph(6)-Id,sul2,tet(A)   \n",
       "\n",
       "                                       AMR_genotypes  \n",
       "0                                    acrF,blaEC,mdtM  \n",
       "1                  aadA1,acrF,blaEC,mdtM,sul1,tet(A)  \n",
       "2                                    acrF,blaEC,mdtM  \n",
       "3                                    acrF,blaEC,mdtM  \n",
       "4  acrF,aph(3'')-Ib,aph(6)-Id,blaEC,mdtM,sul2,tet(A)  "
      ]
     },
     "execution_count": 6,
     "metadata": {},
     "output_type": "execute_result"
    }
   ],
   "source": [
    "explore_columns = ['collection_date', 'geo_loc_name', 'host', 'scientific_name',\n",
    "                   'AST_phenotypes', 'AMR_genotypes_core', 'AMR_genotypes',] \n",
    "\n",
    "df_explore = NCBI_data[explore_columns]\n",
    "df_explore.head()"
   ]
  },
  {
   "cell_type": "code",
   "execution_count": 7,
   "metadata": {},
   "outputs": [
    {
     "name": "stdout",
     "output_type": "stream",
     "text": [
      "Basic information about the data:\n",
      "Number of samples: 348,317\n",
      "Number of samples with phenotype info: 7,817 (2.24%)\n",
      "Number of samples with genotype info: 342,801 (98.42%)\n",
      "Number of samples with both phenotype and genotype info: 7,678 (2.20%)\n",
      "Number of samples with neither phenotype nor genotype info: 5,377 (1.54%)\n"
     ]
    }
   ],
   "source": [
    "print(\"Basic information about the data:\")\n",
    "num_samples = df_explore.shape[0]\n",
    "num_pheno = df_explore['AST_phenotypes'].count()\n",
    "num_genotype = df_explore['AMR_genotypes_core'].count()\n",
    "\n",
    "print(f\"Number of samples: {num_samples:,}\")\n",
    "print(f\"Number of samples with phenotype info: {num_pheno:,} ({num_pheno/num_samples:.2%})\")\n",
    "print(f\"Number of samples with genotype info: {num_genotype:,} ({num_genotype/num_samples:.2%})\")\n",
    "\n",
    "df_overlap = df_explore[df_explore['AMR_genotypes_core'].notnull() & df_explore['AST_phenotypes'].notnull()]\n",
    "num_overlap_samples = df_overlap.shape[0]\n",
    "print(f\"Number of samples with both phenotype and genotype info: {num_overlap_samples:,}\\\n",
    " ({num_overlap_samples/num_samples:.2%})\")\n",
    "\n",
    "df_neither = df_explore[df_explore['AMR_genotypes_core'].isnull() & df_explore['AST_phenotypes'].isnull()]\n",
    "num_neither_samples = df_neither.shape[0]\n",
    "print(f\"Number of samples with neither phenotype nor genotype info: {num_neither_samples:,}\\\n",
    " ({num_neither_samples/num_samples:.2%})\")"
   ]
  },
  {
   "cell_type": "code",
   "execution_count": 8,
   "metadata": {},
   "outputs": [
    {
     "name": "stdout",
     "output_type": "stream",
     "text": [
      "Number of samples with genotype info: 342,801 (98.42%)\n"
     ]
    },
    {
     "data": {
      "text/html": [
       "<div>\n",
       "<style scoped>\n",
       "    .dataframe tbody tr th:only-of-type {\n",
       "        vertical-align: middle;\n",
       "    }\n",
       "\n",
       "    .dataframe tbody tr th {\n",
       "        vertical-align: top;\n",
       "    }\n",
       "\n",
       "    .dataframe thead th {\n",
       "        text-align: right;\n",
       "    }\n",
       "</style>\n",
       "<table border=\"1\" class=\"dataframe\">\n",
       "  <thead>\n",
       "    <tr style=\"text-align: right;\">\n",
       "      <th></th>\n",
       "      <th>collection_date</th>\n",
       "      <th>geo_loc_name</th>\n",
       "      <th>AMR_genotypes_core</th>\n",
       "      <th>AST_phenotypes</th>\n",
       "    </tr>\n",
       "  </thead>\n",
       "  <tbody>\n",
       "    <tr>\n",
       "      <th>1</th>\n",
       "      <td>NaN</td>\n",
       "      <td>USA</td>\n",
       "      <td>aadA1,sul1,tet(A)</td>\n",
       "      <td>NaN</td>\n",
       "    </tr>\n",
       "    <tr>\n",
       "      <th>4</th>\n",
       "      <td>NaN</td>\n",
       "      <td>USA:WA</td>\n",
       "      <td>aph(3'')-Ib,aph(6)-Id,sul2,tet(A)</td>\n",
       "      <td>NaN</td>\n",
       "    </tr>\n",
       "    <tr>\n",
       "      <th>5</th>\n",
       "      <td>NaN</td>\n",
       "      <td>USA:MA</td>\n",
       "      <td>glpT_E448K=POINT,pmrB_Y358N=POINT</td>\n",
       "      <td>NaN</td>\n",
       "    </tr>\n",
       "    <tr>\n",
       "      <th>6</th>\n",
       "      <td>NaN</td>\n",
       "      <td>Sweden</td>\n",
       "      <td>cyaA_S352T=POINT,glpT_E448K=POINT,uhpT_E350Q=POINT</td>\n",
       "      <td>NaN</td>\n",
       "    </tr>\n",
       "    <tr>\n",
       "      <th>7</th>\n",
       "      <td>1979</td>\n",
       "      <td>USA:MA</td>\n",
       "      <td>glpT_E448K=POINT</td>\n",
       "      <td>NaN</td>\n",
       "    </tr>\n",
       "  </tbody>\n",
       "</table>\n",
       "</div>"
      ],
      "text/plain": [
       "  collection_date geo_loc_name  \\\n",
       "1             NaN          USA   \n",
       "4             NaN       USA:WA   \n",
       "5             NaN       USA:MA   \n",
       "6             NaN       Sweden   \n",
       "7            1979       USA:MA   \n",
       "\n",
       "                                   AMR_genotypes_core AST_phenotypes  \n",
       "1                                   aadA1,sul1,tet(A)            NaN  \n",
       "4                   aph(3'')-Ib,aph(6)-Id,sul2,tet(A)            NaN  \n",
       "5                   glpT_E448K=POINT,pmrB_Y358N=POINT            NaN  \n",
       "6  cyaA_S352T=POINT,glpT_E448K=POINT,uhpT_E350Q=POINT            NaN  \n",
       "7                                    glpT_E448K=POINT            NaN  "
      ]
     },
     "execution_count": 8,
     "metadata": {},
     "output_type": "execute_result"
    }
   ],
   "source": [
    "dataset_columns = ['collection_date', 'geo_loc_name', 'AMR_genotypes_core', 'AST_phenotypes']\n",
    "df_geno = df_explore[df_explore['AMR_genotypes_core'].notnull()]\n",
    "num_geno_samples = df_geno.shape[0]\n",
    "print(f\"Number of samples with genotype info: {num_geno_samples:,} ({num_geno_samples/num_samples:.2%})\")\n",
    "df_geno = df_geno[dataset_columns]\n",
    "df_geno.head()"
   ]
  },
  {
   "cell_type": "markdown",
   "metadata": {},
   "source": [
    "### Geo_loc_name"
   ]
  },
  {
   "cell_type": "markdown",
   "metadata": {},
   "source": [
    "*not determined*, *not collected*, *not provided*, *Not Provided* -> *NaN*"
   ]
  },
  {
   "cell_type": "code",
   "execution_count": 9,
   "metadata": {},
   "outputs": [],
   "source": [
    "# set column as string type\n",
    "alternative_nan = ['not determined', 'not collected', 'not provided', 'Not Provided', 'missing',\n",
    "                   'OUTPATIENT', 'Not collected', 'Not Collected', 'not available', '-']\n",
    "df_geno.loc[:,'geo_loc_name'] = df_geno['geo_loc_name'].replace(alternative_nan, np.nan) \n",
    "# df_geno['geo_loc_name'].fillna('unknown', inplace=True) # replace NaN with 'unknown', Note: won't function as NaN"
   ]
  },
  {
   "cell_type": "markdown",
   "metadata": {},
   "source": [
    "Remove regional info, after : (colon) or , (comma)"
   ]
  },
  {
   "cell_type": "code",
   "execution_count": 10,
   "metadata": {},
   "outputs": [],
   "source": [
    "df_geno.loc[:,'geo_loc_name'] = df_geno['geo_loc_name'].str.split(',').str[0]\n",
    "df_geno.loc[:,'geo_loc_name'] = df_geno['geo_loc_name'].str.split(':').str[0] \n",
    "df_geno.rename(columns={'geo_loc_name': 'country'}, inplace=True)\n",
    "df_geno.replace('United Kingdom', 'UK', inplace=True)"
   ]
  },
  {
   "cell_type": "markdown",
   "metadata": {},
   "source": [
    "Check distribution of countries, look at top 10 (including NaN)"
   ]
  },
  {
   "cell_type": "code",
   "execution_count": 11,
   "metadata": {},
   "outputs": [
    {
     "data": {
      "image/png": "[encoded data removed]",
      "text/plain": [
       "<Figure size 1000x500 with 1 Axes>"
      ]
     },
     "metadata": {},
     "output_type": "display_data"
    }
   ],
   "source": [
    "ax = df_geno['country'].value_counts(dropna=False).iloc[:10].plot(\n",
    "    kind='bar', figsize=(10, 5), fontsize=10, rot=45\n",
    ")\n",
    "plt.xticks(fontsize=9)\n",
    "ax.set_title('Country distribution, top 10', fontsize=15)\n",
    "ax.ticklabel_format(axis='y', style='sci', scilimits=(3,3))\n",
    "ax.set_xlabel('Country', fontsize=10)\n",
    "ax.set_ylabel('Number of samples', fontsize=10)\n",
    "if not os.path.exists('results/data/NCBI'):\n",
    "    os.makedirs('results/data/NCBI')\n",
    "ax.figure.savefig('results/data/NCBI/country_distr.png', bbox_inches='tight', dpi=300)"
   ]
  },
  {
   "cell_type": "markdown",
   "metadata": {},
   "source": [
    "Map countries to regions, look at distribution"
   ]
  },
  {
   "cell_type": "code",
   "execution_count": 12,
   "metadata": {},
   "outputs": [],
   "source": [
    "import yaml\n",
    "with open('config_geno.yaml', 'r') as f:\n",
    "    config = yaml.safe_load(f)"
   ]
  },
  {
   "cell_type": "code",
   "execution_count": 13,
   "metadata": {},
   "outputs": [
    {
     "data": {
      "text/html": [
       "<div>\n",
       "<style scoped>\n",
       "    .dataframe tbody tr th:only-of-type {\n",
       "        vertical-align: middle;\n",
       "    }\n",
       "\n",
       "    .dataframe tbody tr th {\n",
       "        vertical-align: top;\n",
       "    }\n",
       "\n",
       "    .dataframe thead th {\n",
       "        text-align: right;\n",
       "    }\n",
       "</style>\n",
       "<table border=\"1\" class=\"dataframe\">\n",
       "  <thead>\n",
       "    <tr style=\"text-align: right;\">\n",
       "      <th></th>\n",
       "      <th>collection_date</th>\n",
       "      <th>country</th>\n",
       "      <th>AMR_genotypes_core</th>\n",
       "      <th>AST_phenotypes</th>\n",
       "      <th>region</th>\n",
       "    </tr>\n",
       "  </thead>\n",
       "  <tbody>\n",
       "    <tr>\n",
       "      <th>1</th>\n",
       "      <td>NaN</td>\n",
       "      <td>USA</td>\n",
       "      <td>aadA1,sul1,tet(A)</td>\n",
       "      <td>NaN</td>\n",
       "      <td>North America</td>\n",
       "    </tr>\n",
       "    <tr>\n",
       "      <th>4</th>\n",
       "      <td>NaN</td>\n",
       "      <td>USA</td>\n",
       "      <td>aph(3'')-Ib,aph(6)-Id,sul2,tet(A)</td>\n",
       "      <td>NaN</td>\n",
       "      <td>North America</td>\n",
       "    </tr>\n",
       "    <tr>\n",
       "      <th>5</th>\n",
       "      <td>NaN</td>\n",
       "      <td>USA</td>\n",
       "      <td>glpT_E448K=POINT,pmrB_Y358N=POINT</td>\n",
       "      <td>NaN</td>\n",
       "      <td>North America</td>\n",
       "    </tr>\n",
       "    <tr>\n",
       "      <th>6</th>\n",
       "      <td>NaN</td>\n",
       "      <td>Sweden</td>\n",
       "      <td>cyaA_S352T=POINT,glpT_E448K=POINT,uhpT_E350Q=POINT</td>\n",
       "      <td>NaN</td>\n",
       "      <td>Europe</td>\n",
       "    </tr>\n",
       "    <tr>\n",
       "      <th>7</th>\n",
       "      <td>1979</td>\n",
       "      <td>USA</td>\n",
       "      <td>glpT_E448K=POINT</td>\n",
       "      <td>NaN</td>\n",
       "      <td>North America</td>\n",
       "    </tr>\n",
       "  </tbody>\n",
       "</table>\n",
       "</div>"
      ],
      "text/plain": [
       "  collection_date country                                  AMR_genotypes_core  \\\n",
       "1             NaN     USA                                   aadA1,sul1,tet(A)   \n",
       "4             NaN     USA                   aph(3'')-Ib,aph(6)-Id,sul2,tet(A)   \n",
       "5             NaN     USA                   glpT_E448K=POINT,pmrB_Y358N=POINT   \n",
       "6             NaN  Sweden  cyaA_S352T=POINT,glpT_E448K=POINT,uhpT_E350Q=POINT   \n",
       "7            1979     USA                                    glpT_E448K=POINT   \n",
       "\n",
       "  AST_phenotypes         region  \n",
       "1            NaN  North America  \n",
       "4            NaN  North America  \n",
       "5            NaN  North America  \n",
       "6            NaN         Europe  \n",
       "7            NaN  North America  "
      ]
     },
     "execution_count": 13,
     "metadata": {},
     "output_type": "execute_result"
    }
   ],
   "source": [
    "region_mapping = config['data']['region_mapping']\n",
    "df_geno['region'] = df_geno['country'].map(region_mapping)\n",
    "df_geno.head()"
   ]
  },
  {
   "cell_type": "code",
   "execution_count": 14,
   "metadata": {},
   "outputs": [
    {
     "data": {
      "image/png": "[encoded data removed]",
      "text/plain": [
       "<Figure size 1000x500 with 1 Axes>"
      ]
     },
     "metadata": {},
     "output_type": "display_data"
    }
   ],
   "source": [
    "ax = df_geno['region'].value_counts(dropna=False).plot(\n",
    "    kind='bar', figsize=(10, 5), fontsize=10, rot=45\n",
    ")\n",
    "plt.xticks(fontsize=9)\n",
    "ax.set_title('Region distribution', fontsize=15)\n",
    "ax.ticklabel_format(axis='y', style='sci', scilimits=(3,3))\n",
    "ax.set_xlabel('Region', fontsize=10)\n",
    "ax.set_ylabel('Number of samples', fontsize=10)\n",
    "if not os.path.exists('results/data/NCBI'):\n",
    "    os.makedirs('results/data/NCBI')\n",
    "ax.figure.savefig('results/data/NCBI/country_distr.png', bbox_inches='tight', dpi=300)"
   ]
  },
  {
   "cell_type": "markdown",
   "metadata": {},
   "source": [
    "### Collection_date"
   ]
  },
  {
   "cell_type": "markdown",
   "metadata": {},
   "source": [
    "Group **collection date** into years and change name to 'year' "
   ]
  },
  {
   "cell_type": "markdown",
   "metadata": {},
   "source": [
    "Alternative NaN: 'missing'  \n",
    "Most common format is YYYY-MM-DD  \n",
    "In cases of YYYY/YYYY, we take the first year"
   ]
  },
  {
   "cell_type": "code",
   "execution_count": 15,
   "metadata": {},
   "outputs": [],
   "source": [
    "alternative_nan = ['missing']\n",
    "df_geno.loc[:,'collection_date'] = df_geno['collection_date'].replace(alternative_nan, np.nan)\n",
    "df_geno.loc[:,'collection_date'] = df_geno['collection_date'].str.split('-').str[0]\n",
    "df_geno.loc[:,'collection_date'] = df_geno['collection_date'].str.split('/').str[0]\n",
    "df_geno.rename(columns={'collection_date': 'year'}, inplace=True)"
   ]
  },
  {
   "cell_type": "markdown",
   "metadata": {},
   "source": [
    "Filter years earlier than XXXX"
   ]
  },
  {
   "cell_type": "code",
   "execution_count": 16,
   "metadata": {},
   "outputs": [
    {
     "name": "stdout",
     "output_type": "stream",
     "text": [
      "342801\n",
      "Dropping samples before threshold_year 1970\n",
      "Number of samples before 1970: 277 (0.08%)\n",
      "342524\n"
     ]
    }
   ],
   "source": [
    "def filter_years(df, threshold_year):\n",
    "    print(\"Dropping samples before threshold_year\", threshold_year)\n",
    "    # get indices of samples before threshold_year, allows us to keep NaN values\n",
    "    indices = df[df['year'].astype(float) <= threshold_year].index\n",
    "    num_before = len(indices)\n",
    "    # drop samples before threshold_year\n",
    "    df.drop(indices, inplace=True)\n",
    "    print(f\"Number of samples before {threshold_year}: {num_before:,} ({num_before/num_geno_samples:.2%})\")\n",
    "    return df\n",
    "\n",
    "threshold_year = 1970\n",
    "print(df_geno.shape[0])\n",
    "df_geno = filter_years(df_geno, threshold_year)\n",
    "print(df_geno.shape[0])"
   ]
  },
  {
   "cell_type": "code",
   "execution_count": 17,
   "metadata": {},
   "outputs": [
    {
     "name": "stdout",
     "output_type": "stream",
     "text": [
      "Number of unique years: 53\n",
      "Number of years with frequency > 0.1%: 28\n",
      "Number of unknown samples 122,204 (35.65%)\n",
      "Earliest year: 1971\n",
      "Latest year: 2023\n"
     ]
    },
    {
     "data": {
      "image/png": "[encoded data removed]",
      "text/plain": [
       "<Figure size 1000x500 with 1 Axes>"
      ]
     },
     "metadata": {},
     "output_type": "display_data"
    }
   ],
   "source": [
    "percentage_threshold = 0.001\n",
    "frequncy_threshold = int(num_samples * percentage_threshold)\n",
    "year_counts = df_geno['year'].value_counts(dropna=False)\n",
    "df_year_filtered = year_counts[year_counts > frequncy_threshold]\n",
    "print(f\"Number of unique years: {df_geno['year'].nunique():,}\")\n",
    "print(f\"Number of years with frequency > {percentage_threshold:.1%}: {df_year_filtered.shape[0]}\")\n",
    "print(f\"Number of unknown samples {year_counts[np.nan]:,} ({year_counts[np.nan]/num_geno_samples:.2%})\")\n",
    "\n",
    "df_geno_notnan = df_geno[df_geno['year'].notnull()].astype({'year': 'int32'})\n",
    "print(f\"Earliest year: {df_geno_notnan['year'].min()}\")\n",
    "print(f\"Latest year: {df_geno_notnan['year'].max()}\")\n",
    "\n",
    "ax = df_year_filtered.sort_index().plot(\n",
    "    kind='bar', figsize=(10, 5), fontsize=10, rot=45\n",
    ")\n",
    "# change yticks to scientific notation\n",
    "ax.ticklabel_format(axis='y', style='sci', scilimits=(3,3))\n",
    "ax.set_title('Year distribution', fontsize=15)\n",
    "ax.set_xlabel(f'Year (freq > {percentage_threshold:.1%})', fontsize=10)\n",
    "ax.set_xticklabels(ax.get_xticklabels(), rotation=45, fontsize=8)\n",
    "ax.set_ylabel('Number of samples', fontsize=10)\n",
    "ax.figure.savefig('results/data/NCBI/year_distr.png', bbox_inches='tight', dpi=300)"
   ]
  },
  {
   "cell_type": "markdown",
   "metadata": {},
   "source": [
    "### AMR_genotypes_core"
   ]
  },
  {
   "cell_type": "code",
   "execution_count": 18,
   "metadata": {},
   "outputs": [],
   "source": [
    "# df_geno = df_explore[df_explore['AMR_genotypes_core'].notnull()]\n",
    "# df_geno = df_geno[dataset_columns]\n",
    "df_geno.rename(columns={'AMR_genotypes_core': 'genotypes'}, inplace=True)"
   ]
  },
  {
   "cell_type": "markdown",
   "metadata": {},
   "source": [
    "Begin by making the column into a list of strings"
   ]
  },
  {
   "cell_type": "code",
   "execution_count": 19,
   "metadata": {},
   "outputs": [
    {
     "data": {
      "text/plain": [
       "1                                             [aadA1, sul1, tet(A)]\n",
       "4                            [aph(3'')-Ib, aph(6)-Id, sul2, tet(A)]\n",
       "5                              [glpT_E448K=POINT, pmrB_Y358N=POINT]\n",
       "6            [cyaA_S352T=POINT, glpT_E448K=POINT, uhpT_E350Q=POINT]\n",
       "7                                                [glpT_E448K=POINT]\n",
       "8            [glpT_E448K=POINT, parE_D475E=POINT, pmrB_E123D=POINT]\n",
       "9            [glpT_E448K=POINT, pmrB_E123D=POINT, uhpT_E350Q=POINT]\n",
       "10                             [glpT_E448K=POINT, pmrB_Y358N=POINT]\n",
       "11                             [glpT_E448K=POINT, pmrB_Y358N=POINT]\n",
       "12    [glpT_E448K=POINT, parC_A56T=POINT, pmrB_Y358N=POINT, tet(A)]\n",
       "Name: genotypes, dtype: object"
      ]
     },
     "execution_count": 19,
     "metadata": {},
     "output_type": "execute_result"
    }
   ],
   "source": [
    "df_geno.loc[:,'genotypes'] = df_geno['genotypes'].str.split(',')\n",
    "df_geno['genotypes'].head(n=10)"
   ]
  },
  {
   "cell_type": "code",
   "execution_count": 20,
   "metadata": {},
   "outputs": [
    {
     "data": {
      "text/html": [
       "<div>\n",
       "<style scoped>\n",
       "    .dataframe tbody tr th:only-of-type {\n",
       "        vertical-align: middle;\n",
       "    }\n",
       "\n",
       "    .dataframe tbody tr th {\n",
       "        vertical-align: top;\n",
       "    }\n",
       "\n",
       "    .dataframe thead th {\n",
       "        text-align: right;\n",
       "    }\n",
       "</style>\n",
       "<table border=\"1\" class=\"dataframe\">\n",
       "  <thead>\n",
       "    <tr style=\"text-align: right;\">\n",
       "      <th></th>\n",
       "      <th>year</th>\n",
       "      <th>country</th>\n",
       "      <th>genotypes</th>\n",
       "      <th>AST_phenotypes</th>\n",
       "      <th>region</th>\n",
       "      <th>num_genotypes</th>\n",
       "    </tr>\n",
       "  </thead>\n",
       "  <tbody>\n",
       "    <tr>\n",
       "      <th>1</th>\n",
       "      <td>NaN</td>\n",
       "      <td>USA</td>\n",
       "      <td>[aadA1, sul1, tet(A)]</td>\n",
       "      <td>NaN</td>\n",
       "      <td>North America</td>\n",
       "      <td>3</td>\n",
       "    </tr>\n",
       "    <tr>\n",
       "      <th>4</th>\n",
       "      <td>NaN</td>\n",
       "      <td>USA</td>\n",
       "      <td>[aph(3'')-Ib, aph(6)-Id, sul2, tet(A)]</td>\n",
       "      <td>NaN</td>\n",
       "      <td>North America</td>\n",
       "      <td>4</td>\n",
       "    </tr>\n",
       "    <tr>\n",
       "      <th>5</th>\n",
       "      <td>NaN</td>\n",
       "      <td>USA</td>\n",
       "      <td>[glpT_E448K=POINT, pmrB_Y358N=POINT]</td>\n",
       "      <td>NaN</td>\n",
       "      <td>North America</td>\n",
       "      <td>2</td>\n",
       "    </tr>\n",
       "    <tr>\n",
       "      <th>6</th>\n",
       "      <td>NaN</td>\n",
       "      <td>Sweden</td>\n",
       "      <td>[cyaA_S352T=POINT, glpT_E448K=POINT, uhpT_E350Q=POINT]</td>\n",
       "      <td>NaN</td>\n",
       "      <td>Europe</td>\n",
       "      <td>3</td>\n",
       "    </tr>\n",
       "    <tr>\n",
       "      <th>7</th>\n",
       "      <td>1979</td>\n",
       "      <td>USA</td>\n",
       "      <td>[glpT_E448K=POINT]</td>\n",
       "      <td>NaN</td>\n",
       "      <td>North America</td>\n",
       "      <td>1</td>\n",
       "    </tr>\n",
       "  </tbody>\n",
       "</table>\n",
       "</div>"
      ],
      "text/plain": [
       "   year country                                               genotypes  \\\n",
       "1   NaN     USA                                   [aadA1, sul1, tet(A)]   \n",
       "4   NaN     USA                  [aph(3'')-Ib, aph(6)-Id, sul2, tet(A)]   \n",
       "5   NaN     USA                    [glpT_E448K=POINT, pmrB_Y358N=POINT]   \n",
       "6   NaN  Sweden  [cyaA_S352T=POINT, glpT_E448K=POINT, uhpT_E350Q=POINT]   \n",
       "7  1979     USA                                      [glpT_E448K=POINT]   \n",
       "\n",
       "  AST_phenotypes         region  num_genotypes  \n",
       "1            NaN  North America              3  \n",
       "4            NaN  North America              4  \n",
       "5            NaN  North America              2  \n",
       "6            NaN         Europe              3  \n",
       "7            NaN  North America              1  "
      ]
     },
     "execution_count": 20,
     "metadata": {},
     "output_type": "execute_result"
    }
   ],
   "source": [
    "# Create column for number of (unique) genotypes\n",
    "df_geno['num_genotypes'] = df_geno['genotypes'].apply(lambda x: len(set(x)))\n",
    "df_geno.head() "
   ]
  },
  {
   "cell_type": "markdown",
   "metadata": {},
   "source": [
    "Filter samples with too many genes"
   ]
  },
  {
   "cell_type": "markdown",
   "metadata": {},
   "source": [
    "Add column with number of point mutations"
   ]
  },
  {
   "cell_type": "code",
   "execution_count": 21,
   "metadata": {},
   "outputs": [],
   "source": [
    "df_geno['num_point_mutations'] = df_geno['genotypes'].apply(lambda x: len([i for i in x if '=POINT' in i]))"
   ]
  },
  {
   "cell_type": "code",
   "execution_count": 22,
   "metadata": {},
   "outputs": [
    {
     "data": {
      "text/html": [
       "<div>\n",
       "<style scoped>\n",
       "    .dataframe tbody tr th:only-of-type {\n",
       "        vertical-align: middle;\n",
       "    }\n",
       "\n",
       "    .dataframe tbody tr th {\n",
       "        vertical-align: top;\n",
       "    }\n",
       "\n",
       "    .dataframe thead th {\n",
       "        text-align: right;\n",
       "    }\n",
       "</style>\n",
       "<table border=\"1\" class=\"dataframe\">\n",
       "  <thead>\n",
       "    <tr style=\"text-align: right;\">\n",
       "      <th></th>\n",
       "      <th>year</th>\n",
       "      <th>country</th>\n",
       "      <th>genotypes</th>\n",
       "      <th>AST_phenotypes</th>\n",
       "      <th>region</th>\n",
       "      <th>num_genotypes</th>\n",
       "      <th>num_point_mutations</th>\n",
       "    </tr>\n",
       "  </thead>\n",
       "  <tbody>\n",
       "    <tr>\n",
       "      <th>1</th>\n",
       "      <td>NaN</td>\n",
       "      <td>USA</td>\n",
       "      <td>[aadA1, sul1, tet(A)]</td>\n",
       "      <td>NaN</td>\n",
       "      <td>North America</td>\n",
       "      <td>3</td>\n",
       "      <td>0</td>\n",
       "    </tr>\n",
       "    <tr>\n",
       "      <th>4</th>\n",
       "      <td>NaN</td>\n",
       "      <td>USA</td>\n",
       "      <td>[aph(3'')-Ib, aph(6)-Id, sul2, tet(A)]</td>\n",
       "      <td>NaN</td>\n",
       "      <td>North America</td>\n",
       "      <td>4</td>\n",
       "      <td>0</td>\n",
       "    </tr>\n",
       "    <tr>\n",
       "      <th>5</th>\n",
       "      <td>NaN</td>\n",
       "      <td>USA</td>\n",
       "      <td>[glpT_E448K=POINT, pmrB_Y358N=POINT]</td>\n",
       "      <td>NaN</td>\n",
       "      <td>North America</td>\n",
       "      <td>2</td>\n",
       "      <td>2</td>\n",
       "    </tr>\n",
       "    <tr>\n",
       "      <th>6</th>\n",
       "      <td>NaN</td>\n",
       "      <td>Sweden</td>\n",
       "      <td>[cyaA_S352T=POINT, glpT_E448K=POINT, uhpT_E350Q=POINT]</td>\n",
       "      <td>NaN</td>\n",
       "      <td>Europe</td>\n",
       "      <td>3</td>\n",
       "      <td>3</td>\n",
       "    </tr>\n",
       "    <tr>\n",
       "      <th>7</th>\n",
       "      <td>1979</td>\n",
       "      <td>USA</td>\n",
       "      <td>[glpT_E448K=POINT]</td>\n",
       "      <td>NaN</td>\n",
       "      <td>North America</td>\n",
       "      <td>1</td>\n",
       "      <td>1</td>\n",
       "    </tr>\n",
       "  </tbody>\n",
       "</table>\n",
       "</div>"
      ],
      "text/plain": [
       "   year country                                               genotypes  \\\n",
       "1   NaN     USA                                   [aadA1, sul1, tet(A)]   \n",
       "4   NaN     USA                  [aph(3'')-Ib, aph(6)-Id, sul2, tet(A)]   \n",
       "5   NaN     USA                    [glpT_E448K=POINT, pmrB_Y358N=POINT]   \n",
       "6   NaN  Sweden  [cyaA_S352T=POINT, glpT_E448K=POINT, uhpT_E350Q=POINT]   \n",
       "7  1979     USA                                      [glpT_E448K=POINT]   \n",
       "\n",
       "  AST_phenotypes         region  num_genotypes  num_point_mutations  \n",
       "1            NaN  North America              3                    0  \n",
       "4            NaN  North America              4                    0  \n",
       "5            NaN  North America              2                    2  \n",
       "6            NaN         Europe              3                    3  \n",
       "7            NaN  North America              1                    1  "
      ]
     },
     "execution_count": 22,
     "metadata": {},
     "output_type": "execute_result"
    }
   ],
   "source": [
    "df_geno.head()"
   ]
  },
  {
   "cell_type": "code",
   "execution_count": 23,
   "metadata": {},
   "outputs": [
    {
     "data": {
      "image/png": "[encoded data removed]",
      "text/plain": [
       "<Figure size 1000x500 with 1 Axes>"
      ]
     },
     "metadata": {},
     "output_type": "display_data"
    }
   ],
   "source": [
    "num_pm_counts = df_geno['num_point_mutations'].value_counts().sort_index()\n",
    "# plot distribution of number of genotypes\n",
    "ax = num_pm_counts.plot(\n",
    "    kind='bar', figsize=(10, 5), fontsize=10, rot=0\n",
    ")\n",
    "ax.set_title('Number of point mutations distribution', fontsize=15)\n",
    "ax.set_xlabel('Number of point mutations', fontsize=10)\n",
    "ax.set_ylabel('Number of samples', fontsize=10)\n",
    "ax.ticklabel_format(axis='y', style='sci', scilimits=(3,3))\n",
    "ax.figure.savefig('results/data/NCBI/num_pm_distr.png', bbox_inches='tight', dpi=300)"
   ]
  },
  {
   "cell_type": "code",
   "execution_count": 24,
   "metadata": {},
   "outputs": [
    {
     "name": "stdout",
     "output_type": "stream",
     "text": [
      "{'HMM', 'POINT', 'PARTIAL', 'MISTRANSLATION', 'PARTIAL_END_OF_CONTIG'}\n"
     ]
    }
   ],
   "source": [
    "unique_genotypes = set(chain(*df_geno['genotypes']))\n",
    "print(set([g.split(\"=\")[1] for g in unique_genotypes if '=' in g]))"
   ]
  },
  {
   "cell_type": "code",
   "execution_count": 25,
   "metadata": {},
   "outputs": [
    {
     "name": "stdout",
     "output_type": "stream",
     "text": [
      "Number of unique genes: 1,431\n"
     ]
    }
   ],
   "source": [
    "num_unique_genes = len(unique_genotypes)\n",
    "print(f\"Number of unique genes: {num_unique_genes:,}\")"
   ]
  },
  {
   "cell_type": "markdown",
   "metadata": {},
   "source": [
    "Feature to remove variants, e.g. where there are dashes"
   ]
  },
  {
   "cell_type": "code",
   "execution_count": 26,
   "metadata": {},
   "outputs": [],
   "source": [
    "def remove_genotype_info(df, char: str, view_duplicate_info: bool=False):\n",
    "    print(f\"Splitting genotypes by '{char}', removing it and everything after it\")\n",
    "    old_genotypes = df['genotypes'].copy() # save old genotypes for later\n",
    "    df['genotypes'] = df['genotypes'].apply(lambda x: list(set([g.split(char)[0] for g in x])))\n",
    "    \n",
    "    if view_duplicate_info:\n",
    "        # count number of samples which now have duplicate genotypes\n",
    "        num_duplicates = df['genotypes'].apply(lambda x: len(x) - len(set(x))).sum()\n",
    "        df['num_duplicates'] = df['genotypes'].apply(lambda x: len(x) - len(set(x)))\n",
    "        print(f\"Number of duplicate genotype instances: {num_duplicates:,}\")\n",
    "        print(f\"Number of samples with duplicate genotypes: {df[df['num_duplicates'] > 0].shape[0]:,}\")\n",
    "        print(f\"Maximum number of duplicates in a sample: {df['num_duplicates'].max()}\")\n",
    "        index_max_duplicates = df['num_duplicates'].idxmax()\n",
    "        print(\"Genes in sample with the most duplicates:\")\n",
    "        print(*old_genotypes[index_max_duplicates], sep=\"\\n\") # uncomment to see the genotypes with the most duplicates\n",
    "        # remove duplicates\n",
    "        df['genotypes'] = df['genotypes'].apply(lambda x: list(set(x)))\n",
    "        df.drop(columns=['num_duplicates'], inplace=True)\n",
    "    \n",
    "    return df"
   ]
  },
  {
   "cell_type": "code",
   "execution_count": 27,
   "metadata": {},
   "outputs": [
    {
     "name": "stdout",
     "output_type": "stream",
     "text": [
      "Number of unique genes: 1,431\n",
      "Splitting genotypes by '-', removing it and everything after it\n",
      "Number of duplicate genotype instances: 0\n",
      "Number of samples with duplicate genotypes: 0\n",
      "Maximum number of duplicates in a sample: 0\n",
      "Genes in sample with the most duplicates:\n",
      "aadA1\n",
      "sul1\n",
      "tet(A)\n",
      "Number of unique genes without extra info: 868\n"
     ]
    }
   ],
   "source": [
    "print(f\"Number of unique genes: {len(set(chain(*df_geno['genotypes']))):,}\")\n",
    "remove_extra_genotype_info = True\n",
    "if remove_extra_genotype_info:\n",
    "    df_geno = remove_genotype_info(df_geno, '-', view_duplicate_info=True)\n",
    "    print(f\"Number of unique genes without extra info: {len(set(chain(*df_geno['genotypes']))):,}\")"
   ]
  },
  {
   "cell_type": "markdown",
   "metadata": {},
   "source": [
    "Feature to remove assembly variations, e.g. partials, mistranslation variants and HMM "
   ]
  },
  {
   "cell_type": "code",
   "execution_count": 28,
   "metadata": {},
   "outputs": [
    {
     "name": "stdout",
     "output_type": "stream",
     "text": [
      "Removing genotypes with assembly variants: ['=PARTIAL', '=MISTRANSLATION', '=HMM']\n",
      "Number of unique genes without assembly variants: 682\n"
     ]
    }
   ],
   "source": [
    "exclude_assembly_variants = ['=PARTIAL', '=MISTRANSLATION', '=HMM']\n",
    "print(f\"Removing genotypes with assembly variants: {exclude_assembly_variants}\")\n",
    "df_geno['genotypes'] = df_geno['genotypes'].apply(lambda x: [g for g in x if not g.endswith(tuple(exclude_assembly_variants))]) \n",
    "df_geno = df_geno[df_geno['genotypes'].apply(lambda x: len(x) > 0)] # Remove any rows where genotypes are empty\n",
    "print(f\"Number of unique genes without assembly variants: {len(set(chain(*df_geno['genotypes']))):,}\")"
   ]
  },
  {
   "cell_type": "markdown",
   "metadata": {},
   "source": [
    "Feature to remove redundancies where there is, for example, **genotype** *and* **genotype=PARTIAL_END_OF_CONTIG**,  \n",
    "but keep **genotype=PARTIAL_END_OF_CONTIG** when **genotype** is not present"
   ]
  },
  {
   "cell_type": "code",
   "execution_count": 29,
   "metadata": {},
   "outputs": [
    {
     "name": "stdout",
     "output_type": "stream",
     "text": [
      "['parC_S80I=POINT', 'blaTEM=PARTIAL_END_OF_CONTIG', 'gyrA_D87N=POINT', 'blaTEM', 'uhpT_E350Q=POINT', 'dfrA25', 'parC_E84V=POINT', 'gyrA_S83L=POINT', 'aac(3)', 'tet(A)', 'qnrB2', 'ptsI_V25I=POINT', 'sul1', 'glpT_E448K=POINT', 'parE_I529L=POINT', 'pmrB_E123D=POINT']\n",
      "['tet(B)', 'cyaA_S352T=POINT', 'sul2', 'glpT_E448K=POINT', 'blaCMY=PARTIAL_END_OF_CONTIG']\n",
      "Maximum number of genotypes in a sample: 48\n"
     ]
    }
   ],
   "source": [
    "print(df_geno.loc[7271, 'genotypes'])\n",
    "print(df_geno.loc[37, 'genotypes'])\n",
    "print(f\"Maximum number of genotypes in a sample: {df_geno['num_genotypes'].max()}\")"
   ]
  },
  {
   "cell_type": "code",
   "execution_count": 30,
   "metadata": {},
   "outputs": [],
   "source": [
    "assembly_chars = ['=PARTIAL', '=MISTRANSLATION', '=HMM', '=PARTIAL_END_OF_CONTIG']\n",
    "df_geno['genotypes'] = df_geno['genotypes'].apply(lambda x: list(set(x) - set([g for g in x if g.endswith(tuple(assembly_chars)) and g.split(\"=\")[0] in x])))"
   ]
  },
  {
   "cell_type": "code",
   "execution_count": 31,
   "metadata": {},
   "outputs": [
    {
     "name": "stdout",
     "output_type": "stream",
     "text": [
      "['parC_S80I=POINT', 'blaTEM', 'gyrA_D87N=POINT', 'uhpT_E350Q=POINT', 'parC_E84V=POINT', 'aac(3)', 'sul1', 'tet(A)', 'dfrA25', 'parE_I529L=POINT', 'gyrA_S83L=POINT', 'ptsI_V25I=POINT', 'qnrB2', 'glpT_E448K=POINT', 'pmrB_E123D=POINT']\n",
      "['tet(B)', 'cyaA_S352T=POINT', 'sul2', 'glpT_E448K=POINT', 'blaCMY=PARTIAL_END_OF_CONTIG']\n",
      "Maximum number of genotypes in a sample: 48\n"
     ]
    }
   ],
   "source": [
    "print(df_geno.loc[7271, 'genotypes'])\n",
    "print(df_geno.loc[37, 'genotypes'])\n",
    "print(f\"Maximum number of genotypes in a sample: {df_geno['num_genotypes'].max()}\")"
   ]
  },
  {
   "cell_type": "markdown",
   "metadata": {},
   "source": [
    "Check for cases where info is too limited"
   ]
  },
  {
   "cell_type": "code",
   "execution_count": 32,
   "metadata": {},
   "outputs": [
    {
     "name": "stdout",
     "output_type": "stream",
     "text": [
      "Number of samples with only one genotype: 11,154\n",
      "Number of samples with one genotype and max one of (country, year): 3,776\n",
      "Number of samples with one genotype and no other info (country, year): 1,836\n"
     ]
    }
   ],
   "source": [
    "print(f\"Number of samples with only one genotype: {df_geno[df_geno['num_genotypes'] == 1].shape[0]:,}\")\n",
    "print(f\"Number of samples with one genotype and max one of (country, year): {df_geno[(df_geno['num_genotypes'] == 1) & ((df_geno['country'].isnull()) | (df_geno['year'].isnull()))].shape[0]:,}\")\n",
    "print(f\"Number of samples with one genotype and no other info (country, year): {df_geno[(df_geno['num_genotypes'] == 1) & (df_geno['country'].isnull()) & (df_geno['year'].isnull())].shape[0]:,}\")"
   ]
  },
  {
   "cell_type": "markdown",
   "metadata": {},
   "source": [
    "Exclude cases where there is *only* one genotype and **no other info**"
   ]
  },
  {
   "cell_type": "code",
   "execution_count": 33,
   "metadata": {},
   "outputs": [
    {
     "name": "stdout",
     "output_type": "stream",
     "text": [
      "Number of samples with one genotype and no other info (country, year): 1,836\n"
     ]
    }
   ],
   "source": [
    "indices = df_geno[(df_geno['num_genotypes'] == 1) & (df_geno['country'].isnull()) & (df_geno['year'].isnull())].index\n",
    "print(f\"Number of samples with one genotype and no other info (country, year): {len(indices):,}\")\n",
    "df_geno.drop(indices, inplace=True)"
   ]
  },
  {
   "cell_type": "code",
   "execution_count": 34,
   "metadata": {},
   "outputs": [
    {
     "data": {
      "image/png": "[encoded data removed]",
      "text/plain": [
       "<Figure size 1000x500 with 1 Axes>"
      ]
     },
     "metadata": {},
     "output_type": "display_data"
    }
   ],
   "source": [
    "num_gene_counts = df_geno['num_genotypes'].value_counts().sort_index()\n",
    "# plot distribution of number of genotypes\n",
    "ax = num_gene_counts.plot(\n",
    "    kind='bar', figsize=(10, 5), fontsize=8, rot=0\n",
    ")\n",
    "ax.set_title('Number of genotypes distribution', fontsize=15)\n",
    "ax.set_xlabel('Number of genotypes', fontsize=10)\n",
    "ax.set_ylabel('Number of samples', fontsize=10)\n",
    "ax.ticklabel_format(axis='y', style='sci', scilimits=(3,3))\n",
    "ax.figure.savefig('results/data/NCBI/num_genotypes_distr.png', bbox_inches='tight', dpi=300)"
   ]
  },
  {
   "cell_type": "code",
   "execution_count": 35,
   "metadata": {},
   "outputs": [],
   "source": [
    "def filter_gene_counts(df, threshold_num):\n",
    "    print(f\"Dropping samples with more than {threshold_num} genotypes\")\n",
    "    # get indices of samples with more than threshold_num genotypes\n",
    "    indices = df[df['num_genotypes'] > threshold_num].index\n",
    "    num_above = len(indices)\n",
    "    # drop samples with more than threshold_num genotypes\n",
    "    df.drop(indices, inplace=True)\n",
    "    print(f\"Number of samples with more than {threshold_num} genotypes: {num_above:,}\")\n",
    "    return df\n",
    "\n",
    "# df_geno = filter_gene_counts(df_geno, 40)"
   ]
  },
  {
   "cell_type": "code",
   "execution_count": 36,
   "metadata": {},
   "outputs": [
    {
     "data": {
      "text/plain": [
       "223648    [qnrB, dfrA14, catB3=PARTIAL_END_OF_CONTIG, aac(3), aadA1=PARTIAL_END_OF_CONTIG, aph(3''), qnrB1, tet(M), catA1, sul1, tet(A), ble, blaCTX, mcr, gyrA_S83L=POINT, qnrB4, aadA5, parC_S80I=POINT, blaTEM, blaNDM, floR, gyrA_D87N=POINT, sul3, aac(6'), parE_L416F=POINT, dfrA17, aph(3'), blaOXA, blaDHA, aph(6), sul2, glpT_E448K=POINT, mph(A)]\n",
       "Name: genotypes, dtype: object"
      ]
     },
     "execution_count": 36,
     "metadata": {},
     "output_type": "execute_result"
    }
   ],
   "source": [
    "df_geno[df_geno['num_genotypes'] == 48]['genotypes'].head()"
   ]
  },
  {
   "cell_type": "markdown",
   "metadata": {},
   "source": [
    "### AST_phenotypes"
   ]
  },
  {
   "cell_type": "code",
   "execution_count": 37,
   "metadata": {},
   "outputs": [
    {
     "name": "stdout",
     "output_type": "stream",
     "text": [
      "Number of samples with phenotype info (after filtering): 7,677 (2.25%)\n"
     ]
    }
   ],
   "source": [
    "num_pheno = df_geno['AST_phenotypes'].count()\n",
    "num_samples = df_geno.shape[0]\n",
    "print(f\"Number of samples with phenotype info (after filtering): {num_pheno:,} ({num_pheno/num_samples:.2%})\")"
   ]
  },
  {
   "cell_type": "code",
   "execution_count": 38,
   "metadata": {},
   "outputs": [
    {
     "name": "stderr",
     "output_type": "stream",
     "text": [
      "C:\\Users\\jespe\\AppData\\Local\\Temp\\ipykernel_34608\\2105632640.py:3: SettingWithCopyWarning: \n",
      "A value is trying to be set on a copy of a slice from a DataFrame\n",
      "\n",
      "See the caveats in the documentation: https://pandas.pydata.org/pandas-docs/stable/user_guide/indexing.html#returning-a-view-versus-a-copy\n",
      "  df_pheno.rename(columns={'AST_phenotypes': 'phenotypes'}, inplace=True)\n",
      "C:\\Users\\jespe\\AppData\\Local\\Temp\\ipykernel_34608\\2105632640.py:4: SettingWithCopyWarning: \n",
      "A value is trying to be set on a copy of a slice from a DataFrame.\n",
      "Try using .loc[row_indexer,col_indexer] = value instead\n",
      "\n",
      "See the caveats in the documentation: https://pandas.pydata.org/pandas-docs/stable/user_guide/indexing.html#returning-a-view-versus-a-copy\n",
      "  df_pheno['phenotypes'] = df_pheno['phenotypes'].apply(lambda x: [p for p in x if p.split(\"=\")[1] in ['R', 'S']])\n"
     ]
    }
   ],
   "source": [
    "df_pheno = df_geno[df_geno['AST_phenotypes'].notnull()]\n",
    "df_pheno.loc[:, 'AST_phenotypes'] = df_pheno['AST_phenotypes'].str.split(',')\n",
    "df_pheno.rename(columns={'AST_phenotypes': 'phenotypes'}, inplace=True)\n",
    "df_pheno['phenotypes'] = df_pheno['phenotypes'].apply(lambda x: [p for p in x if p.split(\"=\")[1] in ['R', 'S']])\n",
    "df_pheno = df_pheno[df_pheno['phenotypes'].apply(lambda x: len(x) > 0)] # Remove any rows where phenotypes are empty"
   ]
  },
  {
   "cell_type": "code",
   "execution_count": 39,
   "metadata": {},
   "outputs": [],
   "source": [
    "with open('config_pheno.yaml', 'r') as f:\n",
    "    config_p = yaml.safe_load(f)"
   ]
  },
  {
   "cell_type": "code",
   "execution_count": 40,
   "metadata": {},
   "outputs": [
    {
     "name": "stdout",
     "output_type": "stream",
     "text": [
      "Number of known phenotypes: 56,849 (56.40%)\n",
      "Number of unknown phenotypes: 43,944 (43.60%)\n"
     ]
    }
   ],
   "source": [
    "name_to_abbr = config_p['antibiotics']['name_to_abbr']\n",
    "ab_names = list(name_to_abbr.keys())\n",
    "ab_names = [s.casefold() for s in ab_names]\n",
    "df_pheno['num_known'] = df_pheno['phenotypes'].apply(lambda x: len([p for p in x if p.split(\"=\")[0].casefold() in ab_names]))\n",
    "df_pheno['num_unknown'] = df_pheno['phenotypes'].apply(lambda x: len([p for p in x if p.split(\"=\")[0].casefold() not in ab_names]))\n",
    "num_known = df_pheno['num_known'].sum()\n",
    "num_unknown = df_pheno['num_unknown'].sum()\n",
    "print(f\"Number of known phenotypes: {num_known:,} ({num_known/(num_known+num_unknown):.2%})\")\n",
    "print(f\"Number of unknown phenotypes: {num_unknown:,} ({num_unknown/(num_known+num_unknown):.2%})\")\n",
    "df_pheno.drop(columns=['num_known', 'num_unknown'], inplace=True)\n",
    "df_pheno['phenotypes'] = df_pheno['phenotypes'].apply(lambda x: [p for p in x if p.split(\"=\")[0].casefold() in ab_names])\n",
    "df_pheno['num_phenotypes'] = df_pheno['phenotypes'].apply(lambda x: len(x))\n",
    "df_pheno = df_pheno[df_pheno['num_phenotypes'] > 0]\n",
    "name_to_abbr_lower = {k.casefold(): v for k, v in name_to_abbr.items()}\n",
    "df_pheno['phenotypes'] = df_pheno['phenotypes'].apply(lambda x: [name_to_abbr_lower[p.split(\"=\")[0].casefold()] + \"_\" + p.split(\"=\")[1] for p in x])"
   ]
  },
  {
   "cell_type": "markdown",
   "metadata": {},
   "source": [
    "#### Phenotype distributions"
   ]
  },
  {
   "cell_type": "code",
   "execution_count": 49,
   "metadata": {},
   "outputs": [
    {
     "name": "stdout",
     "output_type": "stream",
     "text": [
      "Number of unique antibiotics: 23\n",
      "Antibiotics present in NCBI data:\n",
      "['MEM' 'AMK' 'AMP' 'FEP' 'CAZ' 'CRO' 'CIP' 'ETP' 'GEN' 'IPM' 'LVX' 'MFX'\n",
      " 'TGC' 'TOB' 'CTX' 'NAL' 'COL' 'PIP' 'DOR' 'NOR' 'AMX' 'NET' 'POL']\n",
      "antibiotics not present in NCBI data: {'TZP', 'OFX', 'AMC'}\n"
     ]
    }
   ],
   "source": [
    "antibiotics = df_pheno['phenotypes'].apply(lambda x: [p.split(\"_\")[0] for p in x]).explode()\n",
    "print(f\"Number of unique antibiotics: {antibiotics.nunique():,}\")\n",
    "print(\"Antibiotics present in NCBI data:\")\n",
    "print(antibiotics.unique())\n",
    "print(f\"antibiotics not present in NCBI data: {set(name_to_abbr.values()) - set(antibiotics.unique())}\")"
   ]
  },
  {
   "cell_type": "markdown",
   "metadata": {},
   "source": [
    "Distribution of antibiotics"
   ]
  },
  {
   "cell_type": "code",
   "execution_count": 58,
   "metadata": {},
   "outputs": [
    {
     "data": {
      "image/png": "[encoded data removed]",
      "text/plain": [
       "<Figure size 1500x500 with 1 Axes>"
      ]
     },
     "metadata": {},
     "output_type": "display_data"
    }
   ],
   "source": [
    "ax = antibiotics.value_counts().plot(\n",
    "    kind='bar', figsize=(15, 5), fontsize=10, rot=0\n",
    ")\n",
    "ax.set_title('Antibiotic distribution', fontsize=15)\n",
    "ax.set_xlabel('Antibiotic', fontsize=10)\n",
    "ax.set_ylabel('Number of isolates', fontsize=10)\n",
    "ax.ticklabel_format(axis='y', style='sci', scilimits=(3,3))\n",
    "plt.show()"
   ]
  },
  {
   "cell_type": "markdown",
   "metadata": {},
   "source": [
    "S/R imbalance"
   ]
  },
  {
   "cell_type": "code",
   "execution_count": 97,
   "metadata": {},
   "outputs": [
    {
     "data": {
      "image/png": "[encoded data removed]",
      "text/plain": [
       "<Figure size 1500x500 with 1 Axes>"
      ]
     },
     "metadata": {},
     "output_type": "display_data"
    }
   ],
   "source": [
    "phenotypes = df_pheno['phenotypes'].explode()\n",
    "ab = phenotypes.apply(lambda x: x.split(\"_\")[0])\n",
    "res = phenotypes.apply(lambda x: x.split(\"_\")[1])\n",
    "df_tmp = pd.DataFrame({'ab': ab, 'res': res})\n",
    "grouped_df = df_tmp.groupby('ab')['res'].value_counts(normalize=True).unstack()\n",
    "ax = grouped_df[['S', 'R']].plot(\n",
    "    kind='bar', figsize=(15, 5), fontsize=10, rot=0, stacked=True, color=['tab:green', 'tab:red']\n",
    ")\n",
    "ax.set_title('AB-phenotype distribution', fontsize=15)\n",
    "ax.set_xlabel('Antibiotic', fontsize=10)\n",
    "ax.set_ylabel('Fraction', fontsize=10)\n",
    "ax.legend(labels=['S', 'R'], loc='lower center', fontsize=10)\n",
    "plt.show()"
   ]
  },
  {
   "cell_type": "markdown",
   "metadata": {},
   "source": [
    "Number of antibiotics distributions"
   ]
  },
  {
   "cell_type": "code",
   "execution_count": 61,
   "metadata": {},
   "outputs": [
    {
     "data": {
      "image/png": "[encoded data removed]",
      "text/plain": [
       "<Figure size 1000x500 with 1 Axes>"
      ]
     },
     "metadata": {},
     "output_type": "display_data"
    }
   ],
   "source": [
    "ab_counts = df_pheno['num_phenotypes'].value_counts().sort_index()\n",
    "ax = ab_counts.plot(\n",
    "    kind='bar', figsize=(10, 5), fontsize=10, rot=0\n",
    ")\n",
    "ax.set_title('Number of antibiotics distribution', fontsize=15)\n",
    "ax.set_xlabel('Number of antibiotics', fontsize=10)\n",
    "ax.set_ylabel('Number of isolates', fontsize=10)\n",
    "plt.show()"
   ]
  },
  {
   "cell_type": "markdown",
   "metadata": {},
   "source": [
    "## Final dataset"
   ]
  },
  {
   "cell_type": "code",
   "execution_count": 38,
   "metadata": {},
   "outputs": [
    {
     "name": "stdout",
     "output_type": "stream",
     "text": [
      "Final number of samples: 340,627\n"
     ]
    },
    {
     "data": {
      "text/html": [
       "<div>\n",
       "<style scoped>\n",
       "    .dataframe tbody tr th:only-of-type {\n",
       "        vertical-align: middle;\n",
       "    }\n",
       "\n",
       "    .dataframe tbody tr th {\n",
       "        vertical-align: top;\n",
       "    }\n",
       "\n",
       "    .dataframe thead th {\n",
       "        text-align: right;\n",
       "    }\n",
       "</style>\n",
       "<table border=\"1\" class=\"dataframe\">\n",
       "  <thead>\n",
       "    <tr style=\"text-align: right;\">\n",
       "      <th></th>\n",
       "      <th>year</th>\n",
       "      <th>country</th>\n",
       "      <th>genotypes</th>\n",
       "      <th>AST_phenotypes</th>\n",
       "      <th>region</th>\n",
       "      <th>num_genotypes</th>\n",
       "      <th>num_point_mutations</th>\n",
       "    </tr>\n",
       "  </thead>\n",
       "  <tbody>\n",
       "    <tr>\n",
       "      <th>1</th>\n",
       "      <td>NaN</td>\n",
       "      <td>USA</td>\n",
       "      <td>[tet(A), sul1, aadA1]</td>\n",
       "      <td>NaN</td>\n",
       "      <td>North America</td>\n",
       "      <td>3</td>\n",
       "      <td>0</td>\n",
       "    </tr>\n",
       "    <tr>\n",
       "      <th>4</th>\n",
       "      <td>NaN</td>\n",
       "      <td>USA</td>\n",
       "      <td>[aph(6), aph(3''), tet(A), sul2]</td>\n",
       "      <td>NaN</td>\n",
       "      <td>North America</td>\n",
       "      <td>4</td>\n",
       "      <td>0</td>\n",
       "    </tr>\n",
       "    <tr>\n",
       "      <th>5</th>\n",
       "      <td>NaN</td>\n",
       "      <td>USA</td>\n",
       "      <td>[pmrB_Y358N=POINT, glpT_E448K=POINT]</td>\n",
       "      <td>NaN</td>\n",
       "      <td>North America</td>\n",
       "      <td>2</td>\n",
       "      <td>2</td>\n",
       "    </tr>\n",
       "    <tr>\n",
       "      <th>6</th>\n",
       "      <td>NaN</td>\n",
       "      <td>Sweden</td>\n",
       "      <td>[glpT_E448K=POINT, cyaA_S352T=POINT, uhpT_E350Q=POINT]</td>\n",
       "      <td>NaN</td>\n",
       "      <td>Europe</td>\n",
       "      <td>3</td>\n",
       "      <td>3</td>\n",
       "    </tr>\n",
       "    <tr>\n",
       "      <th>7</th>\n",
       "      <td>1979</td>\n",
       "      <td>USA</td>\n",
       "      <td>[glpT_E448K=POINT]</td>\n",
       "      <td>NaN</td>\n",
       "      <td>North America</td>\n",
       "      <td>1</td>\n",
       "      <td>1</td>\n",
       "    </tr>\n",
       "    <tr>\n",
       "      <th>8</th>\n",
       "      <td>NaN</td>\n",
       "      <td>USA</td>\n",
       "      <td>[pmrB_E123D=POINT, glpT_E448K=POINT, parE_D475E=POINT]</td>\n",
       "      <td>NaN</td>\n",
       "      <td>North America</td>\n",
       "      <td>3</td>\n",
       "      <td>3</td>\n",
       "    </tr>\n",
       "    <tr>\n",
       "      <th>9</th>\n",
       "      <td>NaN</td>\n",
       "      <td>USA</td>\n",
       "      <td>[pmrB_E123D=POINT, glpT_E448K=POINT, uhpT_E350Q=POINT]</td>\n",
       "      <td>NaN</td>\n",
       "      <td>North America</td>\n",
       "      <td>3</td>\n",
       "      <td>3</td>\n",
       "    </tr>\n",
       "    <tr>\n",
       "      <th>10</th>\n",
       "      <td>NaN</td>\n",
       "      <td>USA</td>\n",
       "      <td>[pmrB_Y358N=POINT, glpT_E448K=POINT]</td>\n",
       "      <td>NaN</td>\n",
       "      <td>North America</td>\n",
       "      <td>2</td>\n",
       "      <td>2</td>\n",
       "    </tr>\n",
       "    <tr>\n",
       "      <th>11</th>\n",
       "      <td>NaN</td>\n",
       "      <td>USA</td>\n",
       "      <td>[pmrB_Y358N=POINT, glpT_E448K=POINT]</td>\n",
       "      <td>NaN</td>\n",
       "      <td>North America</td>\n",
       "      <td>2</td>\n",
       "      <td>2</td>\n",
       "    </tr>\n",
       "    <tr>\n",
       "      <th>12</th>\n",
       "      <td>NaN</td>\n",
       "      <td>USA</td>\n",
       "      <td>[parC_A56T=POINT, tet(A), pmrB_Y358N=POINT, glpT_E448K=POINT]</td>\n",
       "      <td>NaN</td>\n",
       "      <td>North America</td>\n",
       "      <td>4</td>\n",
       "      <td>3</td>\n",
       "    </tr>\n",
       "    <tr>\n",
       "      <th>14</th>\n",
       "      <td>NaN</td>\n",
       "      <td>Sweden</td>\n",
       "      <td>[parE_I355T=POINT]</td>\n",
       "      <td>NaN</td>\n",
       "      <td>Europe</td>\n",
       "      <td>1</td>\n",
       "      <td>1</td>\n",
       "    </tr>\n",
       "    <tr>\n",
       "      <th>15</th>\n",
       "      <td>NaN</td>\n",
       "      <td>Sweden</td>\n",
       "      <td>[glpT_E448K=POINT]</td>\n",
       "      <td>NaN</td>\n",
       "      <td>Europe</td>\n",
       "      <td>1</td>\n",
       "      <td>1</td>\n",
       "    </tr>\n",
       "    <tr>\n",
       "      <th>16</th>\n",
       "      <td>NaN</td>\n",
       "      <td>Indonesia</td>\n",
       "      <td>[aph(6), aph(3''), tet(B), sul2]</td>\n",
       "      <td>NaN</td>\n",
       "      <td>Asia</td>\n",
       "      <td>4</td>\n",
       "      <td>0</td>\n",
       "    </tr>\n",
       "    <tr>\n",
       "      <th>17</th>\n",
       "      <td>NaN</td>\n",
       "      <td>Indonesia</td>\n",
       "      <td>[glpT_E448K=POINT]</td>\n",
       "      <td>NaN</td>\n",
       "      <td>Asia</td>\n",
       "      <td>1</td>\n",
       "      <td>1</td>\n",
       "    </tr>\n",
       "    <tr>\n",
       "      <th>18</th>\n",
       "      <td>NaN</td>\n",
       "      <td>USA</td>\n",
       "      <td>[pmrB_E123D=POINT, glpT_E448K=POINT]</td>\n",
       "      <td>NaN</td>\n",
       "      <td>North America</td>\n",
       "      <td>2</td>\n",
       "      <td>2</td>\n",
       "    </tr>\n",
       "    <tr>\n",
       "      <th>19</th>\n",
       "      <td>NaN</td>\n",
       "      <td>USA</td>\n",
       "      <td>[aph(3''), glpT_E448K=POINT, pmrB_Y358N=POINT, aph(6), tet(B)]</td>\n",
       "      <td>NaN</td>\n",
       "      <td>North America</td>\n",
       "      <td>5</td>\n",
       "      <td>2</td>\n",
       "    </tr>\n",
       "    <tr>\n",
       "      <th>20</th>\n",
       "      <td>NaN</td>\n",
       "      <td>Canada</td>\n",
       "      <td>[aph(3''), glpT_E448K=POINT, pmrB_Y358N=POINT, aph(6), tet(B)]</td>\n",
       "      <td>NaN</td>\n",
       "      <td>North America</td>\n",
       "      <td>5</td>\n",
       "      <td>2</td>\n",
       "    </tr>\n",
       "    <tr>\n",
       "      <th>21</th>\n",
       "      <td>NaN</td>\n",
       "      <td>USA</td>\n",
       "      <td>[pmrB_E123D=POINT, glpT_E448K=POINT]</td>\n",
       "      <td>NaN</td>\n",
       "      <td>North America</td>\n",
       "      <td>2</td>\n",
       "      <td>2</td>\n",
       "    </tr>\n",
       "    <tr>\n",
       "      <th>22</th>\n",
       "      <td>NaN</td>\n",
       "      <td>USA</td>\n",
       "      <td>[pmrB_Y358N=POINT, glpT_E448K=POINT]</td>\n",
       "      <td>NaN</td>\n",
       "      <td>North America</td>\n",
       "      <td>2</td>\n",
       "      <td>2</td>\n",
       "    </tr>\n",
       "    <tr>\n",
       "      <th>23</th>\n",
       "      <td>NaN</td>\n",
       "      <td>USA</td>\n",
       "      <td>[pmrB_Y358N=POINT, glpT_E448K=POINT]</td>\n",
       "      <td>NaN</td>\n",
       "      <td>North America</td>\n",
       "      <td>2</td>\n",
       "      <td>2</td>\n",
       "    </tr>\n",
       "    <tr>\n",
       "      <th>24</th>\n",
       "      <td>NaN</td>\n",
       "      <td>USA</td>\n",
       "      <td>[parE_I355T=POINT, glpT_E448K=POINT, cyaA_S352T=POINT, uhpT_E350Q=POINT]</td>\n",
       "      <td>NaN</td>\n",
       "      <td>North America</td>\n",
       "      <td>4</td>\n",
       "      <td>4</td>\n",
       "    </tr>\n",
       "    <tr>\n",
       "      <th>25</th>\n",
       "      <td>NaN</td>\n",
       "      <td>USA</td>\n",
       "      <td>[tet(C), glpT_E448K=POINT, uhpT_E350Q=POINT, parE_I355T=POINT, cyaA_S352T=POINT]</td>\n",
       "      <td>NaN</td>\n",
       "      <td>North America</td>\n",
       "      <td>5</td>\n",
       "      <td>4</td>\n",
       "    </tr>\n",
       "    <tr>\n",
       "      <th>26</th>\n",
       "      <td>NaN</td>\n",
       "      <td>USA</td>\n",
       "      <td>[sul1, glpT_E448K=POINT, aph(3'), catA1, pmrB_Y358N=POINT, aadA1]</td>\n",
       "      <td>NaN</td>\n",
       "      <td>North America</td>\n",
       "      <td>6</td>\n",
       "      <td>2</td>\n",
       "    </tr>\n",
       "    <tr>\n",
       "      <th>27</th>\n",
       "      <td>NaN</td>\n",
       "      <td>USA</td>\n",
       "      <td>[parC_S57T=POINT, glpT_E448K=POINT, cyaA_S352T=POINT]</td>\n",
       "      <td>NaN</td>\n",
       "      <td>North America</td>\n",
       "      <td>3</td>\n",
       "      <td>3</td>\n",
       "    </tr>\n",
       "    <tr>\n",
       "      <th>28</th>\n",
       "      <td>NaN</td>\n",
       "      <td>USA</td>\n",
       "      <td>[tet(B), glpT_E448K=POINT, uhpT_E350Q=POINT]</td>\n",
       "      <td>NaN</td>\n",
       "      <td>North America</td>\n",
       "      <td>3</td>\n",
       "      <td>2</td>\n",
       "    </tr>\n",
       "    <tr>\n",
       "      <th>29</th>\n",
       "      <td>NaN</td>\n",
       "      <td>Papua New Guinea</td>\n",
       "      <td>[parC_S57T=POINT, glpT_E448K=POINT, cyaA_S352T=POINT]</td>\n",
       "      <td>NaN</td>\n",
       "      <td>Oceania</td>\n",
       "      <td>3</td>\n",
       "      <td>3</td>\n",
       "    </tr>\n",
       "    <tr>\n",
       "      <th>30</th>\n",
       "      <td>NaN</td>\n",
       "      <td>Sweden</td>\n",
       "      <td>[glpT_E448K=POINT, cyaA_S352T=POINT]</td>\n",
       "      <td>NaN</td>\n",
       "      <td>Europe</td>\n",
       "      <td>2</td>\n",
       "      <td>2</td>\n",
       "    </tr>\n",
       "    <tr>\n",
       "      <th>31</th>\n",
       "      <td>NaN</td>\n",
       "      <td>Sweden</td>\n",
       "      <td>[glpT_E448K=POINT, cyaA_S352T=POINT]</td>\n",
       "      <td>NaN</td>\n",
       "      <td>Europe</td>\n",
       "      <td>2</td>\n",
       "      <td>2</td>\n",
       "    </tr>\n",
       "    <tr>\n",
       "      <th>32</th>\n",
       "      <td>NaN</td>\n",
       "      <td>USA</td>\n",
       "      <td>[pmrB_E123D=POINT, glpT_E448K=POINT]</td>\n",
       "      <td>NaN</td>\n",
       "      <td>North America</td>\n",
       "      <td>2</td>\n",
       "      <td>2</td>\n",
       "    </tr>\n",
       "    <tr>\n",
       "      <th>33</th>\n",
       "      <td>NaN</td>\n",
       "      <td>Sweden</td>\n",
       "      <td>[pmrB_E123D=POINT, glpT_E448K=POINT]</td>\n",
       "      <td>NaN</td>\n",
       "      <td>Europe</td>\n",
       "      <td>2</td>\n",
       "      <td>2</td>\n",
       "    </tr>\n",
       "  </tbody>\n",
       "</table>\n",
       "</div>"
      ],
      "text/plain": [
       "    year           country  \\\n",
       "1    NaN               USA   \n",
       "4    NaN               USA   \n",
       "5    NaN               USA   \n",
       "6    NaN            Sweden   \n",
       "7   1979               USA   \n",
       "8    NaN               USA   \n",
       "9    NaN               USA   \n",
       "10   NaN               USA   \n",
       "11   NaN               USA   \n",
       "12   NaN               USA   \n",
       "14   NaN            Sweden   \n",
       "15   NaN            Sweden   \n",
       "16   NaN         Indonesia   \n",
       "17   NaN         Indonesia   \n",
       "18   NaN               USA   \n",
       "19   NaN               USA   \n",
       "20   NaN            Canada   \n",
       "21   NaN               USA   \n",
       "22   NaN               USA   \n",
       "23   NaN               USA   \n",
       "24   NaN               USA   \n",
       "25   NaN               USA   \n",
       "26   NaN               USA   \n",
       "27   NaN               USA   \n",
       "28   NaN               USA   \n",
       "29   NaN  Papua New Guinea   \n",
       "30   NaN            Sweden   \n",
       "31   NaN            Sweden   \n",
       "32   NaN               USA   \n",
       "33   NaN            Sweden   \n",
       "\n",
       "                                                                           genotypes  \\\n",
       "1                                                              [tet(A), sul1, aadA1]   \n",
       "4                                                   [aph(6), aph(3''), tet(A), sul2]   \n",
       "5                                               [pmrB_Y358N=POINT, glpT_E448K=POINT]   \n",
       "6                             [glpT_E448K=POINT, cyaA_S352T=POINT, uhpT_E350Q=POINT]   \n",
       "7                                                                 [glpT_E448K=POINT]   \n",
       "8                             [pmrB_E123D=POINT, glpT_E448K=POINT, parE_D475E=POINT]   \n",
       "9                             [pmrB_E123D=POINT, glpT_E448K=POINT, uhpT_E350Q=POINT]   \n",
       "10                                              [pmrB_Y358N=POINT, glpT_E448K=POINT]   \n",
       "11                                              [pmrB_Y358N=POINT, glpT_E448K=POINT]   \n",
       "12                     [parC_A56T=POINT, tet(A), pmrB_Y358N=POINT, glpT_E448K=POINT]   \n",
       "14                                                                [parE_I355T=POINT]   \n",
       "15                                                                [glpT_E448K=POINT]   \n",
       "16                                                  [aph(6), aph(3''), tet(B), sul2]   \n",
       "17                                                                [glpT_E448K=POINT]   \n",
       "18                                              [pmrB_E123D=POINT, glpT_E448K=POINT]   \n",
       "19                    [aph(3''), glpT_E448K=POINT, pmrB_Y358N=POINT, aph(6), tet(B)]   \n",
       "20                    [aph(3''), glpT_E448K=POINT, pmrB_Y358N=POINT, aph(6), tet(B)]   \n",
       "21                                              [pmrB_E123D=POINT, glpT_E448K=POINT]   \n",
       "22                                              [pmrB_Y358N=POINT, glpT_E448K=POINT]   \n",
       "23                                              [pmrB_Y358N=POINT, glpT_E448K=POINT]   \n",
       "24          [parE_I355T=POINT, glpT_E448K=POINT, cyaA_S352T=POINT, uhpT_E350Q=POINT]   \n",
       "25  [tet(C), glpT_E448K=POINT, uhpT_E350Q=POINT, parE_I355T=POINT, cyaA_S352T=POINT]   \n",
       "26                 [sul1, glpT_E448K=POINT, aph(3'), catA1, pmrB_Y358N=POINT, aadA1]   \n",
       "27                             [parC_S57T=POINT, glpT_E448K=POINT, cyaA_S352T=POINT]   \n",
       "28                                      [tet(B), glpT_E448K=POINT, uhpT_E350Q=POINT]   \n",
       "29                             [parC_S57T=POINT, glpT_E448K=POINT, cyaA_S352T=POINT]   \n",
       "30                                              [glpT_E448K=POINT, cyaA_S352T=POINT]   \n",
       "31                                              [glpT_E448K=POINT, cyaA_S352T=POINT]   \n",
       "32                                              [pmrB_E123D=POINT, glpT_E448K=POINT]   \n",
       "33                                              [pmrB_E123D=POINT, glpT_E448K=POINT]   \n",
       "\n",
       "   AST_phenotypes         region  num_genotypes  num_point_mutations  \n",
       "1             NaN  North America              3                    0  \n",
       "4             NaN  North America              4                    0  \n",
       "5             NaN  North America              2                    2  \n",
       "6             NaN         Europe              3                    3  \n",
       "7             NaN  North America              1                    1  \n",
       "8             NaN  North America              3                    3  \n",
       "9             NaN  North America              3                    3  \n",
       "10            NaN  North America              2                    2  \n",
       "11            NaN  North America              2                    2  \n",
       "12            NaN  North America              4                    3  \n",
       "14            NaN         Europe              1                    1  \n",
       "15            NaN         Europe              1                    1  \n",
       "16            NaN           Asia              4                    0  \n",
       "17            NaN           Asia              1                    1  \n",
       "18            NaN  North America              2                    2  \n",
       "19            NaN  North America              5                    2  \n",
       "20            NaN  North America              5                    2  \n",
       "21            NaN  North America              2                    2  \n",
       "22            NaN  North America              2                    2  \n",
       "23            NaN  North America              2                    2  \n",
       "24            NaN  North America              4                    4  \n",
       "25            NaN  North America              5                    4  \n",
       "26            NaN  North America              6                    2  \n",
       "27            NaN  North America              3                    3  \n",
       "28            NaN  North America              3                    2  \n",
       "29            NaN        Oceania              3                    3  \n",
       "30            NaN         Europe              2                    2  \n",
       "31            NaN         Europe              2                    2  \n",
       "32            NaN  North America              2                    2  \n",
       "33            NaN         Europe              2                    2  "
      ]
     },
     "execution_count": 38,
     "metadata": {},
     "output_type": "execute_result"
    }
   ],
   "source": [
    "print(f\"Final number of samples: {df_geno.shape[0]:,}\")\n",
    "df_geno.head(n=30)"
   ]
  }
 ],
 "metadata": {
  "kernelspec": {
   "display_name": "ARFusion",
   "language": "python",
   "name": "python3"
  },
  "language_info": {
   "codemirror_mode": {
    "name": "ipython",
    "version": 3
   },
   "file_extension": ".py",
   "mimetype": "text/x-python",
   "name": "python",
   "nbconvert_exporter": "python",
   "pygments_lexer": "ipython3",
   "version": "3.11.5"
  }
 },
 "nbformat": 4,
 "nbformat_minor": 2
}

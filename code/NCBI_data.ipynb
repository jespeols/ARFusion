{
 "cells": [
  {
   "cell_type": "markdown",
   "metadata": {},
   "source": [
    "# Data pre-processing"
   ]
  },
  {
   "cell_type": "markdown",
   "metadata": {},
   "source": [
    "Import packages"
   ]
  },
  {
   "cell_type": "code",
   "execution_count": 1,
   "metadata": {},
   "outputs": [],
   "source": [
    "import os\n",
    "import numpy as np\n",
    "import pandas as pd\n",
    "pd.set_option('display.max_colwidth', None) \n",
    "pd.set_option('display.max_columns', None)\n",
    "pd.set_option('display.max_rows', None)\n",
    "import matplotlib.pyplot as plt\n",
    "\n",
    "from pathlib import Path\n",
    "from collections import Counter\n",
    "from itertools import chain\n",
    "from copy import deepcopy\n",
    "%matplotlib inline"
   ]
  },
  {
   "cell_type": "code",
   "execution_count": 2,
   "metadata": {},
   "outputs": [
    {
     "name": "stdout",
     "output_type": "stream",
     "text": [
      "base directory: c:\\Users\\jespe\\Documents\\GitHub_local\\ARFusion\n"
     ]
    }
   ],
   "source": [
    "# set the base directory\n",
    "base_dir = Path(os.path.abspath('')).parent\n",
    "os.chdir(base_dir)\n",
    "print(\"base directory:\", base_dir)"
   ]
  },
  {
   "cell_type": "markdown",
   "metadata": {},
   "source": [
    "## NCBI"
   ]
  },
  {
   "cell_type": "code",
   "execution_count": 3,
   "metadata": {},
   "outputs": [
    {
     "name": "stdout",
     "output_type": "stream",
     "text": [
      "NCBI data shape: (340922, 66)\n",
      "NCBI number of samples: 340,922\n"
     ]
    }
   ],
   "source": [
    "NCBI_data = pd.read_csv('data/raw/NCBI.tsv', sep='\\t', low_memory=False)\n",
    "print(\"NCBI data shape:\", NCBI_data.shape)\n",
    "print(f\"NCBI number of samples: {NCBI_data.shape[0]:,}\")"
   ]
  },
  {
   "cell_type": "code",
   "execution_count": 4,
   "metadata": {},
   "outputs": [
    {
     "name": "stdout",
     "output_type": "stream",
     "text": [
      "NCBI data columns: Index(['#label', 'FDA_lab_id', 'HHS_region', 'IFSAC_category', 'LibraryLayout',\n",
      "       'PFGE_PrimaryEnzyme_pattern', 'PFGE_SecondaryEnzyme_pattern',\n",
      "       'Platform', 'Run', 'asm_acc', 'asm_level', 'asm_stats_contig_n50',\n",
      "       'asm_stats_length_bp', 'asm_stats_n_contig', 'assembly_method',\n",
      "       'attribute_package', 'bioproject_acc', 'bioproject_center',\n",
      "       'biosample_acc', 'isolate_identifiers', 'collected_by',\n",
      "       'collection_date', 'epi_type', 'fullasm_id', 'geo_loc_name', 'host',\n",
      "       'host_disease', 'isolation_source', 'lat_lon', 'ontological_term',\n",
      "       'outbreak', 'sample_name', 'scientific_name', 'serovar', 'source_type',\n",
      "       'species_taxid', 'sra_center', 'sra_release_date', 'strain',\n",
      "       'sequenced_by', 'project_name', 'target_acc', 'target_creation_date',\n",
      "       'taxid', 'wgs_acc_prefix', 'wgs_master_acc', 'minsame', 'mindiff',\n",
      "       'computed_types', 'number_drugs_resistant', 'number_drugs_intermediate',\n",
      "       'number_drugs_susceptible', 'number_drugs_tested', 'number_amr_genes',\n",
      "       'number_core_amr_genes', 'AST_phenotypes', 'AMR_genotypes',\n",
      "       'AMR_genotypes_core', 'number_stress_genes', 'stress_genotypes',\n",
      "       'number_virulence_genes', 'virulence_genotypes', 'amrfinder_version',\n",
      "       'refgene_db_version', 'amrfinder_analysis_type', 'amrfinder_applied'],\n",
      "      dtype='object')\n"
     ]
    }
   ],
   "source": [
    "print(\"NCBI data columns:\", NCBI_data.columns)"
   ]
  },
  {
   "cell_type": "code",
   "execution_count": 5,
   "metadata": {},
   "outputs": [
    {
     "data": {
      "text/html": [
       "<div>\n",
       "<style scoped>\n",
       "    .dataframe tbody tr th:only-of-type {\n",
       "        vertical-align: middle;\n",
       "    }\n",
       "\n",
       "    .dataframe tbody tr th {\n",
       "        vertical-align: top;\n",
       "    }\n",
       "\n",
       "    .dataframe thead th {\n",
       "        text-align: right;\n",
       "    }\n",
       "</style>\n",
       "<table border=\"1\" class=\"dataframe\">\n",
       "  <thead>\n",
       "    <tr style=\"text-align: right;\">\n",
       "      <th></th>\n",
       "      <th>#label</th>\n",
       "      <th>FDA_lab_id</th>\n",
       "      <th>HHS_region</th>\n",
       "      <th>IFSAC_category</th>\n",
       "      <th>LibraryLayout</th>\n",
       "      <th>PFGE_PrimaryEnzyme_pattern</th>\n",
       "      <th>PFGE_SecondaryEnzyme_pattern</th>\n",
       "      <th>Platform</th>\n",
       "      <th>Run</th>\n",
       "      <th>asm_acc</th>\n",
       "      <th>asm_level</th>\n",
       "      <th>asm_stats_contig_n50</th>\n",
       "      <th>asm_stats_length_bp</th>\n",
       "      <th>asm_stats_n_contig</th>\n",
       "      <th>assembly_method</th>\n",
       "      <th>attribute_package</th>\n",
       "      <th>bioproject_acc</th>\n",
       "      <th>bioproject_center</th>\n",
       "      <th>biosample_acc</th>\n",
       "      <th>isolate_identifiers</th>\n",
       "      <th>collected_by</th>\n",
       "      <th>collection_date</th>\n",
       "      <th>epi_type</th>\n",
       "      <th>fullasm_id</th>\n",
       "      <th>geo_loc_name</th>\n",
       "      <th>host</th>\n",
       "      <th>host_disease</th>\n",
       "      <th>isolation_source</th>\n",
       "      <th>lat_lon</th>\n",
       "      <th>ontological_term</th>\n",
       "      <th>outbreak</th>\n",
       "      <th>sample_name</th>\n",
       "      <th>scientific_name</th>\n",
       "      <th>serovar</th>\n",
       "      <th>source_type</th>\n",
       "      <th>species_taxid</th>\n",
       "      <th>sra_center</th>\n",
       "      <th>sra_release_date</th>\n",
       "      <th>strain</th>\n",
       "      <th>sequenced_by</th>\n",
       "      <th>project_name</th>\n",
       "      <th>target_acc</th>\n",
       "      <th>target_creation_date</th>\n",
       "      <th>taxid</th>\n",
       "      <th>wgs_acc_prefix</th>\n",
       "      <th>wgs_master_acc</th>\n",
       "      <th>minsame</th>\n",
       "      <th>mindiff</th>\n",
       "      <th>computed_types</th>\n",
       "      <th>number_drugs_resistant</th>\n",
       "      <th>number_drugs_intermediate</th>\n",
       "      <th>number_drugs_susceptible</th>\n",
       "      <th>number_drugs_tested</th>\n",
       "      <th>number_amr_genes</th>\n",
       "      <th>number_core_amr_genes</th>\n",
       "      <th>AST_phenotypes</th>\n",
       "      <th>AMR_genotypes</th>\n",
       "      <th>AMR_genotypes_core</th>\n",
       "      <th>number_stress_genes</th>\n",
       "      <th>stress_genotypes</th>\n",
       "      <th>number_virulence_genes</th>\n",
       "      <th>virulence_genotypes</th>\n",
       "      <th>amrfinder_version</th>\n",
       "      <th>refgene_db_version</th>\n",
       "      <th>amrfinder_analysis_type</th>\n",
       "      <th>amrfinder_applied</th>\n",
       "    </tr>\n",
       "  </thead>\n",
       "  <tbody>\n",
       "    <tr>\n",
       "      <th>0</th>\n",
       "      <td>PDT000002365.3|SAMN02368173|GCA_012802165.1|Escherichia coli||ESC0165|Pathogen: clinical or host-associated</td>\n",
       "      <td>NaN</td>\n",
       "      <td>NaN</td>\n",
       "      <td>NaN</td>\n",
       "      <td>PAIRED</td>\n",
       "      <td>NaN</td>\n",
       "      <td>NaN</td>\n",
       "      <td>ILLUMINA</td>\n",
       "      <td>SRR1060511</td>\n",
       "      <td>GCA_012802165.1</td>\n",
       "      <td>Contig</td>\n",
       "      <td>134039</td>\n",
       "      <td>4718827</td>\n",
       "      <td>88</td>\n",
       "      <td>SKESA v. 2.2</td>\n",
       "      <td>Pathogen: clinical or host-associated</td>\n",
       "      <td>PRJNA203445</td>\n",
       "      <td>University of California at Davis</td>\n",
       "      <td>SAMN02368173</td>\n",
       "      <td>BCW_2912,\"CFSAN005754\",\"ESC0165\",\"SRS519863\"</td>\n",
       "      <td>FDA</td>\n",
       "      <td>NaN</td>\n",
       "      <td>clinical</td>\n",
       "      <td>19221148.0</td>\n",
       "      <td>USA</td>\n",
       "      <td>Homo sapiens</td>\n",
       "      <td>NaN</td>\n",
       "      <td>human</td>\n",
       "      <td>NaN</td>\n",
       "      <td>NaN</td>\n",
       "      <td>NaN</td>\n",
       "      <td>BCW_2912</td>\n",
       "      <td>Escherichia coli</td>\n",
       "      <td>NaN</td>\n",
       "      <td>NaN</td>\n",
       "      <td>562</td>\n",
       "      <td>UCD-100K</td>\n",
       "      <td>2015-07-22</td>\n",
       "      <td>ESC0165</td>\n",
       "      <td>NaN</td>\n",
       "      <td>NaN</td>\n",
       "      <td>PDT000002365.3</td>\n",
       "      <td>2015-09-14</td>\n",
       "      <td>562</td>\n",
       "      <td>DABDQO</td>\n",
       "      <td>DABDQO000000000.1</td>\n",
       "      <td>NaN</td>\n",
       "      <td>NaN</td>\n",
       "      <td>NaN</td>\n",
       "      <td>0</td>\n",
       "      <td>0</td>\n",
       "      <td>0</td>\n",
       "      <td>0</td>\n",
       "      <td>3</td>\n",
       "      <td>0</td>\n",
       "      <td>NaN</td>\n",
       "      <td>acrF,blaEC,mdtM</td>\n",
       "      <td>NaN</td>\n",
       "      <td>2</td>\n",
       "      <td>emrE,ymgB</td>\n",
       "      <td>3</td>\n",
       "      <td>astA,espX1=PARTIAL,fdeC</td>\n",
       "      <td>3.6.7</td>\n",
       "      <td>2020-03-20.1</td>\n",
       "      <td>COMBINED</td>\n",
       "      <td>1</td>\n",
       "    </tr>\n",
       "    <tr>\n",
       "      <th>1</th>\n",
       "      <td>PDT000002366.3|SAMN02368174|GCA_012802195.1|Escherichia coli||ESC0167|Pathogen: environmental/food/other</td>\n",
       "      <td>NaN</td>\n",
       "      <td>NaN</td>\n",
       "      <td>NaN</td>\n",
       "      <td>PAIRED</td>\n",
       "      <td>NaN</td>\n",
       "      <td>NaN</td>\n",
       "      <td>ILLUMINA</td>\n",
       "      <td>SRR1060510</td>\n",
       "      <td>GCA_012802195.1</td>\n",
       "      <td>Contig</td>\n",
       "      <td>73843</td>\n",
       "      <td>4931067</td>\n",
       "      <td>157</td>\n",
       "      <td>SKESA v. 2.2</td>\n",
       "      <td>Pathogen: environmental/food/other</td>\n",
       "      <td>PRJNA203445</td>\n",
       "      <td>University of California at Davis</td>\n",
       "      <td>SAMN02368174</td>\n",
       "      <td>BCW_2914,\"CFSAN005756\",\"ESC0167\",\"SRS519864\"</td>\n",
       "      <td>FDA</td>\n",
       "      <td>NaN</td>\n",
       "      <td>environmental/other</td>\n",
       "      <td>19221188.0</td>\n",
       "      <td>USA</td>\n",
       "      <td>NaN</td>\n",
       "      <td>NaN</td>\n",
       "      <td>dog</td>\n",
       "      <td>NaN</td>\n",
       "      <td>NaN</td>\n",
       "      <td>NaN</td>\n",
       "      <td>BCW_2914</td>\n",
       "      <td>Escherichia coli</td>\n",
       "      <td>NaN</td>\n",
       "      <td>NaN</td>\n",
       "      <td>562</td>\n",
       "      <td>UCD-100K</td>\n",
       "      <td>2015-07-22</td>\n",
       "      <td>ESC0167</td>\n",
       "      <td>NaN</td>\n",
       "      <td>NaN</td>\n",
       "      <td>PDT000002366.3</td>\n",
       "      <td>2015-09-14</td>\n",
       "      <td>562</td>\n",
       "      <td>DABDQN</td>\n",
       "      <td>DABDQN000000000.1</td>\n",
       "      <td>NaN</td>\n",
       "      <td>NaN</td>\n",
       "      <td>NaN</td>\n",
       "      <td>0</td>\n",
       "      <td>0</td>\n",
       "      <td>0</td>\n",
       "      <td>0</td>\n",
       "      <td>6</td>\n",
       "      <td>3</td>\n",
       "      <td>NaN</td>\n",
       "      <td>aadA1,acrF,blaEC,mdtM,sul1,tet(A)</td>\n",
       "      <td>aadA1,sul1,tet(A)</td>\n",
       "      <td>9</td>\n",
       "      <td>merA=HMM,merC,merD=HMM,merE=HMM,merP,merR,merT,qacEdelta1,ymgB</td>\n",
       "      <td>1</td>\n",
       "      <td>espX1=PARTIAL</td>\n",
       "      <td>3.6.7</td>\n",
       "      <td>2020-03-20.1</td>\n",
       "      <td>COMBINED</td>\n",
       "      <td>1</td>\n",
       "    </tr>\n",
       "    <tr>\n",
       "      <th>2</th>\n",
       "      <td>PDT000002367.3|SAMN02368180|GCA_012802235.1|Escherichia coli||ESC0176|Pathogen: clinical or host-associated</td>\n",
       "      <td>NaN</td>\n",
       "      <td>NaN</td>\n",
       "      <td>NaN</td>\n",
       "      <td>PAIRED</td>\n",
       "      <td>NaN</td>\n",
       "      <td>NaN</td>\n",
       "      <td>ILLUMINA</td>\n",
       "      <td>SRR1060509</td>\n",
       "      <td>GCA_012802235.1</td>\n",
       "      <td>Contig</td>\n",
       "      <td>81293</td>\n",
       "      <td>5045269</td>\n",
       "      <td>220</td>\n",
       "      <td>SKESA v. 2.2</td>\n",
       "      <td>Pathogen: clinical or host-associated</td>\n",
       "      <td>PRJNA203445</td>\n",
       "      <td>University of California at Davis</td>\n",
       "      <td>SAMN02368180</td>\n",
       "      <td>BCW_2923,\"CFSAN005765\",\"ESC0176\",\"SRS519865\"</td>\n",
       "      <td>FDA</td>\n",
       "      <td>NaN</td>\n",
       "      <td>clinical</td>\n",
       "      <td>19221208.0</td>\n",
       "      <td>Sweden</td>\n",
       "      <td>Homo sapiens</td>\n",
       "      <td>NaN</td>\n",
       "      <td>human</td>\n",
       "      <td>NaN</td>\n",
       "      <td>NaN</td>\n",
       "      <td>NaN</td>\n",
       "      <td>BCW_2923</td>\n",
       "      <td>Escherichia coli</td>\n",
       "      <td>NaN</td>\n",
       "      <td>NaN</td>\n",
       "      <td>562</td>\n",
       "      <td>UCD-100K</td>\n",
       "      <td>2015-07-22</td>\n",
       "      <td>ESC0176</td>\n",
       "      <td>NaN</td>\n",
       "      <td>NaN</td>\n",
       "      <td>PDT000002367.3</td>\n",
       "      <td>2015-09-14</td>\n",
       "      <td>562</td>\n",
       "      <td>DABDQR</td>\n",
       "      <td>DABDQR000000000.1</td>\n",
       "      <td>NaN</td>\n",
       "      <td>NaN</td>\n",
       "      <td>NaN</td>\n",
       "      <td>0</td>\n",
       "      <td>0</td>\n",
       "      <td>0</td>\n",
       "      <td>0</td>\n",
       "      <td>3</td>\n",
       "      <td>0</td>\n",
       "      <td>NaN</td>\n",
       "      <td>acrF,blaEC,mdtM</td>\n",
       "      <td>NaN</td>\n",
       "      <td>2</td>\n",
       "      <td>emrE,ymgB</td>\n",
       "      <td>5</td>\n",
       "      <td>espX1=PARTIAL,fdeC,iha,mchB,mchF</td>\n",
       "      <td>3.6.7</td>\n",
       "      <td>2020-03-20.1</td>\n",
       "      <td>COMBINED</td>\n",
       "      <td>1</td>\n",
       "    </tr>\n",
       "    <tr>\n",
       "      <th>3</th>\n",
       "      <td>PDT000002368.3|SAMN02368181|GCA_012802275.1|Escherichia coli||ESC0178|Pathogen: clinical or host-associated</td>\n",
       "      <td>NaN</td>\n",
       "      <td>NaN</td>\n",
       "      <td>NaN</td>\n",
       "      <td>PAIRED</td>\n",
       "      <td>NaN</td>\n",
       "      <td>NaN</td>\n",
       "      <td>ILLUMINA</td>\n",
       "      <td>SRR1060508</td>\n",
       "      <td>GCA_012802275.1</td>\n",
       "      <td>Contig</td>\n",
       "      <td>85880</td>\n",
       "      <td>4922402</td>\n",
       "      <td>145</td>\n",
       "      <td>SKESA v. 2.2</td>\n",
       "      <td>Pathogen: clinical or host-associated</td>\n",
       "      <td>PRJNA203445</td>\n",
       "      <td>University of California at Davis</td>\n",
       "      <td>SAMN02368181</td>\n",
       "      <td>BCW_2925,\"CFSAN005767\",\"ESC0178\",\"SRS519866\"</td>\n",
       "      <td>FDA</td>\n",
       "      <td>NaN</td>\n",
       "      <td>clinical</td>\n",
       "      <td>19221248.0</td>\n",
       "      <td>Sweden</td>\n",
       "      <td>Homo sapiens</td>\n",
       "      <td>NaN</td>\n",
       "      <td>human</td>\n",
       "      <td>NaN</td>\n",
       "      <td>NaN</td>\n",
       "      <td>NaN</td>\n",
       "      <td>BCW_2925</td>\n",
       "      <td>Escherichia coli</td>\n",
       "      <td>NaN</td>\n",
       "      <td>NaN</td>\n",
       "      <td>562</td>\n",
       "      <td>UCD-100K</td>\n",
       "      <td>2015-07-22</td>\n",
       "      <td>ESC0178</td>\n",
       "      <td>NaN</td>\n",
       "      <td>NaN</td>\n",
       "      <td>PDT000002368.3</td>\n",
       "      <td>2015-09-14</td>\n",
       "      <td>562</td>\n",
       "      <td>DABDQQ</td>\n",
       "      <td>DABDQQ000000000.1</td>\n",
       "      <td>NaN</td>\n",
       "      <td>NaN</td>\n",
       "      <td>NaN</td>\n",
       "      <td>0</td>\n",
       "      <td>0</td>\n",
       "      <td>0</td>\n",
       "      <td>0</td>\n",
       "      <td>3</td>\n",
       "      <td>0</td>\n",
       "      <td>NaN</td>\n",
       "      <td>acrF,blaEC,mdtM</td>\n",
       "      <td>NaN</td>\n",
       "      <td>25</td>\n",
       "      <td>emrE,hdeD-GI,hsp20,kefB-GI,pcoA,pcoB,pcoC,pcoD,pcoE,pcoR,pcoS,psi-GI,shsP,silA,silB,silC,silE,silF,silP,silR,silS,trxLHR,yfdX1,yfdX2,ymgB</td>\n",
       "      <td>2</td>\n",
       "      <td>fdeC,sslE=HMM</td>\n",
       "      <td>3.6.7</td>\n",
       "      <td>2020-03-20.1</td>\n",
       "      <td>COMBINED</td>\n",
       "      <td>1</td>\n",
       "    </tr>\n",
       "    <tr>\n",
       "      <th>4</th>\n",
       "      <td>PDT000002369.3|SAMN02368184|GCA_012802315.1|Escherichia coli||ESC0182|Pathogen: environmental/food/other</td>\n",
       "      <td>NaN</td>\n",
       "      <td>NaN</td>\n",
       "      <td>NaN</td>\n",
       "      <td>PAIRED</td>\n",
       "      <td>NaN</td>\n",
       "      <td>NaN</td>\n",
       "      <td>ILLUMINA</td>\n",
       "      <td>SRR1060507</td>\n",
       "      <td>GCA_012802315.1</td>\n",
       "      <td>Contig</td>\n",
       "      <td>83886</td>\n",
       "      <td>4647912</td>\n",
       "      <td>126</td>\n",
       "      <td>SKESA v. 2.2</td>\n",
       "      <td>Pathogen: environmental/food/other</td>\n",
       "      <td>PRJNA203445</td>\n",
       "      <td>University of California at Davis</td>\n",
       "      <td>SAMN02368184</td>\n",
       "      <td>BCW_2929,\"CFSAN005771\",\"ESC0182\",\"SRS519867\"</td>\n",
       "      <td>FDA</td>\n",
       "      <td>NaN</td>\n",
       "      <td>environmental/other</td>\n",
       "      <td>19221308.0</td>\n",
       "      <td>USA:WA</td>\n",
       "      <td>NaN</td>\n",
       "      <td>NaN</td>\n",
       "      <td>Celebese ape</td>\n",
       "      <td>NaN</td>\n",
       "      <td>NaN</td>\n",
       "      <td>NaN</td>\n",
       "      <td>BCW_2929</td>\n",
       "      <td>Escherichia coli</td>\n",
       "      <td>NaN</td>\n",
       "      <td>NaN</td>\n",
       "      <td>562</td>\n",
       "      <td>UCD-100K</td>\n",
       "      <td>2015-07-22</td>\n",
       "      <td>ESC0182</td>\n",
       "      <td>NaN</td>\n",
       "      <td>NaN</td>\n",
       "      <td>PDT000002369.3</td>\n",
       "      <td>2015-09-14</td>\n",
       "      <td>562</td>\n",
       "      <td>DABDQS</td>\n",
       "      <td>DABDQS000000000.1</td>\n",
       "      <td>NaN</td>\n",
       "      <td>NaN</td>\n",
       "      <td>NaN</td>\n",
       "      <td>0</td>\n",
       "      <td>0</td>\n",
       "      <td>0</td>\n",
       "      <td>0</td>\n",
       "      <td>7</td>\n",
       "      <td>4</td>\n",
       "      <td>NaN</td>\n",
       "      <td>acrF,aph(3'')-Ib,aph(6)-Id,blaEC,mdtM,sul2,tet(A)</td>\n",
       "      <td>aph(3'')-Ib,aph(6)-Id,sul2,tet(A)</td>\n",
       "      <td>9</td>\n",
       "      <td>hdeD-GI,hsp20,kefB-GI,psi-GI,shsP,trxLHR,yfdX1,yfdX2,ymgB</td>\n",
       "      <td>3</td>\n",
       "      <td>espX1=PARTIAL,fdeC,iss</td>\n",
       "      <td>3.6.7</td>\n",
       "      <td>2020-03-20.1</td>\n",
       "      <td>COMBINED</td>\n",
       "      <td>1</td>\n",
       "    </tr>\n",
       "  </tbody>\n",
       "</table>\n",
       "</div>"
      ],
      "text/plain": [
       "                                                                                                        #label  \\\n",
       "0  PDT000002365.3|SAMN02368173|GCA_012802165.1|Escherichia coli||ESC0165|Pathogen: clinical or host-associated   \n",
       "1     PDT000002366.3|SAMN02368174|GCA_012802195.1|Escherichia coli||ESC0167|Pathogen: environmental/food/other   \n",
       "2  PDT000002367.3|SAMN02368180|GCA_012802235.1|Escherichia coli||ESC0176|Pathogen: clinical or host-associated   \n",
       "3  PDT000002368.3|SAMN02368181|GCA_012802275.1|Escherichia coli||ESC0178|Pathogen: clinical or host-associated   \n",
       "4     PDT000002369.3|SAMN02368184|GCA_012802315.1|Escherichia coli||ESC0182|Pathogen: environmental/food/other   \n",
       "\n",
       "  FDA_lab_id  HHS_region IFSAC_category LibraryLayout  \\\n",
       "0        NaN         NaN            NaN        PAIRED   \n",
       "1        NaN         NaN            NaN        PAIRED   \n",
       "2        NaN         NaN            NaN        PAIRED   \n",
       "3        NaN         NaN            NaN        PAIRED   \n",
       "4        NaN         NaN            NaN        PAIRED   \n",
       "\n",
       "  PFGE_PrimaryEnzyme_pattern PFGE_SecondaryEnzyme_pattern  Platform  \\\n",
       "0                        NaN                          NaN  ILLUMINA   \n",
       "1                        NaN                          NaN  ILLUMINA   \n",
       "2                        NaN                          NaN  ILLUMINA   \n",
       "3                        NaN                          NaN  ILLUMINA   \n",
       "4                        NaN                          NaN  ILLUMINA   \n",
       "\n",
       "          Run          asm_acc asm_level  asm_stats_contig_n50  \\\n",
       "0  SRR1060511  GCA_012802165.1    Contig                134039   \n",
       "1  SRR1060510  GCA_012802195.1    Contig                 73843   \n",
       "2  SRR1060509  GCA_012802235.1    Contig                 81293   \n",
       "3  SRR1060508  GCA_012802275.1    Contig                 85880   \n",
       "4  SRR1060507  GCA_012802315.1    Contig                 83886   \n",
       "\n",
       "   asm_stats_length_bp  asm_stats_n_contig assembly_method  \\\n",
       "0              4718827                  88    SKESA v. 2.2   \n",
       "1              4931067                 157    SKESA v. 2.2   \n",
       "2              5045269                 220    SKESA v. 2.2   \n",
       "3              4922402                 145    SKESA v. 2.2   \n",
       "4              4647912                 126    SKESA v. 2.2   \n",
       "\n",
       "                       attribute_package bioproject_acc  \\\n",
       "0  Pathogen: clinical or host-associated    PRJNA203445   \n",
       "1     Pathogen: environmental/food/other    PRJNA203445   \n",
       "2  Pathogen: clinical or host-associated    PRJNA203445   \n",
       "3  Pathogen: clinical or host-associated    PRJNA203445   \n",
       "4     Pathogen: environmental/food/other    PRJNA203445   \n",
       "\n",
       "                   bioproject_center biosample_acc  \\\n",
       "0  University of California at Davis  SAMN02368173   \n",
       "1  University of California at Davis  SAMN02368174   \n",
       "2  University of California at Davis  SAMN02368180   \n",
       "3  University of California at Davis  SAMN02368181   \n",
       "4  University of California at Davis  SAMN02368184   \n",
       "\n",
       "                            isolate_identifiers collected_by collection_date  \\\n",
       "0  BCW_2912,\"CFSAN005754\",\"ESC0165\",\"SRS519863\"          FDA             NaN   \n",
       "1  BCW_2914,\"CFSAN005756\",\"ESC0167\",\"SRS519864\"          FDA             NaN   \n",
       "2  BCW_2923,\"CFSAN005765\",\"ESC0176\",\"SRS519865\"          FDA             NaN   \n",
       "3  BCW_2925,\"CFSAN005767\",\"ESC0178\",\"SRS519866\"          FDA             NaN   \n",
       "4  BCW_2929,\"CFSAN005771\",\"ESC0182\",\"SRS519867\"          FDA             NaN   \n",
       "\n",
       "              epi_type  fullasm_id geo_loc_name          host host_disease  \\\n",
       "0             clinical  19221148.0          USA  Homo sapiens          NaN   \n",
       "1  environmental/other  19221188.0          USA           NaN          NaN   \n",
       "2             clinical  19221208.0       Sweden  Homo sapiens          NaN   \n",
       "3             clinical  19221248.0       Sweden  Homo sapiens          NaN   \n",
       "4  environmental/other  19221308.0       USA:WA           NaN          NaN   \n",
       "\n",
       "  isolation_source lat_lon ontological_term outbreak sample_name  \\\n",
       "0            human     NaN              NaN      NaN    BCW_2912   \n",
       "1              dog     NaN              NaN      NaN    BCW_2914   \n",
       "2            human     NaN              NaN      NaN    BCW_2923   \n",
       "3            human     NaN              NaN      NaN    BCW_2925   \n",
       "4     Celebese ape     NaN              NaN      NaN    BCW_2929   \n",
       "\n",
       "    scientific_name serovar source_type  species_taxid sra_center  \\\n",
       "0  Escherichia coli     NaN         NaN            562   UCD-100K   \n",
       "1  Escherichia coli     NaN         NaN            562   UCD-100K   \n",
       "2  Escherichia coli     NaN         NaN            562   UCD-100K   \n",
       "3  Escherichia coli     NaN         NaN            562   UCD-100K   \n",
       "4  Escherichia coli     NaN         NaN            562   UCD-100K   \n",
       "\n",
       "  sra_release_date   strain sequenced_by project_name      target_acc  \\\n",
       "0       2015-07-22  ESC0165          NaN          NaN  PDT000002365.3   \n",
       "1       2015-07-22  ESC0167          NaN          NaN  PDT000002366.3   \n",
       "2       2015-07-22  ESC0176          NaN          NaN  PDT000002367.3   \n",
       "3       2015-07-22  ESC0178          NaN          NaN  PDT000002368.3   \n",
       "4       2015-07-22  ESC0182          NaN          NaN  PDT000002369.3   \n",
       "\n",
       "  target_creation_date  taxid wgs_acc_prefix     wgs_master_acc  minsame  \\\n",
       "0           2015-09-14    562         DABDQO  DABDQO000000000.1      NaN   \n",
       "1           2015-09-14    562         DABDQN  DABDQN000000000.1      NaN   \n",
       "2           2015-09-14    562         DABDQR  DABDQR000000000.1      NaN   \n",
       "3           2015-09-14    562         DABDQQ  DABDQQ000000000.1      NaN   \n",
       "4           2015-09-14    562         DABDQS  DABDQS000000000.1      NaN   \n",
       "\n",
       "   mindiff  computed_types  number_drugs_resistant  number_drugs_intermediate  \\\n",
       "0      NaN             NaN                       0                          0   \n",
       "1      NaN             NaN                       0                          0   \n",
       "2      NaN             NaN                       0                          0   \n",
       "3      NaN             NaN                       0                          0   \n",
       "4      NaN             NaN                       0                          0   \n",
       "\n",
       "   number_drugs_susceptible  number_drugs_tested  number_amr_genes  \\\n",
       "0                         0                    0                 3   \n",
       "1                         0                    0                 6   \n",
       "2                         0                    0                 3   \n",
       "3                         0                    0                 3   \n",
       "4                         0                    0                 7   \n",
       "\n",
       "   number_core_amr_genes AST_phenotypes  \\\n",
       "0                      0            NaN   \n",
       "1                      3            NaN   \n",
       "2                      0            NaN   \n",
       "3                      0            NaN   \n",
       "4                      4            NaN   \n",
       "\n",
       "                                       AMR_genotypes  \\\n",
       "0                                    acrF,blaEC,mdtM   \n",
       "1                  aadA1,acrF,blaEC,mdtM,sul1,tet(A)   \n",
       "2                                    acrF,blaEC,mdtM   \n",
       "3                                    acrF,blaEC,mdtM   \n",
       "4  acrF,aph(3'')-Ib,aph(6)-Id,blaEC,mdtM,sul2,tet(A)   \n",
       "\n",
       "                  AMR_genotypes_core  number_stress_genes  \\\n",
       "0                                NaN                    2   \n",
       "1                  aadA1,sul1,tet(A)                    9   \n",
       "2                                NaN                    2   \n",
       "3                                NaN                   25   \n",
       "4  aph(3'')-Ib,aph(6)-Id,sul2,tet(A)                    9   \n",
       "\n",
       "                                                                                                                            stress_genotypes  \\\n",
       "0                                                                                                                                  emrE,ymgB   \n",
       "1                                                                             merA=HMM,merC,merD=HMM,merE=HMM,merP,merR,merT,qacEdelta1,ymgB   \n",
       "2                                                                                                                                  emrE,ymgB   \n",
       "3  emrE,hdeD-GI,hsp20,kefB-GI,pcoA,pcoB,pcoC,pcoD,pcoE,pcoR,pcoS,psi-GI,shsP,silA,silB,silC,silE,silF,silP,silR,silS,trxLHR,yfdX1,yfdX2,ymgB   \n",
       "4                                                                                  hdeD-GI,hsp20,kefB-GI,psi-GI,shsP,trxLHR,yfdX1,yfdX2,ymgB   \n",
       "\n",
       "   number_virulence_genes               virulence_genotypes amrfinder_version  \\\n",
       "0                       3           astA,espX1=PARTIAL,fdeC             3.6.7   \n",
       "1                       1                     espX1=PARTIAL             3.6.7   \n",
       "2                       5  espX1=PARTIAL,fdeC,iha,mchB,mchF             3.6.7   \n",
       "3                       2                     fdeC,sslE=HMM             3.6.7   \n",
       "4                       3            espX1=PARTIAL,fdeC,iss             3.6.7   \n",
       "\n",
       "  refgene_db_version amrfinder_analysis_type  amrfinder_applied  \n",
       "0       2020-03-20.1                COMBINED                  1  \n",
       "1       2020-03-20.1                COMBINED                  1  \n",
       "2       2020-03-20.1                COMBINED                  1  \n",
       "3       2020-03-20.1                COMBINED                  1  \n",
       "4       2020-03-20.1                COMBINED                  1  "
      ]
     },
     "execution_count": 5,
     "metadata": {},
     "output_type": "execute_result"
    }
   ],
   "source": [
    "pd.set_option('display.max_rows', None)\n",
    "pd.set_option('display.max_columns', None)\n",
    "NCBI_data.head()"
   ]
  },
  {
   "cell_type": "markdown",
   "metadata": {},
   "source": [
    "### Some data exploration"
   ]
  },
  {
   "cell_type": "code",
   "execution_count": 6,
   "metadata": {},
   "outputs": [
    {
     "data": {
      "text/html": [
       "<div>\n",
       "<style scoped>\n",
       "    .dataframe tbody tr th:only-of-type {\n",
       "        vertical-align: middle;\n",
       "    }\n",
       "\n",
       "    .dataframe tbody tr th {\n",
       "        vertical-align: top;\n",
       "    }\n",
       "\n",
       "    .dataframe thead th {\n",
       "        text-align: right;\n",
       "    }\n",
       "</style>\n",
       "<table border=\"1\" class=\"dataframe\">\n",
       "  <thead>\n",
       "    <tr style=\"text-align: right;\">\n",
       "      <th></th>\n",
       "      <th>collection_date</th>\n",
       "      <th>geo_loc_name</th>\n",
       "      <th>host</th>\n",
       "      <th>scientific_name</th>\n",
       "      <th>AST_phenotypes</th>\n",
       "      <th>AMR_genotypes_core</th>\n",
       "      <th>AMR_genotypes</th>\n",
       "    </tr>\n",
       "  </thead>\n",
       "  <tbody>\n",
       "    <tr>\n",
       "      <th>0</th>\n",
       "      <td>NaN</td>\n",
       "      <td>USA</td>\n",
       "      <td>Homo sapiens</td>\n",
       "      <td>Escherichia coli</td>\n",
       "      <td>NaN</td>\n",
       "      <td>NaN</td>\n",
       "      <td>acrF,blaEC,mdtM</td>\n",
       "    </tr>\n",
       "    <tr>\n",
       "      <th>1</th>\n",
       "      <td>NaN</td>\n",
       "      <td>USA</td>\n",
       "      <td>NaN</td>\n",
       "      <td>Escherichia coli</td>\n",
       "      <td>NaN</td>\n",
       "      <td>aadA1,sul1,tet(A)</td>\n",
       "      <td>aadA1,acrF,blaEC,mdtM,sul1,tet(A)</td>\n",
       "    </tr>\n",
       "    <tr>\n",
       "      <th>2</th>\n",
       "      <td>NaN</td>\n",
       "      <td>Sweden</td>\n",
       "      <td>Homo sapiens</td>\n",
       "      <td>Escherichia coli</td>\n",
       "      <td>NaN</td>\n",
       "      <td>NaN</td>\n",
       "      <td>acrF,blaEC,mdtM</td>\n",
       "    </tr>\n",
       "    <tr>\n",
       "      <th>3</th>\n",
       "      <td>NaN</td>\n",
       "      <td>Sweden</td>\n",
       "      <td>Homo sapiens</td>\n",
       "      <td>Escherichia coli</td>\n",
       "      <td>NaN</td>\n",
       "      <td>NaN</td>\n",
       "      <td>acrF,blaEC,mdtM</td>\n",
       "    </tr>\n",
       "    <tr>\n",
       "      <th>4</th>\n",
       "      <td>NaN</td>\n",
       "      <td>USA:WA</td>\n",
       "      <td>NaN</td>\n",
       "      <td>Escherichia coli</td>\n",
       "      <td>NaN</td>\n",
       "      <td>aph(3'')-Ib,aph(6)-Id,sul2,tet(A)</td>\n",
       "      <td>acrF,aph(3'')-Ib,aph(6)-Id,blaEC,mdtM,sul2,tet(A)</td>\n",
       "    </tr>\n",
       "  </tbody>\n",
       "</table>\n",
       "</div>"
      ],
      "text/plain": [
       "  collection_date geo_loc_name          host   scientific_name AST_phenotypes  \\\n",
       "0             NaN          USA  Homo sapiens  Escherichia coli            NaN   \n",
       "1             NaN          USA           NaN  Escherichia coli            NaN   \n",
       "2             NaN       Sweden  Homo sapiens  Escherichia coli            NaN   \n",
       "3             NaN       Sweden  Homo sapiens  Escherichia coli            NaN   \n",
       "4             NaN       USA:WA           NaN  Escherichia coli            NaN   \n",
       "\n",
       "                  AMR_genotypes_core  \\\n",
       "0                                NaN   \n",
       "1                  aadA1,sul1,tet(A)   \n",
       "2                                NaN   \n",
       "3                                NaN   \n",
       "4  aph(3'')-Ib,aph(6)-Id,sul2,tet(A)   \n",
       "\n",
       "                                       AMR_genotypes  \n",
       "0                                    acrF,blaEC,mdtM  \n",
       "1                  aadA1,acrF,blaEC,mdtM,sul1,tet(A)  \n",
       "2                                    acrF,blaEC,mdtM  \n",
       "3                                    acrF,blaEC,mdtM  \n",
       "4  acrF,aph(3'')-Ib,aph(6)-Id,blaEC,mdtM,sul2,tet(A)  "
      ]
     },
     "execution_count": 6,
     "metadata": {},
     "output_type": "execute_result"
    }
   ],
   "source": [
    "explore_columns = ['collection_date', 'geo_loc_name', 'host', 'scientific_name',\n",
    "                   'AST_phenotypes', 'AMR_genotypes_core', 'AMR_genotypes',] \n",
    "\n",
    "df_explore = NCBI_data[explore_columns]\n",
    "df_explore.head()"
   ]
  },
  {
   "cell_type": "code",
   "execution_count": 7,
   "metadata": {},
   "outputs": [
    {
     "name": "stdout",
     "output_type": "stream",
     "text": [
      "Basic information about the data:\n",
      "Number of samples: 340,922\n",
      "Number of samples with phenotype info: 6,642 (1.95%)\n",
      "Number of samples with genotype info: 280,966 (82.41%)\n",
      "Number of samples with both phenotype and genotype info: 5,678 (1.67%)\n",
      "Number of samples with neither phenotype nor genotype info: 58,992 (17.30%)\n"
     ]
    }
   ],
   "source": [
    "print(\"Basic information about the data:\")\n",
    "num_samples = df_explore.shape[0]\n",
    "num_pheno = df_explore['AST_phenotypes'].count()\n",
    "num_genotype = df_explore['AMR_genotypes_core'].count()\n",
    "\n",
    "print(f\"Number of samples: {num_samples:,}\")\n",
    "print(f\"Number of samples with phenotype info: {num_pheno:,} ({num_pheno/num_samples:.2%})\")\n",
    "print(f\"Number of samples with genotype info: {num_genotype:,} ({num_genotype/num_samples:.2%})\")\n",
    "\n",
    "df_overlap = df_explore[df_explore['AMR_genotypes_core'].notnull() & df_explore['AST_phenotypes'].notnull()]\n",
    "num_overlap_samples = df_overlap.shape[0]\n",
    "print(f\"Number of samples with both phenotype and genotype info: {num_overlap_samples:,}\\\n",
    " ({num_overlap_samples/num_samples:.2%})\")\n",
    "\n",
    "df_neither = df_explore[df_explore['AMR_genotypes_core'].isnull() & df_explore['AST_phenotypes'].isnull()]\n",
    "num_neither_samples = df_neither.shape[0]\n",
    "print(f\"Number of samples with neither phenotype nor genotype info: {num_neither_samples:,}\\\n",
    " ({num_neither_samples/num_samples:.2%})\")"
   ]
  },
  {
   "cell_type": "markdown",
   "metadata": {},
   "source": [
    "Explore the genotype data"
   ]
  },
  {
   "cell_type": "markdown",
   "metadata": {},
   "source": [
    "#### Isolate genotype data for parsing  \n",
    "Note: This keeps the index of the orginal dataset"
   ]
  },
  {
   "cell_type": "code",
   "execution_count": 8,
   "metadata": {},
   "outputs": [
    {
     "name": "stdout",
     "output_type": "stream",
     "text": [
      "Number of samples with genotype info: 280,966 (82.41%)\n"
     ]
    },
    {
     "data": {
      "text/html": [
       "<div>\n",
       "<style scoped>\n",
       "    .dataframe tbody tr th:only-of-type {\n",
       "        vertical-align: middle;\n",
       "    }\n",
       "\n",
       "    .dataframe tbody tr th {\n",
       "        vertical-align: top;\n",
       "    }\n",
       "\n",
       "    .dataframe thead th {\n",
       "        text-align: right;\n",
       "    }\n",
       "</style>\n",
       "<table border=\"1\" class=\"dataframe\">\n",
       "  <thead>\n",
       "    <tr style=\"text-align: right;\">\n",
       "      <th></th>\n",
       "      <th>collection_date</th>\n",
       "      <th>geo_loc_name</th>\n",
       "      <th>AMR_genotypes_core</th>\n",
       "    </tr>\n",
       "  </thead>\n",
       "  <tbody>\n",
       "    <tr>\n",
       "      <th>1</th>\n",
       "      <td>NaN</td>\n",
       "      <td>USA</td>\n",
       "      <td>aadA1,sul1,tet(A)</td>\n",
       "    </tr>\n",
       "    <tr>\n",
       "      <th>4</th>\n",
       "      <td>NaN</td>\n",
       "      <td>USA:WA</td>\n",
       "      <td>aph(3'')-Ib,aph(6)-Id,sul2,tet(A)</td>\n",
       "    </tr>\n",
       "    <tr>\n",
       "      <th>6</th>\n",
       "      <td>NaN</td>\n",
       "      <td>Sweden</td>\n",
       "      <td>cyaA_S352T=POINT,uhpT_E350Q=POINT</td>\n",
       "    </tr>\n",
       "    <tr>\n",
       "      <th>8</th>\n",
       "      <td>NaN</td>\n",
       "      <td>USA:WA</td>\n",
       "      <td>parE_D475E=POINT</td>\n",
       "    </tr>\n",
       "    <tr>\n",
       "      <th>9</th>\n",
       "      <td>NaN</td>\n",
       "      <td>USA:WA</td>\n",
       "      <td>uhpT_E350Q=POINT</td>\n",
       "    </tr>\n",
       "  </tbody>\n",
       "</table>\n",
       "</div>"
      ],
      "text/plain": [
       "  collection_date geo_loc_name                 AMR_genotypes_core\n",
       "1             NaN          USA                  aadA1,sul1,tet(A)\n",
       "4             NaN       USA:WA  aph(3'')-Ib,aph(6)-Id,sul2,tet(A)\n",
       "6             NaN       Sweden  cyaA_S352T=POINT,uhpT_E350Q=POINT\n",
       "8             NaN       USA:WA                   parE_D475E=POINT\n",
       "9             NaN       USA:WA                   uhpT_E350Q=POINT"
      ]
     },
     "execution_count": 8,
     "metadata": {},
     "output_type": "execute_result"
    }
   ],
   "source": [
    "dataset_columns = ['collection_date', 'geo_loc_name', 'AMR_genotypes_core']\n",
    "df_geno = df_explore[df_explore['AMR_genotypes_core'].notnull()]\n",
    "num_geno_samples = df_geno.shape[0]\n",
    "print(f\"Number of samples with genotype info: {num_geno_samples:,} ({num_geno_samples/num_samples:.2%})\")\n",
    "df_geno = df_geno[dataset_columns]\n",
    "df_geno.head()"
   ]
  },
  {
   "cell_type": "markdown",
   "metadata": {},
   "source": [
    "**Geo_loc_name**"
   ]
  },
  {
   "cell_type": "markdown",
   "metadata": {},
   "source": [
    "*not determined*, *not collected*, *not provided*, *Not Provided* -> *NaN*"
   ]
  },
  {
   "cell_type": "code",
   "execution_count": 9,
   "metadata": {},
   "outputs": [],
   "source": [
    "# set column as string type\n",
    "alternative_nan = ['not determined', 'not collected', 'not provided', 'Not Provided',\n",
    "                   'OUTPATIENT', 'Not collected', 'Not Collected', 'not available']\n",
    "df_geno.loc[:,'geo_loc_name'] = df_geno['geo_loc_name'].replace(alternative_nan, np.nan) \n",
    "# df_geno['geo_loc_name'].fillna('unknown', inplace=True) # replace NaN with 'unknown', Note: won't function as NaN"
   ]
  },
  {
   "cell_type": "markdown",
   "metadata": {},
   "source": [
    "Remove regional info, after : (colon) or , (comma)"
   ]
  },
  {
   "cell_type": "code",
   "execution_count": 10,
   "metadata": {},
   "outputs": [],
   "source": [
    "df_geno.loc[:,'geo_loc_name'] = df_geno['geo_loc_name'].str.split(',').str[0]\n",
    "df_geno.loc[:,'geo_loc_name'] = df_geno['geo_loc_name'].str.split(':').str[0] \n",
    "df_geno.rename(columns={'geo_loc_name': 'country'}, inplace=True)\n",
    "df_geno.replace('United Kingdom', 'UK', inplace=True)"
   ]
  },
  {
   "cell_type": "markdown",
   "metadata": {},
   "source": [
    "Check distribution of countries, if they constitute more than 0.05% of total samples"
   ]
  },
  {
   "cell_type": "code",
   "execution_count": 11,
   "metadata": {},
   "outputs": [
    {
     "name": "stdout",
     "output_type": "stream",
     "text": [
      "Number of unique countries: 153\n",
      "Number of countries with frequency > 0.5%: 18\n",
      "Share of unknown samples: (21.09%)\n"
     ]
    },
    {
     "data": {
      "image/png": "[encoded data removed]",
      "text/plain": [
       "<Figure size 1000x500 with 1 Axes>"
      ]
     },
     "metadata": {},
     "output_type": "display_data"
    }
   ],
   "source": [
    "percentage_threshold = 0.005\n",
    "frequncy_threshold = int(num_samples * percentage_threshold)\n",
    "country_counts = df_geno['country'].value_counts(dropna=False)\n",
    "df_country_filtered = country_counts[country_counts > frequncy_threshold]\n",
    "print(f\"Number of unique countries: {df_geno['country'].nunique():,}\")\n",
    "print(f\"Number of countries with frequency > {percentage_threshold:.1%}: {df_country_filtered.shape[0]}\")\n",
    "print(f\"Share of unknown samples: ({country_counts[np.nan]/num_geno_samples:.2%})\")\n",
    "\n",
    "ax = df_country_filtered.plot(\n",
    "    kind='bar', figsize=(10, 5), fontsize=10, rot=45\n",
    ")\n",
    "# change yticks to scientific notation\n",
    "ax.ticklabel_format(axis='y', style='sci', scilimits=(3,3))\n",
    "ax.set_yticks(np.arange(0, 91e3, 10e3))\n",
    "ax.set_title('Country distribution', fontsize=15)\n",
    "ax.set_xlabel(f'Country (freq > {percentage_threshold:.1%})', fontsize=10)\n",
    "plt.xticks(fontsize=9)\n",
    "ax.set_ylabel('Number of samples', fontsize=10)\n",
    "if not os.path.exists('results/data/NCBI'):\n",
    "    os.makedirs('results/data/NCBI')\n",
    "ax.figure.savefig('results/data/NCBI/country_distr.png', bbox_inches='tight', dpi=300)"
   ]
  },
  {
   "cell_type": "markdown",
   "metadata": {},
   "source": [
    "**Collection_date**"
   ]
  },
  {
   "cell_type": "markdown",
   "metadata": {},
   "source": [
    "Group **collection date** into years and change name to 'year' "
   ]
  },
  {
   "cell_type": "markdown",
   "metadata": {},
   "source": [
    "Alternative NaN: 'missing'  \n",
    "Most common format is YYYY-MM-DD  \n",
    "In cases of YYYY/YYYY, we take the first year"
   ]
  },
  {
   "cell_type": "code",
   "execution_count": 12,
   "metadata": {},
   "outputs": [],
   "source": [
    "alternative_nan = ['missing']\n",
    "df_geno.loc[:,'collection_date'] = df_geno['collection_date'].replace(alternative_nan, np.nan)\n",
    "df_geno.loc[:,'collection_date'] = df_geno['collection_date'].str.split('-').str[0]\n",
    "df_geno.loc[:,'collection_date'] = df_geno['collection_date'].str.split('/').str[0]\n",
    "df_geno.rename(columns={'collection_date': 'year'}, inplace=True)"
   ]
  },
  {
   "cell_type": "markdown",
   "metadata": {},
   "source": [
    "Filter years earlier than XXXX"
   ]
  },
  {
   "cell_type": "code",
   "execution_count": 13,
   "metadata": {},
   "outputs": [
    {
     "name": "stdout",
     "output_type": "stream",
     "text": [
      "280966\n",
      "Dropping samples before threshold_year 1970\n",
      "Number of samples before 1970: 255 (0.09%)\n",
      "280711\n"
     ]
    }
   ],
   "source": [
    "def filter_years(df, threshold_year):\n",
    "    print(\"Dropping samples before threshold_year\", threshold_year)\n",
    "    # get indices of samples before threshold_year, allows us to keep NaN values\n",
    "    indices = df[df['year'].astype(float) <= threshold_year].index\n",
    "    num_before = len(indices)\n",
    "    # drop samples before threshold_year\n",
    "    df.drop(indices, inplace=True)\n",
    "    print(f\"Number of samples before {threshold_year}: {num_before:,} ({num_before/num_geno_samples:.2%})\")\n",
    "    return df\n",
    "\n",
    "threshold_year = 1970\n",
    "print(df_geno.shape[0])\n",
    "df_geno = filter_years(df_geno, threshold_year)\n",
    "print(df_geno.shape[0])"
   ]
  },
  {
   "cell_type": "markdown",
   "metadata": {},
   "source": [
    "### Investigate distributions"
   ]
  },
  {
   "cell_type": "code",
   "execution_count": 14,
   "metadata": {},
   "outputs": [
    {
     "name": "stdout",
     "output_type": "stream",
     "text": [
      "Number of unique years: 53\n",
      "Number of years with frequency > 0.1%: 27\n",
      "Number of unknown samples 92,339 (32.86%)\n",
      "Earliest year: 1971\n",
      "Latest year: 2023\n"
     ]
    },
    {
     "data": {
      "image/png": "[encoded data removed]",
      "text/plain": [
       "<Figure size 1000x500 with 1 Axes>"
      ]
     },
     "metadata": {},
     "output_type": "display_data"
    }
   ],
   "source": [
    "percentage_threshold = 0.001\n",
    "frequncy_threshold = int(num_samples * percentage_threshold)\n",
    "year_counts = df_geno['year'].value_counts(dropna=False)\n",
    "df_year_filtered = year_counts[year_counts > frequncy_threshold]\n",
    "print(f\"Number of unique years: {df_geno['year'].nunique():,}\")\n",
    "print(f\"Number of years with frequency > {percentage_threshold:.1%}: {df_year_filtered.shape[0]}\")\n",
    "print(f\"Number of unknown samples {year_counts[np.nan]:,} ({year_counts[np.nan]/num_geno_samples:.2%})\")\n",
    "\n",
    "df_geno_notnan = df_geno[df_geno['year'].notnull()].astype({'year': 'int32'})\n",
    "print(f\"Earliest year: {df_geno_notnan['year'].min()}\")\n",
    "print(f\"Latest year: {df_geno_notnan['year'].max()}\")\n",
    "\n",
    "ax = df_year_filtered.sort_index().plot(\n",
    "    kind='bar', figsize=(10, 5), fontsize=10, rot=45\n",
    ")\n",
    "# change yticks to scientific notation\n",
    "ax.ticklabel_format(axis='y', style='sci', scilimits=(3,3))\n",
    "ax.set_yticks(np.arange(0, 91e3, 10e3))\n",
    "ax.set_title('Year distribution', fontsize=15)\n",
    "ax.set_xlabel(f'Year (freq > {percentage_threshold:.1%})', fontsize=10)\n",
    "ax.set_xticklabels(ax.get_xticklabels(), rotation=45, fontsize=8)\n",
    "ax.set_ylabel('Number of samples', fontsize=10)\n",
    "ax.figure.savefig('results/data/NCBI/year_distr.png', bbox_inches='tight', dpi=300)"
   ]
  },
  {
   "cell_type": "markdown",
   "metadata": {},
   "source": [
    "**AMR_genotypes_core**"
   ]
  },
  {
   "cell_type": "code",
   "execution_count": 15,
   "metadata": {},
   "outputs": [],
   "source": [
    "# df_geno = df_explore[df_explore['AMR_genotypes_core'].notnull()]\n",
    "# df_geno = df_geno[dataset_columns]\n",
    "df_geno.rename(columns={'AMR_genotypes_core': 'genotypes'}, inplace=True)"
   ]
  },
  {
   "cell_type": "markdown",
   "metadata": {},
   "source": [
    "Begin by making the column into a list of strings"
   ]
  },
  {
   "cell_type": "code",
   "execution_count": 16,
   "metadata": {},
   "outputs": [
    {
     "data": {
      "text/plain": [
       "1                      [aadA1, sul1, tet(A)]\n",
       "4     [aph(3'')-Ib, aph(6)-Id, sul2, tet(A)]\n",
       "6       [cyaA_S352T=POINT, uhpT_E350Q=POINT]\n",
       "8                         [parE_D475E=POINT]\n",
       "9                         [uhpT_E350Q=POINT]\n",
       "12                 [parC_A56T=POINT, tet(A)]\n",
       "14                        [parE_I355T=POINT]\n",
       "16    [aph(3'')-Ib, aph(6)-Id, sul2, tet(B)]\n",
       "19          [aph(3'')-Ib, aph(6)-Id, tet(B)]\n",
       "20          [aph(3'')-Ib, aph(6)-Id, tet(B)]\n",
       "Name: genotypes, dtype: object"
      ]
     },
     "execution_count": 16,
     "metadata": {},
     "output_type": "execute_result"
    }
   ],
   "source": [
    "df_geno.loc[:,'genotypes'] = df_geno['genotypes'].str.split(',')\n",
    "df_geno['genotypes'].head(n=10)"
   ]
  },
  {
   "cell_type": "code",
   "execution_count": 17,
   "metadata": {},
   "outputs": [
    {
     "data": {
      "text/html": [
       "<div>\n",
       "<style scoped>\n",
       "    .dataframe tbody tr th:only-of-type {\n",
       "        vertical-align: middle;\n",
       "    }\n",
       "\n",
       "    .dataframe tbody tr th {\n",
       "        vertical-align: top;\n",
       "    }\n",
       "\n",
       "    .dataframe thead th {\n",
       "        text-align: right;\n",
       "    }\n",
       "</style>\n",
       "<table border=\"1\" class=\"dataframe\">\n",
       "  <thead>\n",
       "    <tr style=\"text-align: right;\">\n",
       "      <th></th>\n",
       "      <th>year</th>\n",
       "      <th>country</th>\n",
       "      <th>genotypes</th>\n",
       "      <th>num_genotypes</th>\n",
       "    </tr>\n",
       "  </thead>\n",
       "  <tbody>\n",
       "    <tr>\n",
       "      <th>1</th>\n",
       "      <td>NaN</td>\n",
       "      <td>USA</td>\n",
       "      <td>[aadA1, sul1, tet(A)]</td>\n",
       "      <td>3</td>\n",
       "    </tr>\n",
       "    <tr>\n",
       "      <th>4</th>\n",
       "      <td>NaN</td>\n",
       "      <td>USA</td>\n",
       "      <td>[aph(3'')-Ib, aph(6)-Id, sul2, tet(A)]</td>\n",
       "      <td>4</td>\n",
       "    </tr>\n",
       "    <tr>\n",
       "      <th>6</th>\n",
       "      <td>NaN</td>\n",
       "      <td>Sweden</td>\n",
       "      <td>[cyaA_S352T=POINT, uhpT_E350Q=POINT]</td>\n",
       "      <td>2</td>\n",
       "    </tr>\n",
       "    <tr>\n",
       "      <th>8</th>\n",
       "      <td>NaN</td>\n",
       "      <td>USA</td>\n",
       "      <td>[parE_D475E=POINT]</td>\n",
       "      <td>1</td>\n",
       "    </tr>\n",
       "    <tr>\n",
       "      <th>9</th>\n",
       "      <td>NaN</td>\n",
       "      <td>USA</td>\n",
       "      <td>[uhpT_E350Q=POINT]</td>\n",
       "      <td>1</td>\n",
       "    </tr>\n",
       "  </tbody>\n",
       "</table>\n",
       "</div>"
      ],
      "text/plain": [
       "  year country                               genotypes  num_genotypes\n",
       "1  NaN     USA                   [aadA1, sul1, tet(A)]              3\n",
       "4  NaN     USA  [aph(3'')-Ib, aph(6)-Id, sul2, tet(A)]              4\n",
       "6  NaN  Sweden    [cyaA_S352T=POINT, uhpT_E350Q=POINT]              2\n",
       "8  NaN     USA                      [parE_D475E=POINT]              1\n",
       "9  NaN     USA                      [uhpT_E350Q=POINT]              1"
      ]
     },
     "execution_count": 17,
     "metadata": {},
     "output_type": "execute_result"
    }
   ],
   "source": [
    "# Create column for number of (unique) genotypes\n",
    "df_geno['num_genotypes'] = df_geno['genotypes'].apply(lambda x: len(set(x)))\n",
    "df_geno.head() "
   ]
  },
  {
   "cell_type": "markdown",
   "metadata": {},
   "source": [
    "Filter samples with too many genes"
   ]
  },
  {
   "cell_type": "markdown",
   "metadata": {},
   "source": [
    "Add column with number of point mutations"
   ]
  },
  {
   "cell_type": "code",
   "execution_count": 18,
   "metadata": {},
   "outputs": [],
   "source": [
    "df_geno['num_point_mutations'] = df_geno['genotypes'].apply(lambda x: len([i for i in x if '=POINT' in i]))"
   ]
  },
  {
   "cell_type": "code",
   "execution_count": 19,
   "metadata": {},
   "outputs": [
    {
     "data": {
      "text/html": [
       "<div>\n",
       "<style scoped>\n",
       "    .dataframe tbody tr th:only-of-type {\n",
       "        vertical-align: middle;\n",
       "    }\n",
       "\n",
       "    .dataframe tbody tr th {\n",
       "        vertical-align: top;\n",
       "    }\n",
       "\n",
       "    .dataframe thead th {\n",
       "        text-align: right;\n",
       "    }\n",
       "</style>\n",
       "<table border=\"1\" class=\"dataframe\">\n",
       "  <thead>\n",
       "    <tr style=\"text-align: right;\">\n",
       "      <th></th>\n",
       "      <th>year</th>\n",
       "      <th>country</th>\n",
       "      <th>genotypes</th>\n",
       "      <th>num_genotypes</th>\n",
       "      <th>num_point_mutations</th>\n",
       "    </tr>\n",
       "  </thead>\n",
       "  <tbody>\n",
       "    <tr>\n",
       "      <th>1</th>\n",
       "      <td>NaN</td>\n",
       "      <td>USA</td>\n",
       "      <td>[aadA1, sul1, tet(A)]</td>\n",
       "      <td>3</td>\n",
       "      <td>0</td>\n",
       "    </tr>\n",
       "    <tr>\n",
       "      <th>4</th>\n",
       "      <td>NaN</td>\n",
       "      <td>USA</td>\n",
       "      <td>[aph(3'')-Ib, aph(6)-Id, sul2, tet(A)]</td>\n",
       "      <td>4</td>\n",
       "      <td>0</td>\n",
       "    </tr>\n",
       "    <tr>\n",
       "      <th>6</th>\n",
       "      <td>NaN</td>\n",
       "      <td>Sweden</td>\n",
       "      <td>[cyaA_S352T=POINT, uhpT_E350Q=POINT]</td>\n",
       "      <td>2</td>\n",
       "      <td>2</td>\n",
       "    </tr>\n",
       "    <tr>\n",
       "      <th>8</th>\n",
       "      <td>NaN</td>\n",
       "      <td>USA</td>\n",
       "      <td>[parE_D475E=POINT]</td>\n",
       "      <td>1</td>\n",
       "      <td>1</td>\n",
       "    </tr>\n",
       "    <tr>\n",
       "      <th>9</th>\n",
       "      <td>NaN</td>\n",
       "      <td>USA</td>\n",
       "      <td>[uhpT_E350Q=POINT]</td>\n",
       "      <td>1</td>\n",
       "      <td>1</td>\n",
       "    </tr>\n",
       "  </tbody>\n",
       "</table>\n",
       "</div>"
      ],
      "text/plain": [
       "  year country                               genotypes  num_genotypes  \\\n",
       "1  NaN     USA                   [aadA1, sul1, tet(A)]              3   \n",
       "4  NaN     USA  [aph(3'')-Ib, aph(6)-Id, sul2, tet(A)]              4   \n",
       "6  NaN  Sweden    [cyaA_S352T=POINT, uhpT_E350Q=POINT]              2   \n",
       "8  NaN     USA                      [parE_D475E=POINT]              1   \n",
       "9  NaN     USA                      [uhpT_E350Q=POINT]              1   \n",
       "\n",
       "   num_point_mutations  \n",
       "1                    0  \n",
       "4                    0  \n",
       "6                    2  \n",
       "8                    1  \n",
       "9                    1  "
      ]
     },
     "execution_count": 19,
     "metadata": {},
     "output_type": "execute_result"
    }
   ],
   "source": [
    "df_geno.head()"
   ]
  },
  {
   "cell_type": "code",
   "execution_count": 20,
   "metadata": {},
   "outputs": [
    {
     "data": {
      "image/png": "[encoded data removed]",
      "text/plain": [
       "<Figure size 1000x500 with 1 Axes>"
      ]
     },
     "metadata": {},
     "output_type": "display_data"
    }
   ],
   "source": [
    "num_pm_counts = df_geno['num_point_mutations'].value_counts().sort_index()\n",
    "# plot distribution of number of genotypes\n",
    "ax = num_pm_counts.plot(\n",
    "    kind='bar', figsize=(10, 5), fontsize=10, rot=0\n",
    ")\n",
    "ax.set_title('Number of point mutations distribution', fontsize=15)\n",
    "ax.set_xlabel('Number of point mutations', fontsize=10)\n",
    "ax.set_ylabel('Number of samples', fontsize=10)\n",
    "ax.ticklabel_format(axis='y', style='sci', scilimits=(3,3))\n",
    "ax.figure.savefig('results/data/NCBI/num_pm_distr.png', bbox_inches='tight', dpi=300)"
   ]
  },
  {
   "cell_type": "code",
   "execution_count": 21,
   "metadata": {},
   "outputs": [
    {
     "name": "stdout",
     "output_type": "stream",
     "text": [
      "{'MISTRANSLATION', 'POINT', 'PARTIAL_END_OF_CONTIG', 'PARTIAL', 'HMM'}\n"
     ]
    }
   ],
   "source": [
    "unique_genotypes = set(chain(*df_geno['genotypes']))\n",
    "print(set([g.split(\"=\")[1] for g in unique_genotypes if '=' in g]))"
   ]
  },
  {
   "cell_type": "code",
   "execution_count": 22,
   "metadata": {},
   "outputs": [
    {
     "name": "stdout",
     "output_type": "stream",
     "text": [
      "Number of unique genes: 1,443\n"
     ]
    }
   ],
   "source": [
    "num_unique_genes = len(unique_genotypes)\n",
    "print(f\"Number of unique genes: {num_unique_genes:,}\")"
   ]
  },
  {
   "cell_type": "markdown",
   "metadata": {},
   "source": [
    "Feature to remove variants, e.g. where there are dashes"
   ]
  },
  {
   "cell_type": "code",
   "execution_count": 23,
   "metadata": {},
   "outputs": [],
   "source": [
    "def remove_genotype_info(df, char: str, view_duplicate_info: bool=False):\n",
    "    print(f\"Splitting genotypes by '{char}', removing it and everything after it\")\n",
    "    old_genotypes = df['genotypes'].copy() # save old genotypes for later\n",
    "    df['genotypes'] = df['genotypes'].apply(lambda x: list(set([g.split(char)[0] for g in x])))\n",
    "    \n",
    "    if view_duplicate_info:\n",
    "        # count number of samples which now have duplicate genotypes\n",
    "        num_duplicates = df['genotypes'].apply(lambda x: len(x) - len(set(x))).sum()\n",
    "        df['num_duplicates'] = df['genotypes'].apply(lambda x: len(x) - len(set(x)))\n",
    "        print(f\"Number of duplicate genotype instances: {num_duplicates:,}\")\n",
    "        print(f\"Number of samples with duplicate genotypes: {df[df['num_duplicates'] > 0].shape[0]:,}\")\n",
    "        print(f\"Maximum number of duplicates in a sample: {df['num_duplicates'].max()}\")\n",
    "        index_max_duplicates = df['num_duplicates'].idxmax()\n",
    "        print(\"Genes in sample with the most duplicates:\")\n",
    "        print(*old_genotypes[index_max_duplicates], sep=\"\\n\") # uncomment to see the genotypes with the most duplicates\n",
    "        # remove duplicates\n",
    "        df['genotypes'] = df['genotypes'].apply(lambda x: list(set(x)))\n",
    "        df.drop(columns=['num_duplicates'], inplace=True)\n",
    "    \n",
    "    return df"
   ]
  },
  {
   "cell_type": "code",
   "execution_count": 24,
   "metadata": {},
   "outputs": [
    {
     "name": "stdout",
     "output_type": "stream",
     "text": [
      "Number of unique genes: 1,443\n",
      "Splitting genotypes by '-', removing it and everything after it\n",
      "Number of duplicate genotype instances: 0\n",
      "Number of samples with duplicate genotypes: 0\n",
      "Maximum number of duplicates in a sample: 0\n",
      "Genes in sample with the most duplicates:\n",
      "aadA1\n",
      "sul1\n",
      "tet(A)\n",
      "Number of unique genes without extra info: 887\n"
     ]
    }
   ],
   "source": [
    "print(f\"Number of unique genes: {len(set(chain(*df_geno['genotypes']))):,}\")\n",
    "remove_extra_genotype_info = True\n",
    "if remove_extra_genotype_info:\n",
    "    df_geno = remove_genotype_info(df_geno, '-', view_duplicate_info=True)\n",
    "    print(f\"Number of unique genes without extra info: {len(set(chain(*df_geno['genotypes']))):,}\")"
   ]
  },
  {
   "cell_type": "markdown",
   "metadata": {},
   "source": [
    "Feature to remove assembly variations, e.g. partials, mistranslation variants and HMM "
   ]
  },
  {
   "cell_type": "code",
   "execution_count": 25,
   "metadata": {},
   "outputs": [
    {
     "name": "stdout",
     "output_type": "stream",
     "text": [
      "Removing genotypes with assembly variants: ['=PARTIAL', '=MISTRANSLATION', '=HMM']\n",
      "Number of unique genes without assembly variants: 697\n"
     ]
    }
   ],
   "source": [
    "exclude_assembly_variants = ['=PARTIAL', '=MISTRANSLATION', '=HMM']\n",
    "print(f\"Removing genotypes with assembly variants: {exclude_assembly_variants}\")\n",
    "df_geno['genotypes'] = df_geno['genotypes'].apply(lambda x: [g for g in x if not g.endswith(tuple(exclude_assembly_variants))]) \n",
    "df_geno = df_geno[df_geno['genotypes'].apply(lambda x: len(x) > 0)] # Remove any rows where genotypes are empty\n",
    "print(f\"Number of unique genes without assembly variants: {len(set(chain(*df_geno['genotypes']))):,}\")"
   ]
  },
  {
   "cell_type": "markdown",
   "metadata": {},
   "source": [
    "Feature to remove redundancies where there is, for example, **genotype** *and* **genotype=PARTIAL_END_OF_CONTIG**,  \n",
    "but keep **genotype=PARTIAL_END_OF_CONTIG** when **genotype** is not present"
   ]
  },
  {
   "cell_type": "code",
   "execution_count": 26,
   "metadata": {},
   "outputs": [
    {
     "name": "stdout",
     "output_type": "stream",
     "text": [
      "['mph(A)', 'tet(A)', 'blaOXA=PARTIAL_END_OF_CONTIG', 'blaCTX', 'parE_L416F=POINT', \"aac(6')\", 'sul1', 'blaTEM', 'aph(6)', 'gyrA_D87N=POINT', \"aph(3'')\", 'dfrA17', 'parC_S80I=POINT', 'sul2', 'blaOXA', 'dfrA14', 'catB3=PARTIAL_END_OF_CONTIG', 'tet(B)', 'aadA5', 'gyrA_S83L=POINT']\n",
      "['cyaA_S352T=POINT', 'blaCMY=PARTIAL_END_OF_CONTIG', 'tet(B)', 'sul2']\n",
      "Maximum number of genotypes in a sample: 48\n"
     ]
    }
   ],
   "source": [
    "print(df_geno.loc[7271, 'genotypes'])\n",
    "print(df_geno.loc[37, 'genotypes'])\n",
    "print(f\"Maximum number of genotypes in a sample: {df_geno['num_genotypes'].max()}\")"
   ]
  },
  {
   "cell_type": "code",
   "execution_count": 27,
   "metadata": {},
   "outputs": [],
   "source": [
    "assembly_chars = ['=PARTIAL', '=MISTRANSLATION', '=HMM', '=PARTIAL_END_OF_CONTIG']\n",
    "df_geno['genotypes'] = df_geno['genotypes'].apply(lambda x: list(set(x) - set([g for g in x if g.endswith(tuple(assembly_chars)) and g.split(\"=\")[0] in x])))"
   ]
  },
  {
   "cell_type": "code",
   "execution_count": 28,
   "metadata": {},
   "outputs": [
    {
     "name": "stdout",
     "output_type": "stream",
     "text": [
      "['mph(A)', 'tet(A)', \"aph(3'')\", 'dfrA17', 'parC_S80I=POINT', 'sul2', 'blaOXA', 'blaCTX', 'dfrA14', 'parE_L416F=POINT', 'catB3=PARTIAL_END_OF_CONTIG', 'aadA5', \"aac(6')\", 'sul1', 'blaTEM', 'tet(B)', 'aph(6)', 'gyrA_S83L=POINT', 'gyrA_D87N=POINT']\n",
      "['cyaA_S352T=POINT', 'blaCMY=PARTIAL_END_OF_CONTIG', 'tet(B)', 'sul2']\n",
      "Maximum number of genotypes in a sample: 48\n"
     ]
    }
   ],
   "source": [
    "print(df_geno.loc[7271, 'genotypes'])\n",
    "print(df_geno.loc[37, 'genotypes'])\n",
    "print(f\"Maximum number of genotypes in a sample: {df_geno['num_genotypes'].max()}\")"
   ]
  },
  {
   "cell_type": "markdown",
   "metadata": {},
   "source": [
    "Check for cases where info is too limited"
   ]
  },
  {
   "cell_type": "code",
   "execution_count": 29,
   "metadata": {},
   "outputs": [
    {
     "name": "stdout",
     "output_type": "stream",
     "text": [
      "Number of samples with only one genotype: 26,554\n",
      "Number of samples with one genotype and max one of (country, year): 10,764\n",
      "Number of samples with one genotype and no other info (country, year): 4,143\n"
     ]
    }
   ],
   "source": [
    "print(f\"Number of samples with only one genotype: {df_geno[df_geno['num_genotypes'] == 1].shape[0]:,}\")\n",
    "print(f\"Number of samples with one genotype and max one of (country, year): {df_geno[(df_geno['num_genotypes'] == 1) & ((df_geno['country'].isnull()) | (df_geno['year'].isnull()))].shape[0]:,}\")\n",
    "print(f\"Number of samples with one genotype and no other info (country, year): {df_geno[(df_geno['num_genotypes'] == 1) & (df_geno['country'].isnull()) & (df_geno['year'].isnull())].shape[0]:,}\")"
   ]
  },
  {
   "cell_type": "markdown",
   "metadata": {},
   "source": [
    "Exclude cases where there is *only* one genotype and **no other info**"
   ]
  },
  {
   "cell_type": "code",
   "execution_count": 30,
   "metadata": {},
   "outputs": [
    {
     "name": "stdout",
     "output_type": "stream",
     "text": [
      "Number of samples with one genotype and no other info (country, year): 4,143\n"
     ]
    }
   ],
   "source": [
    "indices = df_geno[(df_geno['num_genotypes'] == 1) & (df_geno['country'].isnull()) & (df_geno['year'].isnull())].index\n",
    "print(f\"Number of samples with one genotype and no other info (country, year): {len(indices):,}\")\n",
    "df_geno.drop(indices, inplace=True)"
   ]
  },
  {
   "cell_type": "code",
   "execution_count": 31,
   "metadata": {},
   "outputs": [
    {
     "data": {
      "image/png": "[encoded data removed]",
      "text/plain": [
       "<Figure size 1000x500 with 1 Axes>"
      ]
     },
     "metadata": {},
     "output_type": "display_data"
    }
   ],
   "source": [
    "num_gene_counts = df_geno['num_genotypes'].value_counts().sort_index()\n",
    "# plot distribution of number of genotypes\n",
    "ax = num_gene_counts.plot(\n",
    "    kind='bar', figsize=(10, 5), fontsize=8, rot=0\n",
    ")\n",
    "ax.set_title('Number of genotypes distribution', fontsize=15)\n",
    "ax.set_xlabel('Number of genotypes', fontsize=10)\n",
    "ax.set_ylabel('Number of samples', fontsize=10)\n",
    "ax.ticklabel_format(axis='y', style='sci', scilimits=(3,3))\n",
    "ax.figure.savefig('results/data/NCBI/num_genotypes_distr.png', bbox_inches='tight', dpi=300)"
   ]
  },
  {
   "cell_type": "code",
   "execution_count": 32,
   "metadata": {},
   "outputs": [],
   "source": [
    "def filter_gene_counts(df, threshold_num):\n",
    "    print(f\"Dropping samples with more than {threshold_num} genotypes\")\n",
    "    # get indices of samples with more than threshold_num genotypes\n",
    "    indices = df[df['num_genotypes'] > threshold_num].index\n",
    "    num_above = len(indices)\n",
    "    # drop samples with more than threshold_num genotypes\n",
    "    df.drop(indices, inplace=True)\n",
    "    print(f\"Number of samples with more than {threshold_num} genotypes: {num_above:,}\")\n",
    "    return df\n",
    "\n",
    "# df_geno = filter_gene_counts(df_geno, 40)"
   ]
  },
  {
   "cell_type": "code",
   "execution_count": 33,
   "metadata": {},
   "outputs": [
    {
     "data": {
      "text/plain": [
       "223665    [mph(A), catA1, tet(A), blaCTX, parE_L416F=POINT, aadA1=PARTIAL_END_OF_CONTIG, aac(6'), sul1, blaTEM, aph(3'), aph(6), tet(M), aac(3), gyrA_D87N=POINT, floR, qnrB, qnrB4, mcr, aph(3''), dfrA17, blaDHA, parC_S80I=POINT, blaOXA, sul2, dfrA14, sul3, catB3=PARTIAL_END_OF_CONTIG, aadA5, ble, gyrA_S83L=POINT, glpT_E448K=POINT, qnrB1, blaNDM]\n",
       "Name: genotypes, dtype: object"
      ]
     },
     "execution_count": 33,
     "metadata": {},
     "output_type": "execute_result"
    }
   ],
   "source": [
    "df_geno[df_geno['num_genotypes'] == 48]['genotypes'].head()"
   ]
  },
  {
   "cell_type": "markdown",
   "metadata": {},
   "source": [
    "Final dataset"
   ]
  },
  {
   "cell_type": "code",
   "execution_count": 34,
   "metadata": {},
   "outputs": [
    {
     "name": "stdout",
     "output_type": "stream",
     "text": [
      "Final number of samples: 276,445\n"
     ]
    },
    {
     "data": {
      "text/html": [
       "<div>\n",
       "<style scoped>\n",
       "    .dataframe tbody tr th:only-of-type {\n",
       "        vertical-align: middle;\n",
       "    }\n",
       "\n",
       "    .dataframe tbody tr th {\n",
       "        vertical-align: top;\n",
       "    }\n",
       "\n",
       "    .dataframe thead th {\n",
       "        text-align: right;\n",
       "    }\n",
       "</style>\n",
       "<table border=\"1\" class=\"dataframe\">\n",
       "  <thead>\n",
       "    <tr style=\"text-align: right;\">\n",
       "      <th></th>\n",
       "      <th>year</th>\n",
       "      <th>country</th>\n",
       "      <th>genotypes</th>\n",
       "      <th>num_genotypes</th>\n",
       "      <th>num_point_mutations</th>\n",
       "    </tr>\n",
       "  </thead>\n",
       "  <tbody>\n",
       "    <tr>\n",
       "      <th>1</th>\n",
       "      <td>NaN</td>\n",
       "      <td>USA</td>\n",
       "      <td>[sul1, aadA1, tet(A)]</td>\n",
       "      <td>3</td>\n",
       "      <td>0</td>\n",
       "    </tr>\n",
       "    <tr>\n",
       "      <th>4</th>\n",
       "      <td>NaN</td>\n",
       "      <td>USA</td>\n",
       "      <td>[sul2, aph(6), tet(A), aph(3'')]</td>\n",
       "      <td>4</td>\n",
       "      <td>0</td>\n",
       "    </tr>\n",
       "    <tr>\n",
       "      <th>6</th>\n",
       "      <td>NaN</td>\n",
       "      <td>Sweden</td>\n",
       "      <td>[cyaA_S352T=POINT, uhpT_E350Q=POINT]</td>\n",
       "      <td>2</td>\n",
       "      <td>2</td>\n",
       "    </tr>\n",
       "    <tr>\n",
       "      <th>8</th>\n",
       "      <td>NaN</td>\n",
       "      <td>USA</td>\n",
       "      <td>[parE_D475E=POINT]</td>\n",
       "      <td>1</td>\n",
       "      <td>1</td>\n",
       "    </tr>\n",
       "    <tr>\n",
       "      <th>9</th>\n",
       "      <td>NaN</td>\n",
       "      <td>USA</td>\n",
       "      <td>[uhpT_E350Q=POINT]</td>\n",
       "      <td>1</td>\n",
       "      <td>1</td>\n",
       "    </tr>\n",
       "    <tr>\n",
       "      <th>12</th>\n",
       "      <td>NaN</td>\n",
       "      <td>USA</td>\n",
       "      <td>[parC_A56T=POINT, tet(A)]</td>\n",
       "      <td>2</td>\n",
       "      <td>1</td>\n",
       "    </tr>\n",
       "    <tr>\n",
       "      <th>14</th>\n",
       "      <td>NaN</td>\n",
       "      <td>Sweden</td>\n",
       "      <td>[parE_I355T=POINT]</td>\n",
       "      <td>1</td>\n",
       "      <td>1</td>\n",
       "    </tr>\n",
       "    <tr>\n",
       "      <th>16</th>\n",
       "      <td>NaN</td>\n",
       "      <td>Indonesia</td>\n",
       "      <td>[sul2, aph(6), tet(B), aph(3'')]</td>\n",
       "      <td>4</td>\n",
       "      <td>0</td>\n",
       "    </tr>\n",
       "    <tr>\n",
       "      <th>19</th>\n",
       "      <td>NaN</td>\n",
       "      <td>USA</td>\n",
       "      <td>[aph(6), tet(B), aph(3'')]</td>\n",
       "      <td>3</td>\n",
       "      <td>0</td>\n",
       "    </tr>\n",
       "    <tr>\n",
       "      <th>20</th>\n",
       "      <td>NaN</td>\n",
       "      <td>Canada</td>\n",
       "      <td>[aph(6), tet(B), aph(3'')]</td>\n",
       "      <td>3</td>\n",
       "      <td>0</td>\n",
       "    </tr>\n",
       "    <tr>\n",
       "      <th>21</th>\n",
       "      <td>NaN</td>\n",
       "      <td>USA</td>\n",
       "      <td>[blaEC]</td>\n",
       "      <td>1</td>\n",
       "      <td>0</td>\n",
       "    </tr>\n",
       "    <tr>\n",
       "      <th>24</th>\n",
       "      <td>NaN</td>\n",
       "      <td>USA</td>\n",
       "      <td>[cyaA_S352T=POINT, parE_I355T=POINT, uhpT_E350Q=POINT]</td>\n",
       "      <td>3</td>\n",
       "      <td>3</td>\n",
       "    </tr>\n",
       "    <tr>\n",
       "      <th>25</th>\n",
       "      <td>NaN</td>\n",
       "      <td>USA</td>\n",
       "      <td>[cyaA_S352T=POINT, tet(C), uhpT_E350Q=POINT, parE_I355T=POINT]</td>\n",
       "      <td>4</td>\n",
       "      <td>3</td>\n",
       "    </tr>\n",
       "    <tr>\n",
       "      <th>26</th>\n",
       "      <td>NaN</td>\n",
       "      <td>USA</td>\n",
       "      <td>[sul1, catA1, aph(3'), aadA1]</td>\n",
       "      <td>4</td>\n",
       "      <td>0</td>\n",
       "    </tr>\n",
       "    <tr>\n",
       "      <th>27</th>\n",
       "      <td>NaN</td>\n",
       "      <td>USA</td>\n",
       "      <td>[cyaA_S352T=POINT, parC_S57T=POINT]</td>\n",
       "      <td>2</td>\n",
       "      <td>2</td>\n",
       "    </tr>\n",
       "    <tr>\n",
       "      <th>28</th>\n",
       "      <td>NaN</td>\n",
       "      <td>USA</td>\n",
       "      <td>[uhpT_E350Q=POINT, tet(B)]</td>\n",
       "      <td>2</td>\n",
       "      <td>1</td>\n",
       "    </tr>\n",
       "    <tr>\n",
       "      <th>29</th>\n",
       "      <td>NaN</td>\n",
       "      <td>Papua New Guinea</td>\n",
       "      <td>[cyaA_S352T=POINT, parC_S57T=POINT]</td>\n",
       "      <td>2</td>\n",
       "      <td>2</td>\n",
       "    </tr>\n",
       "    <tr>\n",
       "      <th>30</th>\n",
       "      <td>NaN</td>\n",
       "      <td>Sweden</td>\n",
       "      <td>[cyaA_S352T=POINT]</td>\n",
       "      <td>1</td>\n",
       "      <td>1</td>\n",
       "    </tr>\n",
       "    <tr>\n",
       "      <th>31</th>\n",
       "      <td>NaN</td>\n",
       "      <td>Sweden</td>\n",
       "      <td>[cyaA_S352T=POINT]</td>\n",
       "      <td>1</td>\n",
       "      <td>1</td>\n",
       "    </tr>\n",
       "    <tr>\n",
       "      <th>32</th>\n",
       "      <td>NaN</td>\n",
       "      <td>USA</td>\n",
       "      <td>[blaEC]</td>\n",
       "      <td>1</td>\n",
       "      <td>0</td>\n",
       "    </tr>\n",
       "    <tr>\n",
       "      <th>34</th>\n",
       "      <td>2013</td>\n",
       "      <td>USA</td>\n",
       "      <td>[sul1, blaTEM, aph(3'), aph(6), aph(3''), aadA1, sul2, aac(3), tet(B)]</td>\n",
       "      <td>9</td>\n",
       "      <td>0</td>\n",
       "    </tr>\n",
       "    <tr>\n",
       "      <th>35</th>\n",
       "      <td>2013</td>\n",
       "      <td>USA</td>\n",
       "      <td>[sul1, blaTEM, aph(3'), aph(6), aph(3''), aadA1, sul2, aac(3), tet(B)]</td>\n",
       "      <td>9</td>\n",
       "      <td>0</td>\n",
       "    </tr>\n",
       "    <tr>\n",
       "      <th>36</th>\n",
       "      <td>2013</td>\n",
       "      <td>USA</td>\n",
       "      <td>[blaTEM, aph(6), tet(B), aph(3'')]</td>\n",
       "      <td>4</td>\n",
       "      <td>0</td>\n",
       "    </tr>\n",
       "    <tr>\n",
       "      <th>37</th>\n",
       "      <td>2013</td>\n",
       "      <td>USA</td>\n",
       "      <td>[cyaA_S352T=POINT, blaCMY=PARTIAL_END_OF_CONTIG, tet(B), sul2]</td>\n",
       "      <td>4</td>\n",
       "      <td>1</td>\n",
       "    </tr>\n",
       "    <tr>\n",
       "      <th>38</th>\n",
       "      <td>2013</td>\n",
       "      <td>USA</td>\n",
       "      <td>[tet(B)]</td>\n",
       "      <td>1</td>\n",
       "      <td>0</td>\n",
       "    </tr>\n",
       "    <tr>\n",
       "      <th>39</th>\n",
       "      <td>2013</td>\n",
       "      <td>USA</td>\n",
       "      <td>[blaTEM, aph(6), tet(A), aph(3''), aac(3), aadA1, tet(B)]</td>\n",
       "      <td>7</td>\n",
       "      <td>0</td>\n",
       "    </tr>\n",
       "    <tr>\n",
       "      <th>40</th>\n",
       "      <td>2013</td>\n",
       "      <td>USA</td>\n",
       "      <td>[sul1, blaTEM, aph(3'), aph(6), aph(3''), aadA1, sul2, aac(3), tet(B)]</td>\n",
       "      <td>11</td>\n",
       "      <td>0</td>\n",
       "    </tr>\n",
       "    <tr>\n",
       "      <th>41</th>\n",
       "      <td>2013</td>\n",
       "      <td>USA</td>\n",
       "      <td>[sul1, blaTEM, aph(3'), aph(6), aph(3''), aadA1, sul2, aac(3), tet(B)]</td>\n",
       "      <td>9</td>\n",
       "      <td>0</td>\n",
       "    </tr>\n",
       "    <tr>\n",
       "      <th>42</th>\n",
       "      <td>2013</td>\n",
       "      <td>USA</td>\n",
       "      <td>[sul1, blaTEM, aph(3'), aph(6), aph(3''), aadA1, sul2, aac(3), tet(B)]</td>\n",
       "      <td>9</td>\n",
       "      <td>0</td>\n",
       "    </tr>\n",
       "    <tr>\n",
       "      <th>43</th>\n",
       "      <td>2013</td>\n",
       "      <td>USA</td>\n",
       "      <td>[gyrA_S83L=POINT, aph(3'), aph(6), sul2, aph(3''), blaCMY, tet(B)]</td>\n",
       "      <td>7</td>\n",
       "      <td>1</td>\n",
       "    </tr>\n",
       "  </tbody>\n",
       "</table>\n",
       "</div>"
      ],
      "text/plain": [
       "    year           country  \\\n",
       "1    NaN               USA   \n",
       "4    NaN               USA   \n",
       "6    NaN            Sweden   \n",
       "8    NaN               USA   \n",
       "9    NaN               USA   \n",
       "12   NaN               USA   \n",
       "14   NaN            Sweden   \n",
       "16   NaN         Indonesia   \n",
       "19   NaN               USA   \n",
       "20   NaN            Canada   \n",
       "21   NaN               USA   \n",
       "24   NaN               USA   \n",
       "25   NaN               USA   \n",
       "26   NaN               USA   \n",
       "27   NaN               USA   \n",
       "28   NaN               USA   \n",
       "29   NaN  Papua New Guinea   \n",
       "30   NaN            Sweden   \n",
       "31   NaN            Sweden   \n",
       "32   NaN               USA   \n",
       "34  2013               USA   \n",
       "35  2013               USA   \n",
       "36  2013               USA   \n",
       "37  2013               USA   \n",
       "38  2013               USA   \n",
       "39  2013               USA   \n",
       "40  2013               USA   \n",
       "41  2013               USA   \n",
       "42  2013               USA   \n",
       "43  2013               USA   \n",
       "\n",
       "                                                                 genotypes  \\\n",
       "1                                                    [sul1, aadA1, tet(A)]   \n",
       "4                                         [sul2, aph(6), tet(A), aph(3'')]   \n",
       "6                                     [cyaA_S352T=POINT, uhpT_E350Q=POINT]   \n",
       "8                                                       [parE_D475E=POINT]   \n",
       "9                                                       [uhpT_E350Q=POINT]   \n",
       "12                                               [parC_A56T=POINT, tet(A)]   \n",
       "14                                                      [parE_I355T=POINT]   \n",
       "16                                        [sul2, aph(6), tet(B), aph(3'')]   \n",
       "19                                              [aph(6), tet(B), aph(3'')]   \n",
       "20                                              [aph(6), tet(B), aph(3'')]   \n",
       "21                                                                 [blaEC]   \n",
       "24                  [cyaA_S352T=POINT, parE_I355T=POINT, uhpT_E350Q=POINT]   \n",
       "25          [cyaA_S352T=POINT, tet(C), uhpT_E350Q=POINT, parE_I355T=POINT]   \n",
       "26                                           [sul1, catA1, aph(3'), aadA1]   \n",
       "27                                     [cyaA_S352T=POINT, parC_S57T=POINT]   \n",
       "28                                              [uhpT_E350Q=POINT, tet(B)]   \n",
       "29                                     [cyaA_S352T=POINT, parC_S57T=POINT]   \n",
       "30                                                      [cyaA_S352T=POINT]   \n",
       "31                                                      [cyaA_S352T=POINT]   \n",
       "32                                                                 [blaEC]   \n",
       "34  [sul1, blaTEM, aph(3'), aph(6), aph(3''), aadA1, sul2, aac(3), tet(B)]   \n",
       "35  [sul1, blaTEM, aph(3'), aph(6), aph(3''), aadA1, sul2, aac(3), tet(B)]   \n",
       "36                                      [blaTEM, aph(6), tet(B), aph(3'')]   \n",
       "37          [cyaA_S352T=POINT, blaCMY=PARTIAL_END_OF_CONTIG, tet(B), sul2]   \n",
       "38                                                                [tet(B)]   \n",
       "39               [blaTEM, aph(6), tet(A), aph(3''), aac(3), aadA1, tet(B)]   \n",
       "40  [sul1, blaTEM, aph(3'), aph(6), aph(3''), aadA1, sul2, aac(3), tet(B)]   \n",
       "41  [sul1, blaTEM, aph(3'), aph(6), aph(3''), aadA1, sul2, aac(3), tet(B)]   \n",
       "42  [sul1, blaTEM, aph(3'), aph(6), aph(3''), aadA1, sul2, aac(3), tet(B)]   \n",
       "43      [gyrA_S83L=POINT, aph(3'), aph(6), sul2, aph(3''), blaCMY, tet(B)]   \n",
       "\n",
       "    num_genotypes  num_point_mutations  \n",
       "1               3                    0  \n",
       "4               4                    0  \n",
       "6               2                    2  \n",
       "8               1                    1  \n",
       "9               1                    1  \n",
       "12              2                    1  \n",
       "14              1                    1  \n",
       "16              4                    0  \n",
       "19              3                    0  \n",
       "20              3                    0  \n",
       "21              1                    0  \n",
       "24              3                    3  \n",
       "25              4                    3  \n",
       "26              4                    0  \n",
       "27              2                    2  \n",
       "28              2                    1  \n",
       "29              2                    2  \n",
       "30              1                    1  \n",
       "31              1                    1  \n",
       "32              1                    0  \n",
       "34              9                    0  \n",
       "35              9                    0  \n",
       "36              4                    0  \n",
       "37              4                    1  \n",
       "38              1                    0  \n",
       "39              7                    0  \n",
       "40             11                    0  \n",
       "41              9                    0  \n",
       "42              9                    0  \n",
       "43              7                    1  "
      ]
     },
     "execution_count": 34,
     "metadata": {},
     "output_type": "execute_result"
    }
   ],
   "source": [
    "print(f\"Final number of samples: {df_geno.shape[0]:,}\")\n",
    "df_geno.head(n=30)"
   ]
  },
  {
   "cell_type": "markdown",
   "metadata": {},
   "source": [
    "Write processed genotype data to .csv"
   ]
  },
  {
   "cell_type": "code",
   "execution_count": 35,
   "metadata": {},
   "outputs": [],
   "source": [
    "# path = 'data/NCBI_genotype_parsed.pkl'\n",
    "# df_geno.to_pickle(path)"
   ]
  },
  {
   "cell_type": "markdown",
   "metadata": {},
   "source": [
    "Count gene occurences"
   ]
  },
  {
   "cell_type": "code",
   "execution_count": 36,
   "metadata": {},
   "outputs": [
    {
     "name": "stdout",
     "output_type": "stream",
     "text": [
      "Number of unique genotypes: 685\n",
      "[('glpT_E448K=POINT', 163056), ('sul2', 111195), ('aph(6)', 106303), (\"aph(3'')\", 105828), ('blaTEM', 96206), ('tet(A)', 96016), ('gyrA_S83L=POINT', 92342), ('sul1', 71308), ('blaCTX', 70114), ('parC_S80I=POINT', 66982)]\n",
      "Number of genotypes with frequency > 5: 399\n"
     ]
    }
   ],
   "source": [
    "# get all unique genotypes\n",
    "unique_genotypes = set(chain(*df_geno['genotypes']))\n",
    "print(f\"Number of unique genotypes: {len(unique_genotypes):,}\")\n",
    "counter = Counter(chain(*df_geno['genotypes']))\n",
    "print(counter.most_common(10))\n",
    "frequncy_threshold = 5\n",
    "print(f\"Number of genotypes with frequency > {frequncy_threshold}: {len([i for i in counter.values() if i > frequncy_threshold]):,}\")"
   ]
  }
 ],
 "metadata": {
  "kernelspec": {
   "display_name": "ARFusion",
   "language": "python",
   "name": "python3"
  },
  "language_info": {
   "codemirror_mode": {
    "name": "ipython",
    "version": 3
   },
   "file_extension": ".py",
   "mimetype": "text/x-python",
   "name": "python",
   "nbconvert_exporter": "python",
   "pygments_lexer": "ipython3",
   "version": "3.11.5"
  }
 },
 "nbformat": 4,
 "nbformat_minor": 2
}
